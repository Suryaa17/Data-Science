{
 "cells": [
  {
   "cell_type": "code",
   "execution_count": 1,
   "id": "f7c8d631",
   "metadata": {},
   "outputs": [
    {
     "name": "stdout",
     "output_type": "stream",
     "text": [
      "[2, 3]\n"
     ]
    }
   ],
   "source": [
    "li = [1,2,3,4,5]\n",
    "print(li[1:3])"
   ]
  },
  {
   "cell_type": "code",
   "execution_count": 2,
   "id": "91e1819f",
   "metadata": {},
   "outputs": [
    {
     "name": "stdout",
     "output_type": "stream",
     "text": [
      "uryaa\n"
     ]
    }
   ],
   "source": [
    "li = [1,3.4,\"suryaa\"]\n",
    "print(li[2][1:])"
   ]
  },
  {
   "cell_type": "code",
   "execution_count": 3,
   "id": "2e6550e2",
   "metadata": {},
   "outputs": [
    {
     "name": "stdout",
     "output_type": "stream",
     "text": [
      "ury\n"
     ]
    }
   ],
   "source": [
    "li = [1,3.4,\"suryaa\"]\n",
    "print(li[2][1:4])"
   ]
  },
  {
   "cell_type": "markdown",
   "id": "94762e2d",
   "metadata": {},
   "source": [
    "# Nested list"
   ]
  },
  {
   "cell_type": "code",
   "execution_count": 5,
   "id": "bc813616",
   "metadata": {},
   "outputs": [],
   "source": [
    "li = [1,3.4,[1,2,3]]"
   ]
  },
  {
   "cell_type": "code",
   "execution_count": 6,
   "id": "2cd9dedc",
   "metadata": {},
   "outputs": [
    {
     "name": "stdout",
     "output_type": "stream",
     "text": [
      "3\n"
     ]
    }
   ],
   "source": [
    "print(li[2][2])"
   ]
  },
  {
   "cell_type": "code",
   "execution_count": 7,
   "id": "a4711551",
   "metadata": {},
   "outputs": [
    {
     "name": "stdout",
     "output_type": "stream",
     "text": [
      "2\n"
     ]
    }
   ],
   "source": [
    "print(li[2][1])"
   ]
  },
  {
   "cell_type": "code",
   "execution_count": 10,
   "id": "9bcc4f05",
   "metadata": {},
   "outputs": [],
   "source": [
    "li = ['s','u','r','y','a','a']"
   ]
  },
  {
   "cell_type": "code",
   "execution_count": 11,
   "id": "6af69aa0",
   "metadata": {},
   "outputs": [
    {
     "name": "stdout",
     "output_type": "stream",
     "text": [
      "['r', 'y', 'a', 'a']\n"
     ]
    }
   ],
   "source": [
    "print(li[2:])"
   ]
  },
  {
   "cell_type": "code",
   "execution_count": 12,
   "id": "319ef1a1",
   "metadata": {},
   "outputs": [
    {
     "name": "stdout",
     "output_type": "stream",
     "text": [
      "['s', 'u', 'r']\n"
     ]
    }
   ],
   "source": [
    "print(li[:3])"
   ]
  },
  {
   "cell_type": "code",
   "execution_count": 13,
   "id": "2f6bdc2b",
   "metadata": {},
   "outputs": [
    {
     "name": "stdout",
     "output_type": "stream",
     "text": [
      "['s', 'u', 'r', 'y', 'a', 'a']\n"
     ]
    }
   ],
   "source": [
    "print(li)"
   ]
  },
  {
   "cell_type": "markdown",
   "id": "ce971818",
   "metadata": {},
   "source": [
    "# Append"
   ]
  },
  {
   "cell_type": "code",
   "execution_count": 14,
   "id": "b8769db0",
   "metadata": {},
   "outputs": [],
   "source": [
    "li = [1,2,3,4,5,6]"
   ]
  },
  {
   "cell_type": "code",
   "execution_count": 23,
   "id": "9e756b42",
   "metadata": {},
   "outputs": [
    {
     "name": "stdout",
     "output_type": "stream",
     "text": [
      "[1, 2, 3, 4, 5, 6, 7]\n"
     ]
    }
   ],
   "source": [
    "li.append(7)\n",
    "print(li)"
   ]
  },
  {
   "cell_type": "code",
   "execution_count": 24,
   "id": "ebd266bd",
   "metadata": {},
   "outputs": [
    {
     "name": "stdout",
     "output_type": "stream",
     "text": [
      "[1, 2, 3, 4, 5, 6, 7, 8]\n"
     ]
    }
   ],
   "source": [
    "li.append(8)\n",
    "print(li)"
   ]
  },
  {
   "cell_type": "code",
   "execution_count": 25,
   "id": "29893a5f",
   "metadata": {},
   "outputs": [
    {
     "name": "stdout",
     "output_type": "stream",
     "text": [
      "[1, 2, 3, 4, 5, 6, 7, 8, [9, 10, 11]]\n"
     ]
    }
   ],
   "source": [
    "li.append([9,10,11])\n",
    "print(li)"
   ]
  },
  {
   "cell_type": "markdown",
   "id": "31c02a9e",
   "metadata": {},
   "source": [
    "# Extend"
   ]
  },
  {
   "cell_type": "code",
   "execution_count": 26,
   "id": "6209c771",
   "metadata": {},
   "outputs": [],
   "source": [
    "li = [1,2,3,4,5]"
   ]
  },
  {
   "cell_type": "code",
   "execution_count": 28,
   "id": "fbbe3f64",
   "metadata": {},
   "outputs": [
    {
     "name": "stdout",
     "output_type": "stream",
     "text": [
      "[1, 2, 3, 4, 5, 6, 7, 8]\n"
     ]
    }
   ],
   "source": [
    "li.extend([6,7,8])\n",
    "print(li)"
   ]
  },
  {
   "cell_type": "code",
   "execution_count": 29,
   "id": "9d199135",
   "metadata": {},
   "outputs": [
    {
     "name": "stdout",
     "output_type": "stream",
     "text": [
      "[1, 2, 3, 4, 5, 6, 7, 8, 9, 'suryaa', 2.5]\n"
     ]
    }
   ],
   "source": [
    "li.extend([9,\"suryaa\",2.5])\n",
    "print(li)"
   ]
  },
  {
   "cell_type": "markdown",
   "id": "4ca463a3",
   "metadata": {},
   "source": [
    "# Delete"
   ]
  },
  {
   "cell_type": "code",
   "execution_count": 30,
   "id": "6e107588",
   "metadata": {},
   "outputs": [],
   "source": [
    "li = [1,2,3,5,\"suryaa\"]"
   ]
  },
  {
   "cell_type": "code",
   "execution_count": 36,
   "id": "58258edf",
   "metadata": {},
   "outputs": [
    {
     "name": "stdout",
     "output_type": "stream",
     "text": [
      "[1, 2, 3, 'suryaa']\n"
     ]
    }
   ],
   "source": [
    "del li[3]\n",
    "print(li)"
   ]
  },
  {
   "cell_type": "code",
   "execution_count": 37,
   "id": "a700a364",
   "metadata": {},
   "outputs": [
    {
     "name": "stdout",
     "output_type": "stream",
     "text": [
      "[1, 2, 'suryaa']\n"
     ]
    }
   ],
   "source": [
    "del li[2]\n",
    "print(li)"
   ]
  },
  {
   "cell_type": "markdown",
   "id": "f156b099",
   "metadata": {},
   "source": [
    "# Remove"
   ]
  },
  {
   "cell_type": "code",
   "execution_count": 38,
   "id": "21674786",
   "metadata": {},
   "outputs": [],
   "source": [
    "li = [1,2,3,4,5,\"suryaa\"]"
   ]
  },
  {
   "cell_type": "code",
   "execution_count": 39,
   "id": "861d417b",
   "metadata": {},
   "outputs": [
    {
     "name": "stdout",
     "output_type": "stream",
     "text": [
      "[1, 2, 3, 4, 5]\n"
     ]
    }
   ],
   "source": [
    "li.remove(\"suryaa\")\n",
    "print(li)"
   ]
  },
  {
   "cell_type": "code",
   "execution_count": 40,
   "id": "e4c233d5",
   "metadata": {},
   "outputs": [
    {
     "name": "stdout",
     "output_type": "stream",
     "text": [
      "[2, 3, 4, 5]\n"
     ]
    }
   ],
   "source": [
    "li.remove(1)\n",
    "print(li)"
   ]
  },
  {
   "cell_type": "markdown",
   "id": "f83b4d29",
   "metadata": {},
   "source": [
    "# Pop"
   ]
  },
  {
   "cell_type": "code",
   "execution_count": 42,
   "id": "a9b36574",
   "metadata": {},
   "outputs": [],
   "source": [
    "li = [\"s\",\"u\",\"r\",\"y\",\"a\",\"a\"]\n"
   ]
  },
  {
   "cell_type": "code",
   "execution_count": 43,
   "id": "3ba80bc7",
   "metadata": {},
   "outputs": [
    {
     "name": "stdout",
     "output_type": "stream",
     "text": [
      "['s', 'u', 'r', 'y', 'a']\n"
     ]
    }
   ],
   "source": [
    "li.pop()\n",
    "print(li)"
   ]
  },
  {
   "cell_type": "code",
   "execution_count": 44,
   "id": "e4c8c2d6",
   "metadata": {},
   "outputs": [
    {
     "name": "stdout",
     "output_type": "stream",
     "text": [
      "['s', 'u', 'r', 'y']\n"
     ]
    }
   ],
   "source": [
    "li.pop()\n",
    "print(li)"
   ]
  },
  {
   "cell_type": "code",
   "execution_count": 45,
   "id": "3d2eb1b3",
   "metadata": {},
   "outputs": [
    {
     "name": "stdout",
     "output_type": "stream",
     "text": [
      "['s', 'u', 'r']\n"
     ]
    }
   ],
   "source": [
    "li.pop()\n",
    "print(li)"
   ]
  },
  {
   "cell_type": "code",
   "execution_count": 46,
   "id": "8bbed994",
   "metadata": {},
   "outputs": [
    {
     "name": "stdout",
     "output_type": "stream",
     "text": [
      "['s', 'u']\n"
     ]
    }
   ],
   "source": [
    "li.pop()\n",
    "print(li)"
   ]
  },
  {
   "cell_type": "code",
   "execution_count": 47,
   "id": "3984ce38",
   "metadata": {},
   "outputs": [
    {
     "name": "stdout",
     "output_type": "stream",
     "text": [
      "['s']\n"
     ]
    }
   ],
   "source": [
    "li.pop()\n",
    "print(li)"
   ]
  },
  {
   "cell_type": "code",
   "execution_count": 48,
   "id": "82adfa55",
   "metadata": {},
   "outputs": [
    {
     "name": "stdout",
     "output_type": "stream",
     "text": [
      "[]\n"
     ]
    }
   ],
   "source": [
    "li.pop()\n",
    "print(li)"
   ]
  },
  {
   "cell_type": "markdown",
   "id": "686e02fa",
   "metadata": {},
   "source": [
    "# Clear"
   ]
  },
  {
   "cell_type": "code",
   "execution_count": 50,
   "id": "e12a77e2",
   "metadata": {},
   "outputs": [],
   "source": [
    "li = [\"s\",\"u\",\"r\",\"y\",\"a\",\"a\"]\n"
   ]
  },
  {
   "cell_type": "code",
   "execution_count": 51,
   "id": "dca3450e",
   "metadata": {},
   "outputs": [
    {
     "name": "stdout",
     "output_type": "stream",
     "text": [
      "[]\n"
     ]
    }
   ],
   "source": [
    "li.clear()\n",
    "print(li)"
   ]
  },
  {
   "cell_type": "markdown",
   "id": "3cb20204",
   "metadata": {},
   "source": [
    "# Finding the element of the list using index"
   ]
  },
  {
   "cell_type": "code",
   "execution_count": 52,
   "id": "47bc8f8c",
   "metadata": {},
   "outputs": [
    {
     "name": "stdout",
     "output_type": "stream",
     "text": [
      "4\n"
     ]
    }
   ],
   "source": [
    "li = [1,2,3,4,5]\n",
    "print(li.index(5))\n"
   ]
  },
  {
   "cell_type": "markdown",
   "id": "32260b50",
   "metadata": {},
   "source": [
    "# finding the number of elements in the list"
   ]
  },
  {
   "cell_type": "code",
   "execution_count": 53,
   "id": "98258b52",
   "metadata": {},
   "outputs": [
    {
     "name": "stdout",
     "output_type": "stream",
     "text": [
      "3\n"
     ]
    }
   ],
   "source": [
    "li = [1,1,1,2,4,4,5,66,3,5,5,5,4]\n",
    "print(li.count(1))"
   ]
  },
  {
   "cell_type": "markdown",
   "id": "b8de93df",
   "metadata": {},
   "source": [
    "# Sorting elements in ascending order "
   ]
  },
  {
   "cell_type": "code",
   "execution_count": 54,
   "id": "f88ea30e",
   "metadata": {},
   "outputs": [
    {
     "name": "stdout",
     "output_type": "stream",
     "text": [
      "[1, 2, 4, 4, 6, 6, 7, 8, 9, 98]\n"
     ]
    }
   ],
   "source": [
    "li = [1,4,6,7,8,2,9,4,6,98]\n",
    "li.sort()\n",
    "print(li)"
   ]
  },
  {
   "cell_type": "markdown",
   "id": "1db63df0",
   "metadata": {},
   "source": [
    "# Sorting elements in descending order "
   ]
  },
  {
   "cell_type": "code",
   "execution_count": 55,
   "id": "abfa09c1",
   "metadata": {},
   "outputs": [
    {
     "name": "stdout",
     "output_type": "stream",
     "text": [
      "[98, 9, 8, 7, 6, 6, 4, 4, 2, 1]\n"
     ]
    }
   ],
   "source": [
    "li = [1,4,6,7,8,2,9,4,6,98]\n",
    "li.sort(reverse = True)\n",
    "print(li)"
   ]
  },
  {
   "cell_type": "markdown",
   "id": "f3c3349d",
   "metadata": {},
   "source": [
    "# Insert\n"
   ]
  },
  {
   "cell_type": "code",
   "execution_count": 56,
   "id": "c146c2c4",
   "metadata": {},
   "outputs": [],
   "source": [
    "li = [1,2,3,4,5]\n"
   ]
  },
  {
   "cell_type": "code",
   "execution_count": 57,
   "id": "a15d6b84",
   "metadata": {},
   "outputs": [
    {
     "name": "stdout",
     "output_type": "stream",
     "text": [
      "[1, 2, 111, 3, 4, 5]\n"
     ]
    }
   ],
   "source": [
    "li.insert(2,111)\n",
    "print(li)"
   ]
  },
  {
   "cell_type": "code",
   "execution_count": 58,
   "id": "22a87eb7",
   "metadata": {},
   "outputs": [
    {
     "name": "stdout",
     "output_type": "stream",
     "text": [
      "[1, 2, 111, 45, 3, 4, 5]\n"
     ]
    }
   ],
   "source": [
    "li.insert(3,45)\n",
    "print(li)"
   ]
  },
  {
   "cell_type": "markdown",
   "id": "adbeaec3",
   "metadata": {},
   "source": [
    "# Copy"
   ]
  },
  {
   "cell_type": "code",
   "execution_count": 59,
   "id": "1505fdef",
   "metadata": {},
   "outputs": [],
   "source": [
    "fruits = [\"banana\",\"apple\",\"orange\"]"
   ]
  },
  {
   "cell_type": "code",
   "execution_count": 60,
   "id": "b7223428",
   "metadata": {},
   "outputs": [
    {
     "name": "stdout",
     "output_type": "stream",
     "text": [
      "['banana', 'apple', 'orange']\n"
     ]
    }
   ],
   "source": [
    "newlist = fruits.copy()\n",
    "print(newlist)"
   ]
  },
  {
   "cell_type": "markdown",
   "id": "a415dd04",
   "metadata": {},
   "source": [
    "# Adding two list"
   ]
  },
  {
   "cell_type": "code",
   "execution_count": 62,
   "id": "496ab84e",
   "metadata": {},
   "outputs": [
    {
     "name": "stdout",
     "output_type": "stream",
     "text": [
      "[1, 2, 3, 4, 5, 6]\n"
     ]
    }
   ],
   "source": [
    "list1 = [1,2,3]\n",
    "list2 = [4,5,6]\n",
    "print(list1+list2)"
   ]
  },
  {
   "cell_type": "code",
   "execution_count": 64,
   "id": "2b2dc219",
   "metadata": {},
   "outputs": [
    {
     "name": "stdout",
     "output_type": "stream",
     "text": [
      "[1, 2, 3, 4, 5, 6]\n"
     ]
    }
   ],
   "source": [
    "list1 = [1,2,3]\n",
    "list2 = [4,5,6]\n",
    "list1.extend(list2)\n",
    "print(list1)"
   ]
  },
  {
   "cell_type": "code",
   "execution_count": 65,
   "id": "acef2599",
   "metadata": {},
   "outputs": [
    {
     "name": "stdout",
     "output_type": "stream",
     "text": [
      "[1, 2, 3, 4, 5, 6]\n"
     ]
    }
   ],
   "source": [
    "list1 = [1,2,3]\n",
    "list2 = [4,5,6]\n",
    "for i in list2:\n",
    "    list1.append(i)\n",
    "print(list1)"
   ]
  },
  {
   "cell_type": "markdown",
   "id": "5dd59ebe",
   "metadata": {},
   "source": [
    "# other problems containing if and loop statements"
   ]
  },
  {
   "cell_type": "code",
   "execution_count": 66,
   "id": "1cf9099b",
   "metadata": {},
   "outputs": [
    {
     "name": "stdout",
     "output_type": "stream",
     "text": [
      "Suryaa is in the list\n"
     ]
    }
   ],
   "source": [
    "li = [\"suryaa\",3.4,10]\n",
    "if \"suryaa\" in li:\n",
    "    print(\"Suryaa is in the list\")\n"
   ]
  },
  {
   "cell_type": "code",
   "execution_count": 67,
   "id": "16ad2693",
   "metadata": {},
   "outputs": [
    {
     "name": "stdout",
     "output_type": "stream",
     "text": [
      "['apple', 'banana', 'mango']\n"
     ]
    }
   ],
   "source": [
    "fruits = [\"apple\", \"banana\", \"cherry\", \"kiwi\", \"mango\"]\n",
    "newlist = []\n",
    "\n",
    "for x in fruits:\n",
    "  if \"a\" in x:\n",
    "    newlist.append(x)\n",
    "\n",
    "print(newlist)"
   ]
  },
  {
   "cell_type": "code",
   "execution_count": null,
   "id": "798d2039",
   "metadata": {},
   "outputs": [],
   "source": []
  },
  {
   "cell_type": "code",
   "execution_count": null,
   "id": "63a263de",
   "metadata": {},
   "outputs": [],
   "source": []
  },
  {
   "cell_type": "code",
   "execution_count": null,
   "id": "9e49b066",
   "metadata": {},
   "outputs": [],
   "source": []
  },
  {
   "cell_type": "code",
   "execution_count": null,
   "id": "508054d8",
   "metadata": {},
   "outputs": [],
   "source": []
  },
  {
   "cell_type": "code",
   "execution_count": null,
   "id": "2ad77457",
   "metadata": {},
   "outputs": [],
   "source": []
  }
 ],
 "metadata": {
  "kernelspec": {
   "display_name": "Python 3 (ipykernel)",
   "language": "python",
   "name": "python3"
  },
  "language_info": {
   "codemirror_mode": {
    "name": "ipython",
    "version": 3
   },
   "file_extension": ".py",
   "mimetype": "text/x-python",
   "name": "python",
   "nbconvert_exporter": "python",
   "pygments_lexer": "ipython3",
   "version": "3.9.7"
  }
 },
 "nbformat": 4,
 "nbformat_minor": 5
}
