{
 "cells": [
  {
   "cell_type": "markdown",
   "id": "2d494113",
   "metadata": {},
   "source": [
    "#                                 HACKATHON - 1"
   ]
  },
  {
   "cell_type": "markdown",
   "id": "cc39ec81",
   "metadata": {},
   "source": []
  },
  {
   "cell_type": "markdown",
   "id": "f6823dc2",
   "metadata": {},
   "source": [
    "# Name : NT SURYAA\n",
    "# Mail id : ntsuryaa17@gmail.com\n",
    "# AUG Datascience batch"
   ]
  },
  {
   "cell_type": "markdown",
   "id": "15246429",
   "metadata": {},
   "source": [
    "# IF STATEMENT"
   ]
  },
  {
   "cell_type": "markdown",
   "id": "f8d708c6",
   "metadata": {},
   "source": [
    "1) increment the value by 1"
   ]
  },
  {
   "cell_type": "code",
   "execution_count": 8,
   "id": "5e826de6",
   "metadata": {},
   "outputs": [
    {
     "name": "stdout",
     "output_type": "stream",
     "text": [
      "1\n"
     ]
    }
   ],
   "source": [
    "n = 0 \n",
    "if True:\n",
    "    n = n + 1\n",
    "print(n)"
   ]
  },
  {
   "cell_type": "markdown",
   "id": "fa3e1c0c",
   "metadata": {},
   "source": [
    "2) Determine weather a person is eligible to vote by using  input "
   ]
  },
  {
   "cell_type": "code",
   "execution_count": 15,
   "id": "5f8d523b",
   "metadata": {},
   "outputs": [
    {
     "name": "stdout",
     "output_type": "stream",
     "text": [
      "Enter your age : 20\n",
      "You are eligible to vote\n"
     ]
    }
   ],
   "source": [
    "age = int(input(\"Enter your age : \"))\n",
    "if age >= 18:\n",
    "    print(\"You are eligible to vote\")\n"
   ]
  },
  {
   "cell_type": "markdown",
   "id": "03013c74",
   "metadata": {},
   "source": [
    "# IF ELSE STATEMENT"
   ]
  },
  {
   "cell_type": "markdown",
   "id": "40b08bba",
   "metadata": {},
   "source": [
    "1) Determine weather a person is eligible to vote by using input "
   ]
  },
  {
   "cell_type": "code",
   "execution_count": 11,
   "id": "2ea85359",
   "metadata": {},
   "outputs": [
    {
     "name": "stdout",
     "output_type": "stream",
     "text": [
      "Enter your age : 17\n",
      "You are not eligible to vote\n"
     ]
    }
   ],
   "source": [
    "age = int(input(\"Enter your age : \"))\n",
    "if age >= 18:\n",
    "    print(\"You are eligible to vote\")\n",
    "else:\n",
    "    print(\"You are not eligible to vote\")"
   ]
  },
  {
   "cell_type": "markdown",
   "id": "1c228c35",
   "metadata": {},
   "source": [
    "2) find the number is even or odd by using input "
   ]
  },
  {
   "cell_type": "code",
   "execution_count": 12,
   "id": "65e3d0a3",
   "metadata": {},
   "outputs": [
    {
     "name": "stdout",
     "output_type": "stream",
     "text": [
      "Enter a number : 15\n",
      "The number is a odd number\n"
     ]
    }
   ],
   "source": [
    "num = int(input(\"Enter a number : \"))\n",
    "if (num % 2 == 0):\n",
    "    print(\"The number is a even number\")\n",
    "else :\n",
    "    print(\"The number is a odd number\")"
   ]
  },
  {
   "cell_type": "markdown",
   "id": "6b41f83a",
   "metadata": {},
   "source": [
    "3) A company decides to give bonus to all its employees on New year. A 10% bonus on salary for all the male workers and 25% to females. build a programme to enter Salary and Gender(m or F) of employee."
   ]
  },
  {
   "cell_type": "code",
   "execution_count": 14,
   "id": "f4135d8a",
   "metadata": {},
   "outputs": [
    {
     "name": "stdout",
     "output_type": "stream",
     "text": [
      "Enter the gender(M/F) : M\n",
      "Enter salary : 20000\n",
      "22000.0\n"
     ]
    }
   ],
   "source": [
    "gender = input(\"Enter the gender(M/F) : \")\n",
    "\n",
    "if gender == 'M':\n",
    "    salary = int(input(\"Enter salary : \"))\n",
    "    final_salary = salary + (10/100) * salary\n",
    "    print(final_salary)\n",
    "    \n",
    "elif gender == 'F':\n",
    "    salary = int(input(\"Enter salary : \"))\n",
    "    final_salary = salary * (25/100) + salary\n",
    "    print(final_salary)\n",
    "    \n",
    "else:\n",
    "    print(\"Enter valid input details\")"
   ]
  },
  {
   "cell_type": "markdown",
   "id": "a3c0e198",
   "metadata": {},
   "source": [
    "# IF ELIF ELSE STATEMENTS"
   ]
  },
  {
   "cell_type": "markdown",
   "id": "1b731b2d",
   "metadata": {},
   "source": [
    "1) check weather the number is positive or negitive or equal to zero using input"
   ]
  },
  {
   "cell_type": "code",
   "execution_count": 16,
   "id": "76e09069",
   "metadata": {},
   "outputs": [
    {
     "name": "stdout",
     "output_type": "stream",
     "text": [
      "Enter a number : 4\n",
      "The entered number is Positive number\n"
     ]
    }
   ],
   "source": [
    "num = int(input(\"Enter a number : \"))\n",
    "\n",
    "if num < 0:\n",
    "    print(\"The input number is a negative number\")\n",
    "elif num == 0:\n",
    "    print(\"The input number is zero\")\n",
    "else :\n",
    "    print(\"The entered number is Positive number\")"
   ]
  },
  {
   "cell_type": "markdown",
   "id": "888f3663",
   "metadata": {},
   "source": [
    "2) Test Weather the charcter is vowel or not vowel using input"
   ]
  },
  {
   "cell_type": "code",
   "execution_count": 24,
   "id": "b641273c",
   "metadata": {},
   "outputs": [
    {
     "name": "stdout",
     "output_type": "stream",
     "text": [
      "Enter the character : O\n",
      "The entered character is a vowel\n"
     ]
    }
   ],
   "source": [
    "ch = input(\"Enter the character : \")\n",
    "\n",
    "if ch == 'A' or 'E' or 'I' or 'O' or 'U':\n",
    "    print(\"The entered character is a vowel\")\n",
    "else :\n",
    "    print(\"The entered character is not a vowel\")"
   ]
  },
  {
   "cell_type": "markdown",
   "id": "e5eae5c4",
   "metadata": {},
   "source": [
    "3) Given an integer input perform the following conditional actions:\n",
    "\n",
    "If n is odd, print odd\n",
    "\n",
    "If n is even and in the inclusive range of 2 to 5, print small\n",
    "\n",
    "If n is even and in the inclusive range of 6 to 20, print medium\n",
    "\n",
    "If n is even and greater than 20, print big\n"
   ]
  },
  {
   "cell_type": "code",
   "execution_count": 26,
   "id": "6b15375c",
   "metadata": {},
   "outputs": [
    {
     "name": "stdout",
     "output_type": "stream",
     "text": [
      "Enter a number : 26\n",
      "Big\n"
     ]
    }
   ],
   "source": [
    "num = int(input(\"Enter a number : \"))\n",
    "\n",
    "if (num % 2 == 1):\n",
    "    print(num, \" is odd\")\n",
    "else :\n",
    "    if num >=2 and num <=5:\n",
    "        print(\"Small\")\n",
    "    elif num >5 and num <=20:\n",
    "        print(\"Medium\")\n",
    "    else:\n",
    "        print(\"Big\")"
   ]
  },
  {
   "cell_type": "markdown",
   "id": "49605a32",
   "metadata": {},
   "source": [
    "# WHILE LOOP"
   ]
  },
  {
   "cell_type": "markdown",
   "id": "036ec22f",
   "metadata": {},
   "source": [
    "1) print first 10 numbers \n"
   ]
  },
  {
   "cell_type": "code",
   "execution_count": 29,
   "id": "291b98fc",
   "metadata": {},
   "outputs": [
    {
     "name": "stdout",
     "output_type": "stream",
     "text": [
      "1\n",
      "2\n",
      "3\n",
      "4\n",
      "5\n",
      "6\n",
      "7\n",
      "8\n",
      "9\n",
      "10\n"
     ]
    }
   ],
   "source": [
    "n = 0\n",
    "while n < 10:\n",
    "    n += 1\n",
    "    print(n)"
   ]
  },
  {
   "cell_type": "markdown",
   "id": "d29519c2",
   "metadata": {},
   "source": [
    "2) find average and sum for first 10 numbers "
   ]
  },
  {
   "cell_type": "code",
   "execution_count": 35,
   "id": "a23bbe9f",
   "metadata": {},
   "outputs": [
    {
     "name": "stdout",
     "output_type": "stream",
     "text": [
      "The average is  5.5\n",
      "The sum is  55\n"
     ]
    }
   ],
   "source": [
    "n = 0\n",
    "sum1 = 0\n",
    "while n < 10:\n",
    "    n = n +1\n",
    "    sum1 = sum1 + n\n",
    "\n",
    "avg = sum1/n\n",
    "print(\"The average is \",avg)\n",
    "print(\"The sum is \",sum1)"
   ]
  },
  {
   "cell_type": "markdown",
   "id": "f5e9cca4",
   "metadata": {},
   "source": [
    "3) Draw a line using while loop"
   ]
  },
  {
   "cell_type": "code",
   "execution_count": 37,
   "id": "ce31818b",
   "metadata": {},
   "outputs": [
    {
     "name": "stdout",
     "output_type": "stream",
     "text": [
      "______________________________"
     ]
    }
   ],
   "source": [
    "n = 0\n",
    "while n < 15 :\n",
    "    print(\"__\",end=\"\")\n",
    "    n = n + 1"
   ]
  },
  {
   "cell_type": "markdown",
   "id": "6ec90365",
   "metadata": {},
   "source": [
    "4) calculate the sum of m to n  numbers using input"
   ]
  },
  {
   "cell_type": "code",
   "execution_count": 41,
   "id": "7cc42ee4",
   "metadata": {},
   "outputs": [
    {
     "name": "stdout",
     "output_type": "stream",
     "text": [
      "Enter a number : 10\n",
      "Enter a number : 20\n",
      "145\n"
     ]
    }
   ],
   "source": [
    "m = int(input(\"Enter a number : \"))\n",
    "n = int(input(\"Enter a number : \"))\n",
    "sum1 = 0\n",
    "while m < n:\n",
    "    sum1 = sum1 + m\n",
    "    m = m + 1\n",
    "print(sum1)"
   ]
  },
  {
   "cell_type": "markdown",
   "id": "fa135084",
   "metadata": {},
   "source": [
    "5) countdown 10 to 0 using input"
   ]
  },
  {
   "cell_type": "code",
   "execution_count": 1,
   "id": "e50c72e7",
   "metadata": {},
   "outputs": [
    {
     "name": "stdout",
     "output_type": "stream",
     "text": [
      "10\n",
      "countdown started\n",
      "10\n",
      "9\n",
      "8\n",
      "7\n",
      "6\n",
      "5\n",
      "4\n",
      "3\n",
      "2\n",
      "1\n",
      "0\n"
     ]
    }
   ],
   "source": [
    "m = 0\n",
    "n = int(input())\n",
    "print(\"countdown started\")\n",
    "while m <= n:\n",
    "    print(n)\n",
    "    n = n - 1"
   ]
  },
  {
   "cell_type": "markdown",
   "id": "17fc4aa5",
   "metadata": {},
   "source": [
    "# FOR LOOP"
   ]
  },
  {
   "cell_type": "markdown",
   "id": "a3d5b29e",
   "metadata": {},
   "source": [
    "1) Multiplication table using input"
   ]
  },
  {
   "cell_type": "code",
   "execution_count": 7,
   "id": "c2bfef4c",
   "metadata": {},
   "outputs": [
    {
     "name": "stdout",
     "output_type": "stream",
     "text": [
      "Enter a number : 5\n",
      "5  *  1  =  5\n",
      "5  *  2  =  10\n",
      "5  *  3  =  15\n",
      "5  *  4  =  20\n",
      "5  *  5  =  25\n",
      "5  *  6  =  30\n",
      "5  *  7  =  35\n",
      "5  *  8  =  40\n",
      "5  *  9  =  45\n",
      "5  *  10  =  50\n"
     ]
    }
   ],
   "source": [
    "n = int(input(\"Enter a number : \"))\n",
    "for i in range(1,11):\n",
    "    print(n,\" * \", i, \" = \", n*i)\n",
    "    "
   ]
  },
  {
   "cell_type": "markdown",
   "id": "5061a6aa",
   "metadata": {},
   "source": [
    "2) print even and odd for range of number"
   ]
  },
  {
   "cell_type": "code",
   "execution_count": 9,
   "id": "8fe84cb1",
   "metadata": {},
   "outputs": [
    {
     "name": "stdout",
     "output_type": "stream",
     "text": [
      "1\n",
      "11\n",
      "1  Odd\n",
      "2  Even\n",
      "3  Odd\n",
      "4  Even\n",
      "5  Odd\n",
      "6  Even\n",
      "7  Odd\n",
      "8  Even\n",
      "9  Odd\n",
      "10  Even\n"
     ]
    }
   ],
   "source": [
    "m = int(input())\n",
    "n = int(input())\n",
    "\n",
    "for i in range(m,n):\n",
    "    if i % 2 == 0:\n",
    "        print(i,\" Even\")\n",
    "    else:\n",
    "        print(i,\" Odd\")\n"
   ]
  },
  {
   "cell_type": "markdown",
   "id": "6b468a58",
   "metadata": {},
   "source": [
    "3) break statement"
   ]
  },
  {
   "cell_type": "code",
   "execution_count": 10,
   "id": "be6df470",
   "metadata": {},
   "outputs": [
    {
     "name": "stdout",
     "output_type": "stream",
     "text": [
      "The letter is available \n"
     ]
    }
   ],
   "source": [
    "n = \"Suryaa\"\n",
    "for i in n :\n",
    "    if \"S\" in n:\n",
    "        print(\"The letter is available \")\n",
    "        break\n",
    "    else:\n",
    "        break\n"
   ]
  },
  {
   "cell_type": "markdown",
   "id": "487c5592",
   "metadata": {},
   "source": [
    "4) countinue statement "
   ]
  },
  {
   "cell_type": "code",
   "execution_count": 12,
   "id": "e0a7c62c",
   "metadata": {},
   "outputs": [
    {
     "name": "stdout",
     "output_type": "stream",
     "text": [
      "The letter is available \n"
     ]
    }
   ],
   "source": [
    "n = \"Suryaa\"\n",
    "for i in n :\n",
    "    if \"S\" in n:\n",
    "        print(\"The letter is available \")\n",
    "        break\n",
    "    else:\n",
    "        continue"
   ]
  },
  {
   "cell_type": "markdown",
   "id": "3f34364a",
   "metadata": {},
   "source": [
    "5) all leap years from 1800 - 2021"
   ]
  },
  {
   "cell_type": "code",
   "execution_count": 13,
   "id": "71751aed",
   "metadata": {},
   "outputs": [
    {
     "name": "stdout",
     "output_type": "stream",
     "text": [
      "1800  is a leap year\n",
      "1801  is not a leap year\n",
      "1802  is not a leap year\n",
      "1803  is not a leap year\n",
      "1804  is a leap year\n",
      "1805  is not a leap year\n",
      "1806  is not a leap year\n",
      "1807  is not a leap year\n",
      "1808  is a leap year\n",
      "1809  is not a leap year\n",
      "1810  is not a leap year\n",
      "1811  is not a leap year\n",
      "1812  is a leap year\n",
      "1813  is not a leap year\n",
      "1814  is not a leap year\n",
      "1815  is not a leap year\n",
      "1816  is a leap year\n",
      "1817  is not a leap year\n",
      "1818  is not a leap year\n",
      "1819  is not a leap year\n",
      "1820  is a leap year\n",
      "1821  is not a leap year\n",
      "1822  is not a leap year\n",
      "1823  is not a leap year\n",
      "1824  is a leap year\n",
      "1825  is not a leap year\n",
      "1826  is not a leap year\n",
      "1827  is not a leap year\n",
      "1828  is a leap year\n",
      "1829  is not a leap year\n",
      "1830  is not a leap year\n",
      "1831  is not a leap year\n",
      "1832  is a leap year\n",
      "1833  is not a leap year\n",
      "1834  is not a leap year\n",
      "1835  is not a leap year\n",
      "1836  is a leap year\n",
      "1837  is not a leap year\n",
      "1838  is not a leap year\n",
      "1839  is not a leap year\n",
      "1840  is a leap year\n",
      "1841  is not a leap year\n",
      "1842  is not a leap year\n",
      "1843  is not a leap year\n",
      "1844  is a leap year\n",
      "1845  is not a leap year\n",
      "1846  is not a leap year\n",
      "1847  is not a leap year\n",
      "1848  is a leap year\n",
      "1849  is not a leap year\n",
      "1850  is not a leap year\n",
      "1851  is not a leap year\n",
      "1852  is a leap year\n",
      "1853  is not a leap year\n",
      "1854  is not a leap year\n",
      "1855  is not a leap year\n",
      "1856  is a leap year\n",
      "1857  is not a leap year\n",
      "1858  is not a leap year\n",
      "1859  is not a leap year\n",
      "1860  is a leap year\n",
      "1861  is not a leap year\n",
      "1862  is not a leap year\n",
      "1863  is not a leap year\n",
      "1864  is a leap year\n",
      "1865  is not a leap year\n",
      "1866  is not a leap year\n",
      "1867  is not a leap year\n",
      "1868  is a leap year\n",
      "1869  is not a leap year\n",
      "1870  is not a leap year\n",
      "1871  is not a leap year\n",
      "1872  is a leap year\n",
      "1873  is not a leap year\n",
      "1874  is not a leap year\n",
      "1875  is not a leap year\n",
      "1876  is a leap year\n",
      "1877  is not a leap year\n",
      "1878  is not a leap year\n",
      "1879  is not a leap year\n",
      "1880  is a leap year\n",
      "1881  is not a leap year\n",
      "1882  is not a leap year\n",
      "1883  is not a leap year\n",
      "1884  is a leap year\n",
      "1885  is not a leap year\n",
      "1886  is not a leap year\n",
      "1887  is not a leap year\n",
      "1888  is a leap year\n",
      "1889  is not a leap year\n",
      "1890  is not a leap year\n",
      "1891  is not a leap year\n",
      "1892  is a leap year\n",
      "1893  is not a leap year\n",
      "1894  is not a leap year\n",
      "1895  is not a leap year\n",
      "1896  is a leap year\n",
      "1897  is not a leap year\n",
      "1898  is not a leap year\n",
      "1899  is not a leap year\n",
      "1900  is a leap year\n",
      "1901  is not a leap year\n",
      "1902  is not a leap year\n",
      "1903  is not a leap year\n",
      "1904  is a leap year\n",
      "1905  is not a leap year\n",
      "1906  is not a leap year\n",
      "1907  is not a leap year\n",
      "1908  is a leap year\n",
      "1909  is not a leap year\n",
      "1910  is not a leap year\n",
      "1911  is not a leap year\n",
      "1912  is a leap year\n",
      "1913  is not a leap year\n",
      "1914  is not a leap year\n",
      "1915  is not a leap year\n",
      "1916  is a leap year\n",
      "1917  is not a leap year\n",
      "1918  is not a leap year\n",
      "1919  is not a leap year\n",
      "1920  is a leap year\n",
      "1921  is not a leap year\n",
      "1922  is not a leap year\n",
      "1923  is not a leap year\n",
      "1924  is a leap year\n",
      "1925  is not a leap year\n",
      "1926  is not a leap year\n",
      "1927  is not a leap year\n",
      "1928  is a leap year\n",
      "1929  is not a leap year\n",
      "1930  is not a leap year\n",
      "1931  is not a leap year\n",
      "1932  is a leap year\n",
      "1933  is not a leap year\n",
      "1934  is not a leap year\n",
      "1935  is not a leap year\n",
      "1936  is a leap year\n",
      "1937  is not a leap year\n",
      "1938  is not a leap year\n",
      "1939  is not a leap year\n",
      "1940  is a leap year\n",
      "1941  is not a leap year\n",
      "1942  is not a leap year\n",
      "1943  is not a leap year\n",
      "1944  is a leap year\n",
      "1945  is not a leap year\n",
      "1946  is not a leap year\n",
      "1947  is not a leap year\n",
      "1948  is a leap year\n",
      "1949  is not a leap year\n",
      "1950  is not a leap year\n",
      "1951  is not a leap year\n",
      "1952  is a leap year\n",
      "1953  is not a leap year\n",
      "1954  is not a leap year\n",
      "1955  is not a leap year\n",
      "1956  is a leap year\n",
      "1957  is not a leap year\n",
      "1958  is not a leap year\n",
      "1959  is not a leap year\n",
      "1960  is a leap year\n",
      "1961  is not a leap year\n",
      "1962  is not a leap year\n",
      "1963  is not a leap year\n",
      "1964  is a leap year\n",
      "1965  is not a leap year\n",
      "1966  is not a leap year\n",
      "1967  is not a leap year\n",
      "1968  is a leap year\n",
      "1969  is not a leap year\n",
      "1970  is not a leap year\n",
      "1971  is not a leap year\n",
      "1972  is a leap year\n",
      "1973  is not a leap year\n",
      "1974  is not a leap year\n",
      "1975  is not a leap year\n",
      "1976  is a leap year\n",
      "1977  is not a leap year\n",
      "1978  is not a leap year\n",
      "1979  is not a leap year\n",
      "1980  is a leap year\n",
      "1981  is not a leap year\n",
      "1982  is not a leap year\n",
      "1983  is not a leap year\n",
      "1984  is a leap year\n",
      "1985  is not a leap year\n",
      "1986  is not a leap year\n",
      "1987  is not a leap year\n",
      "1988  is a leap year\n",
      "1989  is not a leap year\n",
      "1990  is not a leap year\n",
      "1991  is not a leap year\n",
      "1992  is a leap year\n",
      "1993  is not a leap year\n",
      "1994  is not a leap year\n",
      "1995  is not a leap year\n",
      "1996  is a leap year\n",
      "1997  is not a leap year\n",
      "1998  is not a leap year\n",
      "1999  is not a leap year\n",
      "2000  is a leap year\n",
      "2001  is not a leap year\n",
      "2002  is not a leap year\n",
      "2003  is not a leap year\n",
      "2004  is a leap year\n",
      "2005  is not a leap year\n",
      "2006  is not a leap year\n",
      "2007  is not a leap year\n",
      "2008  is a leap year\n",
      "2009  is not a leap year\n",
      "2010  is not a leap year\n",
      "2011  is not a leap year\n",
      "2012  is a leap year\n",
      "2013  is not a leap year\n",
      "2014  is not a leap year\n",
      "2015  is not a leap year\n",
      "2016  is a leap year\n",
      "2017  is not a leap year\n",
      "2018  is not a leap year\n",
      "2019  is not a leap year\n",
      "2020  is a leap year\n"
     ]
    }
   ],
   "source": [
    "for i in range(1800,2021):\n",
    "    if i % 4 == 0:\n",
    "        print(i, \" is a leap year\")\n",
    "    else:\n",
    "        print(i, \" is not a leap year\")"
   ]
  },
  {
   "cell_type": "markdown",
   "id": "1bdc6aff",
   "metadata": {},
   "source": [
    "# User defined function"
   ]
  },
  {
   "cell_type": "markdown",
   "id": "6de340d9",
   "metadata": {},
   "source": [
    "1) creating arethematic operators using user defined functions"
   ]
  },
  {
   "cell_type": "code",
   "execution_count": 14,
   "id": "810af8c8",
   "metadata": {},
   "outputs": [
    {
     "name": "stdout",
     "output_type": "stream",
     "text": [
      "10\n",
      "5\n",
      "Enter your choice : diff\n",
      "5\n"
     ]
    }
   ],
   "source": [
    "def func(a,b):\n",
    "    choice = input(\"Enter your choice : \")\n",
    "    if choice == \"sum\":\n",
    "        sum1 = a + b\n",
    "        return sum1\n",
    "    elif choice == \"diff\":\n",
    "        diff = a - b\n",
    "        return diff\n",
    "    elif choice == \"mul\":\n",
    "        mul = a * b\n",
    "        return mul\n",
    "    elif choice == \"div\":\n",
    "        div = a % b\n",
    "        return div\n",
    "    elif choice == \" exp\":\n",
    "        exp = a ** b\n",
    "        return exp\n",
    "    elif choice == \"rem\":\n",
    "        rem = a % b\n",
    "        return rem\n",
    "    else:\n",
    "        print(\"Invalid entry\")\n",
    "        \n",
    "a = int(input())\n",
    "b = int(input())\n",
    "arith = func(a,b)\n",
    "print(arith)"
   ]
  },
  {
   "cell_type": "markdown",
   "id": "ce412e32",
   "metadata": {},
   "source": [
    "2) Welcome With input "
   ]
  },
  {
   "cell_type": "code",
   "execution_count": 17,
   "id": "5ca30e49",
   "metadata": {},
   "outputs": [
    {
     "name": "stdout",
     "output_type": "stream",
     "text": [
      "Enter your name : suryaa\n",
      "welcome  suryaa\n"
     ]
    }
   ],
   "source": [
    "def welcome():\n",
    "    name = input(\"Enter your name : \")\n",
    "    print(\"welcome \", name)\n",
    "greeting = welcome()"
   ]
  },
  {
   "cell_type": "markdown",
   "id": "142dab78",
   "metadata": {},
   "source": [
    "# Lambda function"
   ]
  },
  {
   "cell_type": "markdown",
   "id": "e24dab70",
   "metadata": {},
   "source": [
    "1) sum using lambda function "
   ]
  },
  {
   "cell_type": "code",
   "execution_count": 18,
   "id": "137bd68d",
   "metadata": {},
   "outputs": [
    {
     "name": "stdout",
     "output_type": "stream",
     "text": [
      "30\n"
     ]
    }
   ],
   "source": [
    "sum1 = lambda a,b : a + b\n",
    "print(sum1(10,20))"
   ]
  },
  {
   "cell_type": "markdown",
   "id": "0efc31f0",
   "metadata": {},
   "source": [
    "2) create a list using loop\n",
    "\n",
    "Create a list of first 10 number using list comprehension"
   ]
  },
  {
   "cell_type": "code",
   "execution_count": 24,
   "id": "d9f9aea5",
   "metadata": {},
   "outputs": [
    {
     "name": "stdout",
     "output_type": "stream",
     "text": [
      "[1, 2, 3, 4, 5, 6, 7, 8, 9, 10]\n"
     ]
    }
   ],
   "source": [
    "li = []\n",
    "for i in range(1,11):\n",
    "    li.append(i)\n",
    "print(li)\n"
   ]
  },
  {
   "cell_type": "markdown",
   "id": "1d9c6b09",
   "metadata": {},
   "source": [
    "3) select all the even number form the list with filter()"
   ]
  },
  {
   "cell_type": "code",
   "execution_count": 28,
   "id": "c010616b",
   "metadata": {},
   "outputs": [
    {
     "name": "stdout",
     "output_type": "stream",
     "text": [
      "[2, 4, 6, 8, 10]\n"
     ]
    }
   ],
   "source": [
    "li = []\n",
    "for i in range(1,11):\n",
    "    li.append(i)\n",
    "sol = filter(lambda x : x%2==0, li)\n",
    "sol1 = list(sol)\n",
    "print(sol1)"
   ]
  },
  {
   "cell_type": "markdown",
   "id": "db590738",
   "metadata": {},
   "source": [
    "4) get  the squiares of numbers form the list with map()"
   ]
  },
  {
   "cell_type": "code",
   "execution_count": 34,
   "id": "a1200823",
   "metadata": {},
   "outputs": [
    {
     "name": "stdout",
     "output_type": "stream",
     "text": [
      "[1, 4, 9, 16, 25, 36, 49, 64, 81, 100]\n"
     ]
    }
   ],
   "source": [
    "li = []\n",
    "for i in range(1,11):\n",
    "    li.append(i)\n",
    "sol = map(lambda x: x**2, li)\n",
    "sol1 = list(sol)\n",
    "print(sol1)"
   ]
  },
  {
   "cell_type": "markdown",
   "id": "e4c12dcc",
   "metadata": {},
   "source": [
    "5) get the sum of numbers of the list using reduce()"
   ]
  },
  {
   "cell_type": "code",
   "execution_count": 33,
   "id": "155f96df",
   "metadata": {},
   "outputs": [
    {
     "name": "stdout",
     "output_type": "stream",
     "text": [
      "55\n"
     ]
    }
   ],
   "source": [
    "from functools import reduce\n",
    "li = []\n",
    "for i in range(1,11):\n",
    "    li.append(i)\n",
    "\n",
    "red = reduce(lambda x,y: x+y, li)\n",
    "print(red)"
   ]
  },
  {
   "cell_type": "code",
   "execution_count": null,
   "id": "a7a20816",
   "metadata": {},
   "outputs": [],
   "source": []
  }
 ],
 "metadata": {
  "kernelspec": {
   "display_name": "Python 3 (ipykernel)",
   "language": "python",
   "name": "python3"
  },
  "language_info": {
   "codemirror_mode": {
    "name": "ipython",
    "version": 3
   },
   "file_extension": ".py",
   "mimetype": "text/x-python",
   "name": "python",
   "nbconvert_exporter": "python",
   "pygments_lexer": "ipython3",
   "version": "3.9.7"
  }
 },
 "nbformat": 4,
 "nbformat_minor": 5
}
