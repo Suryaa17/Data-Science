{
  "nbformat": 4,
  "nbformat_minor": 0,
  "metadata": {
    "colab": {
      "provenance": [],
      "collapsed_sections": []
    },
    "kernelspec": {
      "name": "python3",
      "display_name": "Python 3"
    },
    "language_info": {
      "name": "python"
    }
  },
  "cells": [
    {
      "cell_type": "code",
      "execution_count": null,
      "metadata": {
        "id": "2MDDvJm_IBRP"
      },
      "outputs": [],
      "source": [
        "                         Functions"
      ]
    },
    {
      "cell_type": "markdown",
      "source": [
        "Finding the length of the string by using the function (Built in Function)"
      ],
      "metadata": {
        "id": "-rGFdStFJhuA"
      }
    },
    {
      "cell_type": "markdown",
      "source": [
        "Example"
      ],
      "metadata": {
        "id": "e3OFoO6_J1tD"
      }
    },
    {
      "cell_type": "code",
      "source": [
        "a = \"Suryaa\"\n",
        "print(len(a))"
      ],
      "metadata": {
        "colab": {
          "base_uri": "https://localhost:8080/"
        },
        "id": "7dLjLnKIJpwi",
        "outputId": "20484468-5796-446e-852c-8b694064b6f5"
      },
      "execution_count": 1,
      "outputs": [
        {
          "output_type": "execute_result",
          "data": {
            "text/plain": [
              "6"
            ]
          },
          "metadata": {},
          "execution_count": 1
        }
      ]
    },
    {
      "cell_type": "code",
      "source": [
        "list1 = [1,2,3.4,\"Suryaa\",[1,2,3]]\n",
        "print(len(list1))"
      ],
      "metadata": {
        "colab": {
          "base_uri": "https://localhost:8080/"
        },
        "id": "3fZKzYJDJ6ct",
        "outputId": "a80e3db9-6a4f-472a-e65b-1c705f5716d8"
      },
      "execution_count": 2,
      "outputs": [
        {
          "output_type": "stream",
          "name": "stdout",
          "text": [
            "5\n"
          ]
        }
      ]
    },
    {
      "cell_type": "markdown",
      "source": [
        "Function increases the reusability of the code.\n",
        "\n",
        "Function is of two types:-\n",
        "built in functions and user defined functions."
      ],
      "metadata": {
        "id": "hBX6s8xWKCs0"
      }
    },
    {
      "cell_type": "markdown",
      "source": [
        "Syntax :-\n",
        "\n",
        "def function_name(arguments):\n",
        "      \n",
        "       statements\n",
        "\n"
      ],
      "metadata": {
        "id": "_wiU83IpKQQi"
      }
    },
    {
      "cell_type": "markdown",
      "source": [
        "If we defined a function but if we dont want to write any body of the function, Then we can use the **pass** keyword"
      ],
      "metadata": {
        "id": "ayQLl8-xKjqJ"
      }
    },
    {
      "cell_type": "code",
      "source": [
        "def test1():\n",
        "  pass"
      ],
      "metadata": {
        "id": "NrENmkQVLLgM"
      },
      "execution_count": 3,
      "outputs": []
    },
    {
      "cell_type": "markdown",
      "source": [
        "Function basic example:-"
      ],
      "metadata": {
        "id": "WYK_matOLWu_"
      }
    },
    {
      "cell_type": "code",
      "source": [
        "def test1():  # Defining a function\n",
        "  print(\"This is Suryaa,Aspiring data scientist\")  # Statements"
      ],
      "metadata": {
        "id": "fFtlwpl0LZti"
      },
      "execution_count": 4,
      "outputs": []
    },
    {
      "cell_type": "code",
      "source": [
        "test1()      # calling a function"
      ],
      "metadata": {
        "colab": {
          "base_uri": "https://localhost:8080/"
        },
        "id": "nhiBemCPLtWM",
        "outputId": "79acbb8b-9b5f-41b4-9c0e-25aaa32c9171"
      },
      "execution_count": 5,
      "outputs": [
        {
          "output_type": "stream",
          "name": "stdout",
          "text": [
            "This is Suryaa,Aspiring data scientist\n"
          ]
        }
      ]
    },
    {
      "cell_type": "markdown",
      "source": [
        "We can store the outcome of the function using a variable\n",
        "\n",
        "\n",
        "Since python is a self typed language, It will return only None datatype until we use a return datatype"
      ],
      "metadata": {
        "id": "amxM5Wa1LyTe"
      }
    },
    {
      "cell_type": "code",
      "source": [
        "def test2():\n",
        "  return \"Suryaa\""
      ],
      "metadata": {
        "id": "TULe-7CUL5b7"
      },
      "execution_count": 7,
      "outputs": []
    },
    {
      "cell_type": "code",
      "source": [
        "test2()"
      ],
      "metadata": {
        "colab": {
          "base_uri": "https://localhost:8080/",
          "height": 36
        },
        "id": "0SECgSn4NGxs",
        "outputId": "fcc573e9-e8f9-4623-c9bf-6f7d631965b9"
      },
      "execution_count": 8,
      "outputs": [
        {
          "output_type": "execute_result",
          "data": {
            "text/plain": [
              "'Suryaa'"
            ],
            "application/vnd.google.colaboratory.intrinsic+json": {
              "type": "string"
            }
          },
          "metadata": {},
          "execution_count": 8
        }
      ]
    },
    {
      "cell_type": "code",
      "source": [
        "d = test2()\n",
        "print(d)"
      ],
      "metadata": {
        "colab": {
          "base_uri": "https://localhost:8080/"
        },
        "id": "aA6QY6zzNKVD",
        "outputId": "9cab88d7-bbf3-4430-a62a-e4bbc0ce267f"
      },
      "execution_count": 9,
      "outputs": [
        {
          "output_type": "stream",
          "name": "stdout",
          "text": [
            "Suryaa\n"
          ]
        }
      ]
    },
    {
      "cell_type": "code",
      "source": [
        "type(test2())   # this function returns a string datatype"
      ],
      "metadata": {
        "colab": {
          "base_uri": "https://localhost:8080/"
        },
        "id": "CSE0G_vtNR7M",
        "outputId": "0c3cf9ee-e5e8-4660-cff4-b898368db85f"
      },
      "execution_count": 10,
      "outputs": [
        {
          "output_type": "execute_result",
          "data": {
            "text/plain": [
              "str"
            ]
          },
          "metadata": {},
          "execution_count": 10
        }
      ]
    },
    {
      "cell_type": "markdown",
      "source": [
        "Another example of return keyword"
      ],
      "metadata": {
        "id": "mw-US3IiNpT2"
      }
    },
    {
      "cell_type": "code",
      "source": [
        "def test3():\n",
        "  return 17"
      ],
      "metadata": {
        "id": "mucLNZguNtyS"
      },
      "execution_count": 11,
      "outputs": []
    },
    {
      "cell_type": "code",
      "source": [
        "def test4():\n",
        "  print(\"My name is Suryaa\")"
      ],
      "metadata": {
        "id": "zg4hsFaINydr"
      },
      "execution_count": 14,
      "outputs": []
    },
    {
      "cell_type": "code",
      "source": [
        "a = test3()\n",
        "print(a)\n",
        "print(type(a))"
      ],
      "metadata": {
        "colab": {
          "base_uri": "https://localhost:8080/"
        },
        "id": "Rj3SR3_vN_ZJ",
        "outputId": "ff007228-9b39-4029-9f4d-565cbb39d969"
      },
      "execution_count": 12,
      "outputs": [
        {
          "output_type": "stream",
          "name": "stdout",
          "text": [
            "17\n",
            "<class 'int'>\n"
          ]
        }
      ]
    },
    {
      "cell_type": "code",
      "source": [
        "b = test4()\n",
        "print(b)\n",
        "print(type(b))"
      ],
      "metadata": {
        "colab": {
          "base_uri": "https://localhost:8080/"
        },
        "id": "2BenZfHGOJTF",
        "outputId": "0ef1c5ce-bf78-44a7-e7b1-8f164a31b823"
      },
      "execution_count": 15,
      "outputs": [
        {
          "output_type": "stream",
          "name": "stdout",
          "text": [
            "My name is Suryaa\n",
            "None\n",
            "<class 'NoneType'>\n"
          ]
        }
      ]
    },
    {
      "cell_type": "markdown",
      "source": [
        "We cannot perform a primitive operation without a return statement in a function\n",
        "\n",
        "whereas in a function using return statement, we can perform primitive operation."
      ],
      "metadata": {
        "id": "x7Watsc6OpcQ"
      }
    },
    {
      "cell_type": "code",
      "source": [
        "# Example\n",
        "\n",
        "test3() + 23"
      ],
      "metadata": {
        "colab": {
          "base_uri": "https://localhost:8080/"
        },
        "id": "xTyZCrbCO7Ml",
        "outputId": "14b6606c-20a3-479d-a805-14842298b046"
      },
      "execution_count": 16,
      "outputs": [
        {
          "output_type": "execute_result",
          "data": {
            "text/plain": [
              "40"
            ]
          },
          "metadata": {},
          "execution_count": 16
        }
      ]
    },
    {
      "cell_type": "code",
      "source": [
        "test4() + \"NT\""
      ],
      "metadata": {
        "colab": {
          "base_uri": "https://localhost:8080/",
          "height": 182
        },
        "id": "-l1mrZBAPFMg",
        "outputId": "3b4276a6-9f24-4268-8964-90a69309e4d2"
      },
      "execution_count": 17,
      "outputs": [
        {
          "output_type": "stream",
          "name": "stdout",
          "text": [
            "My name is Suryaa\n"
          ]
        },
        {
          "output_type": "error",
          "ename": "TypeError",
          "evalue": "ignored",
          "traceback": [
            "\u001b[0;31m---------------------------------------------------------------------------\u001b[0m",
            "\u001b[0;31mTypeError\u001b[0m                                 Traceback (most recent call last)",
            "\u001b[0;32m<ipython-input-17-61b775c646b7>\u001b[0m in \u001b[0;36m<module>\u001b[0;34m\u001b[0m\n\u001b[0;32m----> 1\u001b[0;31m \u001b[0mtest4\u001b[0m\u001b[0;34m(\u001b[0m\u001b[0;34m)\u001b[0m \u001b[0;34m+\u001b[0m \u001b[0;34m\"NT\"\u001b[0m\u001b[0;34m\u001b[0m\u001b[0;34m\u001b[0m\u001b[0m\n\u001b[0m",
            "\u001b[0;31mTypeError\u001b[0m: unsupported operand type(s) for +: 'NoneType' and 'str'"
          ]
        }
      ]
    },
    {
      "cell_type": "markdown",
      "source": [
        "Function follows Indentation\n",
        "\n",
        "4 space necessary for writing the body of the function."
      ],
      "metadata": {
        "id": "GMzAVd4vPKqO"
      }
    },
    {
      "cell_type": "code",
      "source": [
        "# Example for indentation\n",
        "\n",
        "def suryaa():\n",
        "print(\"my name is suryaa\")\n",
        "\n",
        "\n",
        "suryaa()"
      ],
      "metadata": {
        "colab": {
          "base_uri": "https://localhost:8080/",
          "height": 130
        },
        "id": "7Lbd2co4PUOB",
        "outputId": "8a519641-2076-409d-aadf-b63ffab3a607"
      },
      "execution_count": 18,
      "outputs": [
        {
          "output_type": "error",
          "ename": "IndentationError",
          "evalue": "ignored",
          "traceback": [
            "\u001b[0;36m  File \u001b[0;32m\"<ipython-input-18-5055cacc1e8d>\"\u001b[0;36m, line \u001b[0;32m4\u001b[0m\n\u001b[0;31m    print(\"my name is suryaa\")\u001b[0m\n\u001b[0m        ^\u001b[0m\n\u001b[0;31mIndentationError\u001b[0m\u001b[0;31m:\u001b[0m expected an indented block\n"
          ]
        }
      ]
    },
    {
      "cell_type": "markdown",
      "source": [
        "Returning different and multiple datatypes will leads to return a tuple"
      ],
      "metadata": {
        "id": "GEekEy9UQDA6"
      }
    },
    {
      "cell_type": "code",
      "source": [
        "# Example\n",
        "\n",
        "def test5(): \n",
        "  return 1,2,3,[4,5,6],(8,9),\"Suryaa\"\n",
        "\n",
        "print(test5())"
      ],
      "metadata": {
        "colab": {
          "base_uri": "https://localhost:8080/"
        },
        "id": "whQW4SUBQKSd",
        "outputId": "c699aa20-9b08-4869-e036-f0722fee53ef"
      },
      "execution_count": 21,
      "outputs": [
        {
          "output_type": "stream",
          "name": "stdout",
          "text": [
            "(1, 2, 3, [4, 5, 6], (8, 9), 'Suryaa')\n"
          ]
        }
      ]
    },
    {
      "cell_type": "code",
      "source": [
        "test5()[2]"
      ],
      "metadata": {
        "colab": {
          "base_uri": "https://localhost:8080/"
        },
        "id": "EQkC8nfMQkqd",
        "outputId": "6d0c7293-8683-4af1-e797-f1a6f7d17702"
      },
      "execution_count": 22,
      "outputs": [
        {
          "output_type": "execute_result",
          "data": {
            "text/plain": [
              "3"
            ]
          },
          "metadata": {},
          "execution_count": 22
        }
      ]
    },
    {
      "cell_type": "code",
      "source": [
        "test5()[3][2]"
      ],
      "metadata": {
        "colab": {
          "base_uri": "https://localhost:8080/"
        },
        "id": "IzvUnPoHQn-p",
        "outputId": "77d17d58-1495-489b-d5b4-045a32a8487f"
      },
      "execution_count": 23,
      "outputs": [
        {
          "output_type": "execute_result",
          "data": {
            "text/plain": [
              "6"
            ]
          },
          "metadata": {},
          "execution_count": 23
        }
      ]
    },
    {
      "cell_type": "markdown",
      "source": [
        "More examples"
      ],
      "metadata": {
        "id": "zrS9b-HIRTFp"
      }
    },
    {
      "cell_type": "code",
      "source": [
        "def test7():\n",
        "  a = 10*10+10-10\n",
        "  return a "
      ],
      "metadata": {
        "id": "8bBZrW0XRVeh"
      },
      "execution_count": 24,
      "outputs": []
    },
    {
      "cell_type": "code",
      "source": [
        "print(test7())"
      ],
      "metadata": {
        "colab": {
          "base_uri": "https://localhost:8080/"
        },
        "id": "mA03Mk3fRdQC",
        "outputId": "01d95aa5-0fa0-40e8-f0e9-3dace96776ca"
      },
      "execution_count": 26,
      "outputs": [
        {
          "output_type": "stream",
          "name": "stdout",
          "text": [
            "100\n"
          ]
        }
      ]
    },
    {
      "cell_type": "code",
      "source": [
        "test7() + 10"
      ],
      "metadata": {
        "colab": {
          "base_uri": "https://localhost:8080/"
        },
        "id": "Y7V0v0WwRjdB",
        "outputId": "537c9da0-e800-4334-cb23-9cee0e0c7ba5"
      },
      "execution_count": 27,
      "outputs": [
        {
          "output_type": "execute_result",
          "data": {
            "text/plain": [
              "110"
            ]
          },
          "metadata": {},
          "execution_count": 27
        }
      ]
    },
    {
      "cell_type": "markdown",
      "source": [
        "adding all the numbers in a list using a function."
      ],
      "metadata": {
        "id": "Fv6d3Rp-Rpxx"
      }
    },
    {
      "cell_type": "code",
      "source": [
        "def sum1(l):\n",
        "  sum = 0\n",
        "  for i in l:\n",
        "    sum = sum + i\n",
        "  return sum\n",
        "\n",
        "l = [1,2,3,4,5,6,7,8,9]\n",
        "print(sum1(l))"
      ],
      "metadata": {
        "colab": {
          "base_uri": "https://localhost:8080/"
        },
        "id": "Z3_RFG8ARwAg",
        "outputId": "667febbf-7755-4c60-908c-eb9dd6deda82"
      },
      "execution_count": 32,
      "outputs": [
        {
          "output_type": "stream",
          "name": "stdout",
          "text": [
            "45\n"
          ]
        }
      ]
    },
    {
      "cell_type": "markdown",
      "source": [
        "adding all the numbers in a list using a function.\n",
        "\n",
        "l = [1,2,3,4,5,6,7,8,9,\"suryaa\"]"
      ],
      "metadata": {
        "id": "7f-rKlWKSjix"
      }
    },
    {
      "cell_type": "code",
      "source": [
        "def sum1(l):\n",
        "  sum = 0\n",
        "  for i in l:\n",
        "    if type(i)== int:\n",
        "      sum = sum + i\n",
        "  return sum\n",
        "\n",
        "l = [1,2,3,4,5,6,7,8,9,\"suryaa\"]\n",
        "print(sum1(l))"
      ],
      "metadata": {
        "colab": {
          "base_uri": "https://localhost:8080/"
        },
        "id": "vixUIhNBSovf",
        "outputId": "a2824d2a-628b-47fd-a516-3bf679593334"
      },
      "execution_count": 34,
      "outputs": [
        {
          "output_type": "stream",
          "name": "stdout",
          "text": [
            "45\n"
          ]
        }
      ]
    },
    {
      "cell_type": "markdown",
      "source": [
        "adding all the numbers in a list using a function.\n",
        "\n",
        "l = [1,2,3,4,5,6,7,8,9,\"suryaa\",7.84,12.4]"
      ],
      "metadata": {
        "id": "9oJm3NPiTrTd"
      }
    },
    {
      "cell_type": "code",
      "source": [
        "def sum1(l):\n",
        "  sum = 0\n",
        "  for i in l:\n",
        "    if type(i)== int:\n",
        "      sum = sum + i\n",
        "  return sum\n",
        "\n",
        "l = [1,2,3,4,5,6,7,8,9,\"suryaa\",7.84,12.4]\n",
        "print(sum1(l))"
      ],
      "metadata": {
        "colab": {
          "base_uri": "https://localhost:8080/"
        },
        "id": "FmeTqbbKTu8j",
        "outputId": "daa5dacb-19da-48f7-fdb0-0d586239c832"
      },
      "execution_count": 37,
      "outputs": [
        {
          "output_type": "stream",
          "name": "stdout",
          "text": [
            "45\n"
          ]
        }
      ]
    },
    {
      "cell_type": "code",
      "source": [],
      "metadata": {
        "id": "otAcuxkFqM_E"
      },
      "execution_count": null,
      "outputs": []
    },
    {
      "cell_type": "markdown",
      "source": [
        "Function with Arguments"
      ],
      "metadata": {
        "id": "67OzrFrMVAKg"
      }
    },
    {
      "cell_type": "code",
      "source": [
        "def test11(a,b):\n",
        "  return a+b\n",
        "\n",
        "test11(2,3)"
      ],
      "metadata": {
        "colab": {
          "base_uri": "https://localhost:8080/"
        },
        "id": "jwN0NhQkVDkd",
        "outputId": "c436bc7d-ae62-407c-bc9c-29c78926d682"
      },
      "execution_count": 38,
      "outputs": [
        {
          "output_type": "execute_result",
          "data": {
            "text/plain": [
              "5"
            ]
          },
          "metadata": {},
          "execution_count": 38
        }
      ]
    },
    {
      "cell_type": "code",
      "source": [
        "test11(\"Sur\",\"yaa\")"
      ],
      "metadata": {
        "colab": {
          "base_uri": "https://localhost:8080/",
          "height": 36
        },
        "id": "kPftwV2fVQmW",
        "outputId": "58335a1d-4425-4db2-e11d-b36651202bb7"
      },
      "execution_count": 39,
      "outputs": [
        {
          "output_type": "execute_result",
          "data": {
            "text/plain": [
              "'Suryaa'"
            ],
            "application/vnd.google.colaboratory.intrinsic+json": {
              "type": "string"
            }
          },
          "metadata": {},
          "execution_count": 39
        }
      ]
    },
    {
      "cell_type": "markdown",
      "source": [
        "Printing only the string in the new list"
      ],
      "metadata": {
        "id": "56V8jQ4AWYlp"
      }
    },
    {
      "cell_type": "code",
      "source": [
        "# Solution\n",
        "\n",
        "def list1(l):\n",
        "  l1 = []\n",
        "  for i in l:\n",
        "    if type(i) == str:\n",
        "      l1.append(i)\n",
        "  return l1\n",
        "l = [3,4,5,6,7,8,\"sur\",5,6,7,\"yaa\",\"ineuron\"]\n",
        "a = list1(l)\n",
        "print(a)"
      ],
      "metadata": {
        "colab": {
          "base_uri": "https://localhost:8080/"
        },
        "id": "Xh14TqYbWYzx",
        "outputId": "34b9e92d-4a4d-441b-887d-a5e64cbdebdd"
      },
      "execution_count": 42,
      "outputs": [
        {
          "output_type": "stream",
          "name": "stdout",
          "text": [
            "['sur', 'yaa', 'ineuron']\n"
          ]
        }
      ]
    },
    {
      "cell_type": "markdown",
      "source": [
        "Calling  the list again (Reusability of the code)\n"
      ],
      "metadata": {
        "id": "XFCcfE5JXWPu"
      }
    },
    {
      "cell_type": "code",
      "source": [
        "l = [\"Suryaa\",\"Is\",\"A\",\"Data Scientist\",2,6,78854]\n",
        "b = list1(l)\n",
        "print(b)"
      ],
      "metadata": {
        "colab": {
          "base_uri": "https://localhost:8080/"
        },
        "id": "cgkM5m5WX-_t",
        "outputId": "046e92a9-faac-40db-d138-15aa0ba17626"
      },
      "execution_count": 43,
      "outputs": [
        {
          "output_type": "stream",
          "name": "stdout",
          "text": [
            "['Suryaa', 'Is', 'A', 'Data Scientist']\n"
          ]
        }
      ]
    },
    {
      "cell_type": "markdown",
      "source": [
        "Shift + Tab will gives the DocString of the function"
      ],
      "metadata": {
        "id": "TIJE6RmcYSsy"
      }
    },
    {
      "cell_type": "code",
      "source": [
        "# Solution\n",
        "\n",
        "def list1(l):\n",
        "  \"\"\"\n",
        "  This is a program to return list containing only strings \n",
        "  This is Written by Suryaa\n",
        "  \"\"\"\n",
        "\n",
        "  # The above statements represents the docstring\n",
        "  \n",
        "  l1 = []\n",
        "  for i in l:\n",
        "    if type(i) == str:\n",
        "      l1.append(i)\n",
        "  return l1\n",
        "l = [3,4,5,6,7,8,\"sur\",5,6,7,\"yaa\",\"ineuron\"]\n",
        "a = list1(l)\n",
        "print(a)"
      ],
      "metadata": {
        "id": "Fu2Gp1ScZD6d"
      },
      "execution_count": null,
      "outputs": []
    },
    {
      "cell_type": "code",
      "source": [
        "list1(l)  # Type Shift + tab"
      ],
      "metadata": {
        "colab": {
          "base_uri": "https://localhost:8080/"
        },
        "id": "05PS7nBGZjIU",
        "outputId": "8582c86a-5e3a-40b8-e99f-d01a32764baf"
      },
      "execution_count": 45,
      "outputs": [
        {
          "output_type": "execute_result",
          "data": {
            "text/plain": [
              "['Suryaa', 'Is', 'A', 'Data Scientist']"
            ]
          },
          "metadata": {},
          "execution_count": 45
        }
      ]
    },
    {
      "cell_type": "markdown",
      "source": [
        "1) Write a function which will try to find out length of the string without using the inbuilt len string.\n",
        "\n",
        "\n",
        "\n",
        "2) Write a function which will be able to print the index of an list element without the index inbuilt function.\n",
        "\n",
        "\n",
        "\n",
        "3) Write a function which will be able to print an IP address of your system.\n",
        "\n",
        "\n",
        "4) Write a function which will shutdown your system.\n",
        "\n",
        "\n",
        "5) Write a function which will take input as a list with any kind of numerical value and gave an out as a multiplication of all the numeric data \n",
        "l = [3.5,6.56,4,5,\"Sudh\",\"ineuron\",\"fsda bootcamp 2.0\")\n",
        "\n",
        "\n",
        "6) Write a function which will be able to read all the mails\n",
        "\n",
        "\n",
        "7) write a function which will be able to send a mail to anyone\n",
        "\n",
        "\n",
        "8) Write a function which will be able to read a document or word file from your system.\n",
        "\n",
        "send to mail id : query@ineuron.ai\n"
      ],
      "metadata": {
        "id": "p0f199PdZxmX"
      }
    }
  ]
}