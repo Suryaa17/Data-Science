{
 "cells": [
  {
   "cell_type": "markdown",
   "id": "9d89a23a",
   "metadata": {},
   "source": [
    "# SETS ADVANCED"
   ]
  },
  {
   "cell_type": "markdown",
   "id": "7eaa294c",
   "metadata": {},
   "source": [
    "Initialising a list with similiar datatypes"
   ]
  },
  {
   "cell_type": "code",
   "execution_count": 4,
   "id": "154c4713",
   "metadata": {},
   "outputs": [
    {
     "name": "stdout",
     "output_type": "stream",
     "text": [
      "{1, 2, 3, 4}\n"
     ]
    }
   ],
   "source": [
    "my_set = {1,2,3,4}\n",
    "print(my_set)"
   ]
  },
  {
   "cell_type": "markdown",
   "id": "565f986d",
   "metadata": {},
   "source": [
    "Initialising list with different datatypes"
   ]
  },
  {
   "cell_type": "code",
   "execution_count": 6,
   "id": "b8c16042",
   "metadata": {},
   "outputs": [
    {
     "name": "stdout",
     "output_type": "stream",
     "text": [
      "{'suryaa', 1.2, 1}\n"
     ]
    }
   ],
   "source": [
    "my_set = {1,1.2,\"suryaa\"}\n",
    "print(my_set)"
   ]
  },
  {
   "cell_type": "markdown",
   "id": "af533559",
   "metadata": {},
   "source": [
    "Initialising a empty set"
   ]
  },
  {
   "cell_type": "code",
   "execution_count": 9,
   "id": "b6606954",
   "metadata": {},
   "outputs": [
    {
     "name": "stdout",
     "output_type": "stream",
     "text": [
      "<class 'set'>\n"
     ]
    }
   ],
   "source": [
    "my_set = set()\n",
    "print(type(my_list))"
   ]
  },
  {
   "cell_type": "markdown",
   "id": "0a2fba93",
   "metadata": {},
   "source": [
    "# INDEXING IN SET"
   ]
  },
  {
   "cell_type": "markdown",
   "id": "9a226c70",
   "metadata": {},
   "source": [
    "Set does not support indexing"
   ]
  },
  {
   "cell_type": "code",
   "execution_count": 11,
   "id": "a662309b",
   "metadata": {},
   "outputs": [
    {
     "ename": "TypeError",
     "evalue": "'set' object is not subscriptable",
     "output_type": "error",
     "traceback": [
      "\u001b[1;31m---------------------------------------------------------------------------\u001b[0m",
      "\u001b[1;31mTypeError\u001b[0m                                 Traceback (most recent call last)",
      "\u001b[1;32m~\\AppData\\Local\\Temp/ipykernel_1396/1709894450.py\u001b[0m in \u001b[0;36m<module>\u001b[1;34m\u001b[0m\n\u001b[0;32m      1\u001b[0m \u001b[0mmy_set\u001b[0m \u001b[1;33m=\u001b[0m \u001b[1;33m{\u001b[0m\u001b[1;36m1\u001b[0m\u001b[1;33m,\u001b[0m\u001b[1;36m2\u001b[0m\u001b[1;33m,\u001b[0m\u001b[1;36m3\u001b[0m\u001b[1;33m,\u001b[0m\u001b[1;36m4\u001b[0m\u001b[1;33m,\u001b[0m\u001b[1;36m5\u001b[0m\u001b[1;33m,\u001b[0m\u001b[1;36m6\u001b[0m\u001b[1;33m,\u001b[0m\u001b[1;36m7\u001b[0m\u001b[1;33m}\u001b[0m\u001b[1;33m\u001b[0m\u001b[1;33m\u001b[0m\u001b[0m\n\u001b[1;32m----> 2\u001b[1;33m \u001b[0mprint\u001b[0m\u001b[1;33m(\u001b[0m\u001b[0mmy_set\u001b[0m\u001b[1;33m[\u001b[0m\u001b[1;36m0\u001b[0m\u001b[1;33m]\u001b[0m\u001b[1;33m)\u001b[0m\u001b[1;33m\u001b[0m\u001b[1;33m\u001b[0m\u001b[0m\n\u001b[0m",
      "\u001b[1;31mTypeError\u001b[0m: 'set' object is not subscriptable"
     ]
    }
   ],
   "source": [
    "my_set = {1,2,3,4,5,6,7}\n",
    "print(my_set[0])"
   ]
  },
  {
   "cell_type": "markdown",
   "id": "e11650af",
   "metadata": {},
   "source": [
    "# Basic operations"
   ]
  },
  {
   "cell_type": "markdown",
   "id": "f9dbcb1b",
   "metadata": {},
   "source": [
    "Adding an element to a set"
   ]
  },
  {
   "cell_type": "code",
   "execution_count": 14,
   "id": "4738fb17",
   "metadata": {},
   "outputs": [
    {
     "name": "stdout",
     "output_type": "stream",
     "text": [
      "{1, 2, 3, 5, 6, 7, 10}\n"
     ]
    }
   ],
   "source": [
    "my_set = {1,2,3,5,6,7}\n",
    "my_set.add(10)\n",
    "print(my_set)"
   ]
  },
  {
   "cell_type": "code",
   "execution_count": 13,
   "id": "78850b35",
   "metadata": {},
   "outputs": [
    {
     "name": "stdout",
     "output_type": "stream",
     "text": [
      "{1, 2, 3, 5, 6, 7, 'suryaa'}\n"
     ]
    }
   ],
   "source": [
    "my_set = {1,2,3,5,6,7}\n",
    "my_set.add(\"suryaa\")\n",
    "print(my_set)"
   ]
  },
  {
   "cell_type": "markdown",
   "id": "120895a7",
   "metadata": {},
   "source": [
    "Adding multiple elements to a set"
   ]
  },
  {
   "cell_type": "code",
   "execution_count": 16,
   "id": "fcefcb5e",
   "metadata": {},
   "outputs": [
    {
     "name": "stdout",
     "output_type": "stream",
     "text": [
      "{1, 2, 3, 5, 6, 7, 11, 12, 13}\n"
     ]
    }
   ],
   "source": [
    "my_set = {1,2,3,5,6,7}\n",
    "my_set.update([11,12,13])\n",
    "print(my_set)"
   ]
  },
  {
   "cell_type": "code",
   "execution_count": 18,
   "id": "c8e04944",
   "metadata": {},
   "outputs": [
    {
     "name": "stdout",
     "output_type": "stream",
     "text": [
      "{1, 2, 3, 66, 5, 6, 7, 11, 12, 13, 77, 55}\n"
     ]
    }
   ],
   "source": [
    "my_set = {1,2,3,5,6,7}\n",
    "my_set.update([11,12,13],{55,66,77})\n",
    "print(my_set)"
   ]
  },
  {
   "cell_type": "markdown",
   "id": "ed62f4bd",
   "metadata": {},
   "source": [
    "Discard an element"
   ]
  },
  {
   "cell_type": "code",
   "execution_count": 19,
   "id": "d179ff28",
   "metadata": {},
   "outputs": [
    {
     "name": "stdout",
     "output_type": "stream",
     "text": [
      "{1, 2, 5, 6, 7}\n"
     ]
    }
   ],
   "source": [
    "my_set = {1,2,3,5,6,7}\n",
    "my_set.discard(3)\n",
    "print(my_set)"
   ]
  },
  {
   "cell_type": "code",
   "execution_count": 20,
   "id": "48aca0d7",
   "metadata": {},
   "outputs": [
    {
     "name": "stdout",
     "output_type": "stream",
     "text": [
      "{1, 2, 3, 5, 6, 7}\n"
     ]
    }
   ],
   "source": [
    "my_set = {1,2,3,5,6,7}\n",
    "my_set.discard(10)\n",
    "print(my_set)"
   ]
  },
  {
   "cell_type": "markdown",
   "id": "aa350b11",
   "metadata": {},
   "source": [
    "Remove an element"
   ]
  },
  {
   "cell_type": "code",
   "execution_count": 22,
   "id": "31c5e233",
   "metadata": {},
   "outputs": [
    {
     "name": "stdout",
     "output_type": "stream",
     "text": [
      "{1, 2, 3, 6, 7}\n"
     ]
    }
   ],
   "source": [
    "my_set = {1,2,3,5,6,7}\n",
    "my_set.remove(5)\n",
    "print(my_set)"
   ]
  },
  {
   "cell_type": "code",
   "execution_count": 23,
   "id": "11eb227f",
   "metadata": {},
   "outputs": [
    {
     "ename": "KeyError",
     "evalue": "10",
     "output_type": "error",
     "traceback": [
      "\u001b[1;31m---------------------------------------------------------------------------\u001b[0m",
      "\u001b[1;31mKeyError\u001b[0m                                  Traceback (most recent call last)",
      "\u001b[1;32m~\\AppData\\Local\\Temp/ipykernel_1396/2670275742.py\u001b[0m in \u001b[0;36m<module>\u001b[1;34m\u001b[0m\n\u001b[0;32m      1\u001b[0m \u001b[0mmy_set\u001b[0m \u001b[1;33m=\u001b[0m \u001b[1;33m{\u001b[0m\u001b[1;36m1\u001b[0m\u001b[1;33m,\u001b[0m\u001b[1;36m2\u001b[0m\u001b[1;33m,\u001b[0m\u001b[1;36m3\u001b[0m\u001b[1;33m,\u001b[0m\u001b[1;36m5\u001b[0m\u001b[1;33m,\u001b[0m\u001b[1;36m6\u001b[0m\u001b[1;33m,\u001b[0m\u001b[1;36m7\u001b[0m\u001b[1;33m}\u001b[0m\u001b[1;33m\u001b[0m\u001b[1;33m\u001b[0m\u001b[0m\n\u001b[1;32m----> 2\u001b[1;33m \u001b[0mmy_set\u001b[0m\u001b[1;33m.\u001b[0m\u001b[0mremove\u001b[0m\u001b[1;33m(\u001b[0m\u001b[1;36m10\u001b[0m\u001b[1;33m)\u001b[0m\u001b[1;33m\u001b[0m\u001b[1;33m\u001b[0m\u001b[0m\n\u001b[0m\u001b[0;32m      3\u001b[0m \u001b[0mprint\u001b[0m\u001b[1;33m(\u001b[0m\u001b[0mmy_set\u001b[0m\u001b[1;33m)\u001b[0m\u001b[1;33m\u001b[0m\u001b[1;33m\u001b[0m\u001b[0m\n",
      "\u001b[1;31mKeyError\u001b[0m: 10"
     ]
    }
   ],
   "source": [
    "my_set = {1,2,3,5,6,7}\n",
    "my_set.remove(10)\n",
    "print(my_set)"
   ]
  },
  {
   "cell_type": "markdown",
   "id": "05a7043b",
   "metadata": {},
   "source": [
    "Pop an element"
   ]
  },
  {
   "cell_type": "code",
   "execution_count": 25,
   "id": "6c2eb8ba",
   "metadata": {},
   "outputs": [
    {
     "name": "stdout",
     "output_type": "stream",
     "text": [
      "{2, 3, 5, 6, 7}\n"
     ]
    }
   ],
   "source": [
    "my_set = {1,2,3,5,6,7}\n",
    "my_set.pop()\n",
    "print(my_set)"
   ]
  },
  {
   "cell_type": "code",
   "execution_count": 26,
   "id": "c5392003",
   "metadata": {},
   "outputs": [
    {
     "name": "stdout",
     "output_type": "stream",
     "text": [
      "{3, 5, 6, 7}\n"
     ]
    }
   ],
   "source": [
    "my_set.pop()\n",
    "print(my_set)"
   ]
  },
  {
   "cell_type": "code",
   "execution_count": 27,
   "id": "122a5fd3",
   "metadata": {},
   "outputs": [
    {
     "name": "stdout",
     "output_type": "stream",
     "text": [
      "{5, 6, 7}\n"
     ]
    }
   ],
   "source": [
    "my_set.pop()\n",
    "print(my_set)"
   ]
  },
  {
   "cell_type": "code",
   "execution_count": 28,
   "id": "70953695",
   "metadata": {},
   "outputs": [
    {
     "name": "stdout",
     "output_type": "stream",
     "text": [
      "{6, 7}\n"
     ]
    }
   ],
   "source": [
    "my_set.pop()\n",
    "print(my_set)"
   ]
  },
  {
   "cell_type": "code",
   "execution_count": 29,
   "id": "cd425661",
   "metadata": {},
   "outputs": [
    {
     "name": "stdout",
     "output_type": "stream",
     "text": [
      "{7}\n"
     ]
    }
   ],
   "source": [
    "my_set.pop()\n",
    "print(my_set)"
   ]
  },
  {
   "cell_type": "markdown",
   "id": "90de876e",
   "metadata": {},
   "source": [
    "Set intersection"
   ]
  },
  {
   "cell_type": "code",
   "execution_count": 32,
   "id": "5c3b9faf",
   "metadata": {},
   "outputs": [
    {
     "name": "stdout",
     "output_type": "stream",
     "text": [
      "{1, 2, 3, 4, 5, 6, 7, 8}\n"
     ]
    }
   ],
   "source": [
    "set1 = {1,2,3,4,5}\n",
    "set2 = {4,5,6,7,8}\n",
    "print(set1 | set2)"
   ]
  },
  {
   "cell_type": "markdown",
   "id": "e022a8a0",
   "metadata": {},
   "source": [
    "Set difference "
   ]
  },
  {
   "cell_type": "code",
   "execution_count": 33,
   "id": "eec7ee53",
   "metadata": {},
   "outputs": [
    {
     "name": "stdout",
     "output_type": "stream",
     "text": [
      "{4, 5}\n"
     ]
    }
   ],
   "source": [
    "set1 = {1,2,3,4,5}\n",
    "set2 = {4,5,6,7,8}\n",
    "print(set1 & set2)"
   ]
  }
 ],
 "metadata": {
  "kernelspec": {
   "display_name": "Python 3 (ipykernel)",
   "language": "python",
   "name": "python3"
  },
  "language_info": {
   "codemirror_mode": {
    "name": "ipython",
    "version": 3
   },
   "file_extension": ".py",
   "mimetype": "text/x-python",
   "name": "python",
   "nbconvert_exporter": "python",
   "pygments_lexer": "ipython3",
   "version": "3.9.7"
  }
 },
 "nbformat": 4,
 "nbformat_minor": 5
}
