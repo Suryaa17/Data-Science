{
 "cells": [
  {
   "cell_type": "markdown",
   "id": "7ae1d0f4",
   "metadata": {},
   "source": [
    "# TUPLES ADVANCED"
   ]
  },
  {
   "cell_type": "markdown",
   "id": "319f8175",
   "metadata": {},
   "source": [
    "# Empty tuple"
   ]
  },
  {
   "cell_type": "code",
   "execution_count": 33,
   "id": "f489a4e1",
   "metadata": {},
   "outputs": [
    {
     "name": "stdout",
     "output_type": "stream",
     "text": [
      "()\n",
      "<class 'tuple'>\n"
     ]
    }
   ],
   "source": [
    "details = ()\n",
    "print(details)\n",
    "print(type(details))"
   ]
  },
  {
   "cell_type": "markdown",
   "id": "090ca938",
   "metadata": {},
   "source": [
    "# Tuples with similar datatypes\n"
   ]
  },
  {
   "cell_type": "code",
   "execution_count": 34,
   "id": "47cc6c3a",
   "metadata": {},
   "outputs": [
    {
     "name": "stdout",
     "output_type": "stream",
     "text": [
      "('suryaa', 'ahmed', 'srinu')\n",
      "<class 'tuple'>\n"
     ]
    }
   ],
   "source": [
    "tu = (\"suryaa\",\"ahmed\",\"srinu\")\n",
    "print(tu)\n",
    "print(type(tu))"
   ]
  },
  {
   "cell_type": "markdown",
   "id": "27bede3b",
   "metadata": {},
   "source": [
    "# Tuples with different datatypes"
   ]
  },
  {
   "cell_type": "code",
   "execution_count": 35,
   "id": "a6bcfcf3",
   "metadata": {},
   "outputs": [
    {
     "name": "stdout",
     "output_type": "stream",
     "text": [
      "('suryaa', 20, 6.1)\n",
      "<class 'tuple'>\n"
     ]
    }
   ],
   "source": [
    "tu = (\"suryaa\",20,6.1)\n",
    "print(tu)\n",
    "print(type(tu))"
   ]
  },
  {
   "cell_type": "markdown",
   "id": "c66987ed",
   "metadata": {},
   "source": [
    "# Nested tuples"
   ]
  },
  {
   "cell_type": "code",
   "execution_count": 38,
   "id": "6dd09029",
   "metadata": {},
   "outputs": [
    {
     "name": "stdout",
     "output_type": "stream",
     "text": [
      "('suryaa', 20, (17, 8, 2002))\n",
      "<class 'tuple'>\n"
     ]
    }
   ],
   "source": [
    "tu = (\"suryaa\",20,(17,8,2002))\n",
    "print(tu)\n",
    "print(type(tu))"
   ]
  },
  {
   "cell_type": "markdown",
   "id": "8ffc9120",
   "metadata": {},
   "source": [
    "# tuple packing\n",
    " "
   ]
  },
  {
   "cell_type": "code",
   "execution_count": 39,
   "id": "53a56808",
   "metadata": {},
   "outputs": [
    {
     "name": "stdout",
     "output_type": "stream",
     "text": [
      "('suryaa', 17, 8, 2002)\n",
      "<class 'tuple'>\n"
     ]
    }
   ],
   "source": [
    "tu = \"suryaa\",17,8,2002\n",
    "print(tu)\n",
    "print(type(tu))"
   ]
  },
  {
   "cell_type": "markdown",
   "id": "3256361f",
   "metadata": {},
   "source": [
    "# Tuple unpacking"
   ]
  },
  {
   "cell_type": "code",
   "execution_count": 40,
   "id": "e067f394",
   "metadata": {},
   "outputs": [
    {
     "name": "stdout",
     "output_type": "stream",
     "text": [
      "suryaa\n",
      "17\n",
      "8\n",
      "2002\n"
     ]
    }
   ],
   "source": [
    "a,b,c,d = tu\n",
    "print(a)\n",
    "print(b)\n",
    "print(c)\n",
    "print(d)"
   ]
  },
  {
   "cell_type": "markdown",
   "id": "9099fdad",
   "metadata": {},
   "source": [
    "# Accessing elements in Tuple"
   ]
  },
  {
   "cell_type": "code",
   "execution_count": 41,
   "id": "3dee8504",
   "metadata": {},
   "outputs": [
    {
     "name": "stdout",
     "output_type": "stream",
     "text": [
      "s\n",
      "r\n",
      "a\n"
     ]
    }
   ],
   "source": [
    "tu = ('s','u','r','y','a','a')\n",
    "print(tu[0])\n",
    "print(tu[2])\n",
    "print(tu[5])"
   ]
  },
  {
   "cell_type": "markdown",
   "id": "12dedede",
   "metadata": {},
   "source": [
    "# Nested tuple indexing"
   ]
  },
  {
   "cell_type": "code",
   "execution_count": 42,
   "id": "45b3d98f",
   "metadata": {},
   "outputs": [
    {
     "name": "stdout",
     "output_type": "stream",
     "text": [
      "('suryaa', 20, (17, 8, 2002), (6.1, 65))\n"
     ]
    }
   ],
   "source": [
    "tu = (\"suryaa\",20,(17,8,2002),(6.1,65))\n",
    "print(tu)"
   ]
  },
  {
   "cell_type": "code",
   "execution_count": 43,
   "id": "0aedf634",
   "metadata": {},
   "outputs": [
    {
     "name": "stdout",
     "output_type": "stream",
     "text": [
      "17\n"
     ]
    }
   ],
   "source": [
    "print(tu[2][0])"
   ]
  },
  {
   "cell_type": "code",
   "execution_count": 45,
   "id": "413667f3",
   "metadata": {},
   "outputs": [
    {
     "name": "stdout",
     "output_type": "stream",
     "text": [
      "65\n"
     ]
    }
   ],
   "source": [
    "print(tu[3][1])"
   ]
  },
  {
   "cell_type": "markdown",
   "id": "4212ffc9",
   "metadata": {},
   "source": [
    "# Negative indexing"
   ]
  },
  {
   "cell_type": "code",
   "execution_count": 46,
   "id": "b0d3f480",
   "metadata": {},
   "outputs": [
    {
     "name": "stdout",
     "output_type": "stream",
     "text": [
      "a\n",
      "a\n",
      "u\n"
     ]
    }
   ],
   "source": [
    "tu = ('s','u','r','y','a','a')\n",
    "print(tu[-1])\n",
    "print(tu[-2])\n",
    "print(tu[-5])"
   ]
  },
  {
   "cell_type": "markdown",
   "id": "24ecd5f1",
   "metadata": {},
   "source": [
    "# Tuple slicing"
   ]
  },
  {
   "cell_type": "code",
   "execution_count": 47,
   "id": "6a5eb627",
   "metadata": {},
   "outputs": [
    {
     "name": "stdout",
     "output_type": "stream",
     "text": [
      "('s', 'u', 'r', 'y', 'a', 'a')\n"
     ]
    }
   ],
   "source": [
    "tu = ('s','u','r','y','a','a')\n",
    "print(tu)"
   ]
  },
  {
   "cell_type": "code",
   "execution_count": 48,
   "id": "ea240ce9",
   "metadata": {},
   "outputs": [
    {
     "name": "stdout",
     "output_type": "stream",
     "text": [
      "('s', 'u', 'r', 'y', 'a', 'a')\n"
     ]
    }
   ],
   "source": [
    "print(tu[:])"
   ]
  },
  {
   "cell_type": "code",
   "execution_count": 49,
   "id": "4f219a14",
   "metadata": {},
   "outputs": [
    {
     "name": "stdout",
     "output_type": "stream",
     "text": [
      "('s', 'u', 'r')\n"
     ]
    }
   ],
   "source": [
    "print(tu[0:3])"
   ]
  },
  {
   "cell_type": "code",
   "execution_count": 50,
   "id": "010dc8e1",
   "metadata": {},
   "outputs": [
    {
     "name": "stdout",
     "output_type": "stream",
     "text": [
      "('r', 'y', 'a', 'a')\n"
     ]
    }
   ],
   "source": [
    "print(tu[2:])"
   ]
  },
  {
   "cell_type": "code",
   "execution_count": 51,
   "id": "1a8b914c",
   "metadata": {},
   "outputs": [
    {
     "name": "stdout",
     "output_type": "stream",
     "text": [
      "('s', 'u', 'r', 'y', 'a', 'a')\n"
     ]
    }
   ],
   "source": [
    "print(tu[-6:])"
   ]
  },
  {
   "cell_type": "markdown",
   "id": "4c9b2953",
   "metadata": {},
   "source": [
    "# Altering a tuple"
   ]
  },
  {
   "cell_type": "markdown",
   "id": "a405a48d",
   "metadata": {},
   "source": [
    "Tuples cant be altered"
   ]
  },
  {
   "cell_type": "code",
   "execution_count": 52,
   "id": "6d032304",
   "metadata": {},
   "outputs": [
    {
     "ename": "TypeError",
     "evalue": "'tuple' object does not support item assignment",
     "output_type": "error",
     "traceback": [
      "\u001b[1;31m---------------------------------------------------------------------------\u001b[0m",
      "\u001b[1;31mTypeError\u001b[0m                                 Traceback (most recent call last)",
      "\u001b[1;32m~\\AppData\\Local\\Temp/ipykernel_6376/692717565.py\u001b[0m in \u001b[0;36m<module>\u001b[1;34m\u001b[0m\n\u001b[0;32m      1\u001b[0m \u001b[0mtu\u001b[0m \u001b[1;33m=\u001b[0m \u001b[1;33m(\u001b[0m\u001b[1;34m's'\u001b[0m\u001b[1;33m,\u001b[0m\u001b[1;34m'u'\u001b[0m\u001b[1;33m,\u001b[0m\u001b[1;34m'r'\u001b[0m\u001b[1;33m,\u001b[0m\u001b[1;34m'y'\u001b[0m\u001b[1;33m,\u001b[0m\u001b[1;34m'a'\u001b[0m\u001b[1;33m,\u001b[0m\u001b[1;34m'a'\u001b[0m\u001b[1;33m)\u001b[0m\u001b[1;33m\u001b[0m\u001b[1;33m\u001b[0m\u001b[0m\n\u001b[1;32m----> 2\u001b[1;33m \u001b[0mtu\u001b[0m\u001b[1;33m[\u001b[0m\u001b[1;36m1\u001b[0m\u001b[1;33m]\u001b[0m \u001b[1;33m=\u001b[0m \u001b[1;34m\"s\"\u001b[0m\u001b[1;33m\u001b[0m\u001b[1;33m\u001b[0m\u001b[0m\n\u001b[0m\u001b[0;32m      3\u001b[0m \u001b[0mprint\u001b[0m\u001b[1;33m(\u001b[0m\u001b[0mtu\u001b[0m\u001b[1;33m)\u001b[0m\u001b[1;33m\u001b[0m\u001b[1;33m\u001b[0m\u001b[0m\n",
      "\u001b[1;31mTypeError\u001b[0m: 'tuple' object does not support item assignment"
     ]
    }
   ],
   "source": [
    "tu = ('s','u','r','y','a','a')\n",
    "tu[1] = \"s\"\n",
    "print(tu)"
   ]
  },
  {
   "cell_type": "markdown",
   "id": "2241e0ee",
   "metadata": {},
   "source": [
    "# Deleting a tuple"
   ]
  },
  {
   "cell_type": "code",
   "execution_count": 53,
   "id": "654d33a2",
   "metadata": {},
   "outputs": [
    {
     "ename": "TypeError",
     "evalue": "'tuple' object doesn't support item deletion",
     "output_type": "error",
     "traceback": [
      "\u001b[1;31m---------------------------------------------------------------------------\u001b[0m",
      "\u001b[1;31mTypeError\u001b[0m                                 Traceback (most recent call last)",
      "\u001b[1;32m~\\AppData\\Local\\Temp/ipykernel_6376/3176595831.py\u001b[0m in \u001b[0;36m<module>\u001b[1;34m\u001b[0m\n\u001b[0;32m      1\u001b[0m \u001b[0mtu\u001b[0m \u001b[1;33m=\u001b[0m \u001b[1;33m(\u001b[0m\u001b[1;34m's'\u001b[0m\u001b[1;33m,\u001b[0m\u001b[1;34m'u'\u001b[0m\u001b[1;33m,\u001b[0m\u001b[1;34m'r'\u001b[0m\u001b[1;33m,\u001b[0m\u001b[1;34m'y'\u001b[0m\u001b[1;33m,\u001b[0m\u001b[1;34m'a'\u001b[0m\u001b[1;33m,\u001b[0m\u001b[1;34m'a'\u001b[0m\u001b[1;33m)\u001b[0m\u001b[1;33m\u001b[0m\u001b[1;33m\u001b[0m\u001b[0m\n\u001b[1;32m----> 2\u001b[1;33m \u001b[1;32mdel\u001b[0m \u001b[0mtu\u001b[0m\u001b[1;33m[\u001b[0m\u001b[1;36m2\u001b[0m\u001b[1;33m]\u001b[0m\u001b[1;33m\u001b[0m\u001b[1;33m\u001b[0m\u001b[0m\n\u001b[0m",
      "\u001b[1;31mTypeError\u001b[0m: 'tuple' object doesn't support item deletion"
     ]
    }
   ],
   "source": [
    "tu = ('s','u','r','y','a','a')\n",
    "del tu[2]"
   ]
  },
  {
   "cell_type": "code",
   "execution_count": 54,
   "id": "8503c8be",
   "metadata": {},
   "outputs": [],
   "source": [
    "tu = ('s','u','r','y','a','a')\n",
    "del tu"
   ]
  },
  {
   "cell_type": "code",
   "execution_count": 55,
   "id": "07df2bc0",
   "metadata": {},
   "outputs": [
    {
     "ename": "NameError",
     "evalue": "name 'tu' is not defined",
     "output_type": "error",
     "traceback": [
      "\u001b[1;31m---------------------------------------------------------------------------\u001b[0m",
      "\u001b[1;31mNameError\u001b[0m                                 Traceback (most recent call last)",
      "\u001b[1;32m~\\AppData\\Local\\Temp/ipykernel_6376/1761157670.py\u001b[0m in \u001b[0;36m<module>\u001b[1;34m\u001b[0m\n\u001b[1;32m----> 1\u001b[1;33m \u001b[0mprint\u001b[0m\u001b[1;33m(\u001b[0m\u001b[0mtu\u001b[0m\u001b[1;33m)\u001b[0m\u001b[1;33m\u001b[0m\u001b[1;33m\u001b[0m\u001b[0m\n\u001b[0m",
      "\u001b[1;31mNameError\u001b[0m: name 'tu' is not defined"
     ]
    }
   ],
   "source": [
    "print(tu)"
   ]
  },
  {
   "cell_type": "markdown",
   "id": "8e494884",
   "metadata": {},
   "source": [
    "# Various operations on tuple"
   ]
  },
  {
   "cell_type": "code",
   "execution_count": 56,
   "id": "160f1c3b",
   "metadata": {},
   "outputs": [
    {
     "name": "stdout",
     "output_type": "stream",
     "text": [
      "(1, 2, 3, 4, 5, 6)\n"
     ]
    }
   ],
   "source": [
    "tu = (1,2,3) + (4,5,6)\n",
    "print(tu)"
   ]
  },
  {
   "cell_type": "code",
   "execution_count": 57,
   "id": "a335922b",
   "metadata": {},
   "outputs": [
    {
     "name": "stdout",
     "output_type": "stream",
     "text": [
      "('suryaa', 20, 'suryaa', 20, 'suryaa', 20)\n"
     ]
    }
   ],
   "source": [
    "tu = (\"suryaa\",20)\n",
    "print(tu *3)"
   ]
  },
  {
   "cell_type": "code",
   "execution_count": 58,
   "id": "7cb8e82d",
   "metadata": {},
   "outputs": [
    {
     "name": "stdout",
     "output_type": "stream",
     "text": [
      "s\n",
      "r\n",
      "a\n",
      "2\n"
     ]
    }
   ],
   "source": [
    "tu = tu = ('s','u','r','y','a','a')\n",
    "print(tu[0])\n",
    "print(tu[2])\n",
    "print(tu[5])\n",
    "print(tu.count('a'))"
   ]
  },
  {
   "cell_type": "code",
   "execution_count": 59,
   "id": "c286cf23",
   "metadata": {},
   "outputs": [
    {
     "name": "stdout",
     "output_type": "stream",
     "text": [
      "3\n"
     ]
    }
   ],
   "source": [
    "tu = ('s','u','r','y','a','a')\n",
    "print(tu.index('y'))"
   ]
  }
 ],
 "metadata": {
  "kernelspec": {
   "display_name": "Python 3 (ipykernel)",
   "language": "python",
   "name": "python3"
  },
  "language_info": {
   "codemirror_mode": {
    "name": "ipython",
    "version": 3
   },
   "file_extension": ".py",
   "mimetype": "text/x-python",
   "name": "python",
   "nbconvert_exporter": "python",
   "pygments_lexer": "ipython3",
   "version": "3.9.7"
  }
 },
 "nbformat": 4,
 "nbformat_minor": 5
}
