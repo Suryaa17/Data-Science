{
 "cells": [
  {
   "cell_type": "markdown",
   "id": "f60cd19c",
   "metadata": {},
   "source": [
    "# ERROR HANDLING"
   ]
  },
  {
   "cell_type": "raw",
   "id": "8e9f8856",
   "metadata": {},
   "source": [
    "2 Types of errors : \n",
    "\n",
    "           1) Logical errors\n",
    "\n",
    "           2) Syntax errors"
   ]
  },
  {
   "cell_type": "code",
   "execution_count": 1,
   "id": "1c9f26ec",
   "metadata": {},
   "outputs": [
    {
     "ename": "SyntaxError",
     "evalue": "invalid syntax (Temp/ipykernel_6280/841021118.py, line 3)",
     "output_type": "error",
     "traceback": [
      "\u001b[1;36m  File \u001b[1;32m\"C:\\Users\\ntsur\\AppData\\Local\\Temp/ipykernel_6280/841021118.py\"\u001b[1;36m, line \u001b[1;32m3\u001b[0m\n\u001b[1;33m    if (a<20)\u001b[0m\n\u001b[1;37m             ^\u001b[0m\n\u001b[1;31mSyntaxError\u001b[0m\u001b[1;31m:\u001b[0m invalid syntax\n"
     ]
    }
   ],
   "source": [
    "# Syntax error \n",
    "a = 10\n",
    "if (a<20)\n",
    "    print(\"Bigger\")"
   ]
  },
  {
   "cell_type": "code",
   "execution_count": 2,
   "id": "9e42b820",
   "metadata": {},
   "outputs": [
    {
     "ename": "ZeroDivisionError",
     "evalue": "division by zero",
     "output_type": "error",
     "traceback": [
      "\u001b[1;31m---------------------------------------------------------------------------\u001b[0m",
      "\u001b[1;31mZeroDivisionError\u001b[0m                         Traceback (most recent call last)",
      "\u001b[1;32m~\\AppData\\Local\\Temp/ipykernel_6280/615874576.py\u001b[0m in \u001b[0;36m<module>\u001b[1;34m\u001b[0m\n\u001b[0;32m      1\u001b[0m \u001b[1;31m# Logical error\u001b[0m\u001b[1;33m\u001b[0m\u001b[1;33m\u001b[0m\u001b[0m\n\u001b[1;32m----> 2\u001b[1;33m \u001b[1;36m12\u001b[0m\u001b[1;33m/\u001b[0m\u001b[1;36m0\u001b[0m\u001b[1;33m\u001b[0m\u001b[1;33m\u001b[0m\u001b[0m\n\u001b[0m",
      "\u001b[1;31mZeroDivisionError\u001b[0m: division by zero"
     ]
    }
   ],
   "source": [
    "# Logical error \n",
    "12/0"
   ]
  },
  {
   "cell_type": "code",
   "execution_count": 3,
   "id": "6820f57b",
   "metadata": {},
   "outputs": [
    {
     "ename": "NameError",
     "evalue": "name 'c' is not defined",
     "output_type": "error",
     "traceback": [
      "\u001b[1;31m---------------------------------------------------------------------------\u001b[0m",
      "\u001b[1;31mNameError\u001b[0m                                 Traceback (most recent call last)",
      "\u001b[1;32m~\\AppData\\Local\\Temp/ipykernel_6280/1043272921.py\u001b[0m in \u001b[0;36m<module>\u001b[1;34m\u001b[0m\n\u001b[0;32m      2\u001b[0m \u001b[0mb\u001b[0m \u001b[1;33m=\u001b[0m \u001b[1;36m20\u001b[0m\u001b[1;33m\u001b[0m\u001b[1;33m\u001b[0m\u001b[0m\n\u001b[0;32m      3\u001b[0m \u001b[0msum\u001b[0m \u001b[1;33m=\u001b[0m \u001b[0ma\u001b[0m\u001b[1;33m+\u001b[0m\u001b[0mb\u001b[0m\u001b[1;33m\u001b[0m\u001b[1;33m\u001b[0m\u001b[0m\n\u001b[1;32m----> 4\u001b[1;33m \u001b[0mprint\u001b[0m\u001b[1;33m(\u001b[0m\u001b[1;34m\"Addition : \"\u001b[0m\u001b[1;33m,\u001b[0m\u001b[0mc\u001b[0m\u001b[1;33m)\u001b[0m\u001b[1;33m\u001b[0m\u001b[1;33m\u001b[0m\u001b[0m\n\u001b[0m",
      "\u001b[1;31mNameError\u001b[0m: name 'c' is not defined"
     ]
    }
   ],
   "source": [
    "a = 20\n",
    "b = 20\n",
    "sum = a+b\n",
    "print(\"Addition : \",c)"
   ]
  },
  {
   "cell_type": "code",
   "execution_count": 4,
   "id": "436bc9d6",
   "metadata": {},
   "outputs": [
    {
     "ename": "FileNotFoundError",
     "evalue": "[Errno 2] No such file or directory: 'test123.txt'",
     "output_type": "error",
     "traceback": [
      "\u001b[1;31m---------------------------------------------------------------------------\u001b[0m",
      "\u001b[1;31mFileNotFoundError\u001b[0m                         Traceback (most recent call last)",
      "\u001b[1;32m~\\AppData\\Local\\Temp/ipykernel_6280/3076455747.py\u001b[0m in \u001b[0;36m<module>\u001b[1;34m\u001b[0m\n\u001b[0;32m      1\u001b[0m \u001b[1;31m# logical error\u001b[0m\u001b[1;33m\u001b[0m\u001b[1;33m\u001b[0m\u001b[0m\n\u001b[1;32m----> 2\u001b[1;33m \u001b[0mopen\u001b[0m\u001b[1;33m(\u001b[0m\u001b[1;34m\"test123.txt\"\u001b[0m\u001b[1;33m,\u001b[0m\u001b[1;34m\"r\"\u001b[0m\u001b[1;33m)\u001b[0m\u001b[1;33m\u001b[0m\u001b[1;33m\u001b[0m\u001b[0m\n\u001b[0m",
      "\u001b[1;31mFileNotFoundError\u001b[0m: [Errno 2] No such file or directory: 'test123.txt'"
     ]
    }
   ],
   "source": [
    "# logical error \n",
    "open(\"test123.txt\",\"r\")"
   ]
  },
  {
   "cell_type": "code",
   "execution_count": 6,
   "id": "dc2fa3e9",
   "metadata": {},
   "outputs": [
    {
     "name": "stdout",
     "output_type": "stream",
     "text": [
      "['ArithmeticError', 'AssertionError', 'AttributeError', 'BaseException', 'BlockingIOError', 'BrokenPipeError', 'BufferError', 'BytesWarning', 'ChildProcessError', 'ConnectionAbortedError', 'ConnectionError', 'ConnectionRefusedError', 'ConnectionResetError', 'DeprecationWarning', 'EOFError', 'Ellipsis', 'EnvironmentError', 'Exception', 'False', 'FileExistsError', 'FileNotFoundError', 'FloatingPointError', 'FutureWarning', 'GeneratorExit', 'IOError', 'ImportError', 'ImportWarning', 'IndentationError', 'IndexError', 'InterruptedError', 'IsADirectoryError', 'KeyError', 'KeyboardInterrupt', 'LookupError', 'MemoryError', 'ModuleNotFoundError', 'NameError', 'None', 'NotADirectoryError', 'NotImplemented', 'NotImplementedError', 'OSError', 'OverflowError', 'PendingDeprecationWarning', 'PermissionError', 'ProcessLookupError', 'RecursionError', 'ReferenceError', 'ResourceWarning', 'RuntimeError', 'RuntimeWarning', 'StopAsyncIteration', 'StopIteration', 'SyntaxError', 'SyntaxWarning', 'SystemError', 'SystemExit', 'TabError', 'TimeoutError', 'True', 'TypeError', 'UnboundLocalError', 'UnicodeDecodeError', 'UnicodeEncodeError', 'UnicodeError', 'UnicodeTranslateError', 'UnicodeWarning', 'UserWarning', 'ValueError', 'Warning', 'WindowsError', 'ZeroDivisionError', '__IPYTHON__', '__build_class__', '__debug__', '__doc__', '__import__', '__loader__', '__name__', '__package__', '__spec__', 'abs', 'all', 'any', 'ascii', 'bin', 'bool', 'breakpoint', 'bytearray', 'bytes', 'callable', 'chr', 'classmethod', 'compile', 'complex', 'copyright', 'credits', 'delattr', 'dict', 'dir', 'display', 'divmod', 'enumerate', 'eval', 'exec', 'execfile', 'filter', 'float', 'format', 'frozenset', 'get_ipython', 'getattr', 'globals', 'hasattr', 'hash', 'help', 'hex', 'id', 'input', 'int', 'isinstance', 'issubclass', 'iter', 'len', 'license', 'list', 'locals', 'map', 'max', 'memoryview', 'min', 'next', 'object', 'oct', 'open', 'ord', 'pow', 'print', 'property', 'range', 'repr', 'reversed', 'round', 'runfile', 'set', 'setattr', 'slice', 'sorted', 'staticmethod', 'str', 'sum', 'super', 'tuple', 'type', 'vars', 'zip']\n"
     ]
    }
   ],
   "source": [
    "#### Way to check all the builtin error in python ###\n",
    "\n",
    "print(dir(locals()['__builtins__']))"
   ]
  },
  {
   "cell_type": "raw",
   "id": "019d45a9",
   "metadata": {},
   "source": [
    "Some of the examples are as follows"
   ]
  },
  {
   "cell_type": "code",
   "execution_count": 7,
   "id": "60384654",
   "metadata": {},
   "outputs": [],
   "source": [
    "### Assertion error"
   ]
  },
  {
   "cell_type": "code",
   "execution_count": 9,
   "id": "146b77fd",
   "metadata": {},
   "outputs": [
    {
     "ename": "AssertionError",
     "evalue": "Invalid operation",
     "output_type": "error",
     "traceback": [
      "\u001b[1;31m---------------------------------------------------------------------------\u001b[0m",
      "\u001b[1;31mAssertionError\u001b[0m                            Traceback (most recent call last)",
      "\u001b[1;32m~\\AppData\\Local\\Temp/ipykernel_6280/851208423.py\u001b[0m in \u001b[0;36m<module>\u001b[1;34m\u001b[0m\n\u001b[0;32m      1\u001b[0m \u001b[0mx\u001b[0m  \u001b[1;33m=\u001b[0m \u001b[1;36m2\u001b[0m\u001b[1;33m\u001b[0m\u001b[1;33m\u001b[0m\u001b[0m\n\u001b[0;32m      2\u001b[0m \u001b[0my\u001b[0m \u001b[1;33m=\u001b[0m \u001b[1;36m0\u001b[0m\u001b[1;33m\u001b[0m\u001b[1;33m\u001b[0m\u001b[0m\n\u001b[1;32m----> 3\u001b[1;33m \u001b[1;32massert\u001b[0m \u001b[0my\u001b[0m\u001b[1;33m!=\u001b[0m\u001b[1;36m0\u001b[0m\u001b[1;33m,\u001b[0m \u001b[1;34m\"Invalid operation\"\u001b[0m\u001b[1;33m\u001b[0m\u001b[1;33m\u001b[0m\u001b[0m\n\u001b[0m\u001b[0;32m      4\u001b[0m \u001b[0mprint\u001b[0m\u001b[1;33m(\u001b[0m\u001b[0mx\u001b[0m\u001b[1;33m/\u001b[0m\u001b[0my\u001b[0m\u001b[1;33m)\u001b[0m\u001b[1;33m\u001b[0m\u001b[1;33m\u001b[0m\u001b[0m\n",
      "\u001b[1;31mAssertionError\u001b[0m: Invalid operation"
     ]
    }
   ],
   "source": [
    "x  = 2\n",
    "y = 0\n",
    "assert y!=0, \"Invalid operation\"\n",
    "print(x/y)"
   ]
  },
  {
   "cell_type": "code",
   "execution_count": 11,
   "id": "77a495cd",
   "metadata": {},
   "outputs": [
    {
     "name": "stdout",
     "output_type": "stream",
     "text": [
      "2.0\n"
     ]
    }
   ],
   "source": [
    "x  = 2\n",
    "y = 1\n",
    "assert y==1, \"Invalid operation\"\n",
    "print(x/y)"
   ]
  },
  {
   "cell_type": "code",
   "execution_count": 12,
   "id": "9da3815f",
   "metadata": {},
   "outputs": [],
   "source": [
    "### Arithmethic error"
   ]
  },
  {
   "cell_type": "code",
   "execution_count": 13,
   "id": "eb60dd92",
   "metadata": {},
   "outputs": [],
   "source": [
    "### Attribute error"
   ]
  },
  {
   "cell_type": "code",
   "execution_count": 14,
   "id": "4ee392d7",
   "metadata": {},
   "outputs": [
    {
     "ename": "AttributeError",
     "evalue": "'int' object has no attribute 'append'",
     "output_type": "error",
     "traceback": [
      "\u001b[1;31m---------------------------------------------------------------------------\u001b[0m",
      "\u001b[1;31mAttributeError\u001b[0m                            Traceback (most recent call last)",
      "\u001b[1;32m~\\AppData\\Local\\Temp/ipykernel_6280/543964198.py\u001b[0m in \u001b[0;36m<module>\u001b[1;34m\u001b[0m\n\u001b[0;32m      1\u001b[0m \u001b[0ma\u001b[0m \u001b[1;33m=\u001b[0m \u001b[1;36m20\u001b[0m\u001b[1;33m\u001b[0m\u001b[1;33m\u001b[0m\u001b[0m\n\u001b[1;32m----> 2\u001b[1;33m \u001b[0ma\u001b[0m\u001b[1;33m.\u001b[0m\u001b[0mappend\u001b[0m\u001b[1;33m(\u001b[0m\u001b[1;36m20\u001b[0m\u001b[1;33m)\u001b[0m\u001b[1;33m\u001b[0m\u001b[1;33m\u001b[0m\u001b[0m\n\u001b[0m",
      "\u001b[1;31mAttributeError\u001b[0m: 'int' object has no attribute 'append'"
     ]
    }
   ],
   "source": [
    "a = 20\n",
    "a.append(20)"
   ]
  },
  {
   "cell_type": "raw",
   "id": "c8a3aed1",
   "metadata": {},
   "source": [
    "Import Error"
   ]
  },
  {
   "cell_type": "code",
   "execution_count": 15,
   "id": "9b274c99",
   "metadata": {},
   "outputs": [
    {
     "ename": "NameError",
     "evalue": "name 'random' is not defined",
     "output_type": "error",
     "traceback": [
      "\u001b[1;31m---------------------------------------------------------------------------\u001b[0m",
      "\u001b[1;31mNameError\u001b[0m                                 Traceback (most recent call last)",
      "\u001b[1;32m~\\AppData\\Local\\Temp/ipykernel_6280/3995684863.py\u001b[0m in \u001b[0;36m<module>\u001b[1;34m\u001b[0m\n\u001b[1;32m----> 1\u001b[1;33m \u001b[0ma\u001b[0m \u001b[1;33m=\u001b[0m \u001b[0mrandom\u001b[0m\u001b[1;33m.\u001b[0m\u001b[0mrandint\u001b[0m\u001b[1;33m(\u001b[0m\u001b[1;36m10\u001b[0m\u001b[1;33m)\u001b[0m\u001b[1;33m\u001b[0m\u001b[1;33m\u001b[0m\u001b[0m\n\u001b[0m\u001b[0;32m      2\u001b[0m \u001b[0mprint\u001b[0m\u001b[1;33m(\u001b[0m\u001b[0ma\u001b[0m\u001b[1;33m)\u001b[0m\u001b[1;33m\u001b[0m\u001b[1;33m\u001b[0m\u001b[0m\n",
      "\u001b[1;31mNameError\u001b[0m: name 'random' is not defined"
     ]
    }
   ],
   "source": [
    "a = random.randint(10)\n",
    "print(a)"
   ]
  },
  {
   "cell_type": "raw",
   "id": "2eccb6df",
   "metadata": {},
   "source": [
    "Index Error"
   ]
  },
  {
   "cell_type": "code",
   "execution_count": 16,
   "id": "56d6762c",
   "metadata": {},
   "outputs": [
    {
     "ename": "IndexError",
     "evalue": "list index out of range",
     "output_type": "error",
     "traceback": [
      "\u001b[1;31m---------------------------------------------------------------------------\u001b[0m",
      "\u001b[1;31mIndexError\u001b[0m                                Traceback (most recent call last)",
      "\u001b[1;32m~\\AppData\\Local\\Temp/ipykernel_6280/1246651841.py\u001b[0m in \u001b[0;36m<module>\u001b[1;34m\u001b[0m\n\u001b[0;32m      1\u001b[0m \u001b[0mSuryaa\u001b[0m \u001b[1;33m=\u001b[0m \u001b[1;33m[\u001b[0m\u001b[1;36m1\u001b[0m\u001b[1;33m,\u001b[0m\u001b[1;36m2\u001b[0m\u001b[1;33m,\u001b[0m\u001b[1;36m3\u001b[0m\u001b[1;33m,\u001b[0m\u001b[1;36m4\u001b[0m\u001b[1;33m,\u001b[0m\u001b[1;36m5\u001b[0m\u001b[1;33m,\u001b[0m\u001b[1;36m6\u001b[0m\u001b[1;33m,\u001b[0m\u001b[1;36m7\u001b[0m\u001b[1;33m,\u001b[0m\u001b[1;36m8\u001b[0m\u001b[1;33m,\u001b[0m\u001b[1;36m9\u001b[0m\u001b[1;33m]\u001b[0m\u001b[1;33m\u001b[0m\u001b[1;33m\u001b[0m\u001b[0m\n\u001b[1;32m----> 2\u001b[1;33m \u001b[0mprint\u001b[0m\u001b[1;33m(\u001b[0m\u001b[0mSuryaa\u001b[0m\u001b[1;33m[\u001b[0m\u001b[1;36m10\u001b[0m\u001b[1;33m]\u001b[0m\u001b[1;33m)\u001b[0m\u001b[1;33m\u001b[0m\u001b[1;33m\u001b[0m\u001b[0m\n\u001b[0m",
      "\u001b[1;31mIndexError\u001b[0m: list index out of range"
     ]
    }
   ],
   "source": [
    "Suryaa = [1,2,3,4,5,6,7,8,9]\n",
    "print(Suryaa[10])"
   ]
  },
  {
   "cell_type": "raw",
   "id": "e96f1849",
   "metadata": {},
   "source": [
    "Key Error"
   ]
  },
  {
   "cell_type": "code",
   "execution_count": 17,
   "id": "3e4407ec",
   "metadata": {},
   "outputs": [
    {
     "ename": "KeyError",
     "evalue": "'Age'",
     "output_type": "error",
     "traceback": [
      "\u001b[1;31m---------------------------------------------------------------------------\u001b[0m",
      "\u001b[1;31mKeyError\u001b[0m                                  Traceback (most recent call last)",
      "\u001b[1;32m~\\AppData\\Local\\Temp/ipykernel_6280/2121098480.py\u001b[0m in \u001b[0;36m<module>\u001b[1;34m\u001b[0m\n\u001b[0;32m      1\u001b[0m \u001b[0mmydict\u001b[0m \u001b[1;33m=\u001b[0m \u001b[1;33m{\u001b[0m\u001b[1;34m\"Name\"\u001b[0m \u001b[1;33m:\u001b[0m \u001b[1;34m\"Suryaa\"\u001b[0m\u001b[1;33m,\u001b[0m\u001b[1;34m\"Height\"\u001b[0m \u001b[1;33m:\u001b[0m \u001b[1;34m\"189 cm\"\u001b[0m\u001b[1;33m}\u001b[0m\u001b[1;33m\u001b[0m\u001b[1;33m\u001b[0m\u001b[0m\n\u001b[1;32m----> 2\u001b[1;33m \u001b[0mprint\u001b[0m\u001b[1;33m(\u001b[0m\u001b[0mmydict\u001b[0m\u001b[1;33m[\u001b[0m\u001b[1;34m\"Age\"\u001b[0m\u001b[1;33m]\u001b[0m\u001b[1;33m)\u001b[0m\u001b[1;33m\u001b[0m\u001b[1;33m\u001b[0m\u001b[0m\n\u001b[0m",
      "\u001b[1;31mKeyError\u001b[0m: 'Age'"
     ]
    }
   ],
   "source": [
    "mydict = {\"Name\" : \"Suryaa\",\"Height\" : \"189 cm\"}\n",
    "print(mydict[\"Age\"])"
   ]
  },
  {
   "cell_type": "raw",
   "id": "0246f8f6",
   "metadata": {},
   "source": [
    "Name Error"
   ]
  },
  {
   "cell_type": "code",
   "execution_count": 19,
   "id": "ae5d580d",
   "metadata": {},
   "outputs": [
    {
     "ename": "NameError",
     "evalue": "name 'add' is not defined",
     "output_type": "error",
     "traceback": [
      "\u001b[1;31m---------------------------------------------------------------------------\u001b[0m",
      "\u001b[1;31mNameError\u001b[0m                                 Traceback (most recent call last)",
      "\u001b[1;32m~\\AppData\\Local\\Temp/ipykernel_6280/1524103982.py\u001b[0m in \u001b[0;36m<module>\u001b[1;34m\u001b[0m\n\u001b[0;32m      2\u001b[0m \u001b[0mb\u001b[0m \u001b[1;33m=\u001b[0m \u001b[1;36m20\u001b[0m\u001b[1;33m\u001b[0m\u001b[1;33m\u001b[0m\u001b[0m\n\u001b[0;32m      3\u001b[0m \u001b[0mc\u001b[0m \u001b[1;33m=\u001b[0m \u001b[0ma\u001b[0m\u001b[1;33m/\u001b[0m\u001b[0mb\u001b[0m\u001b[1;33m\u001b[0m\u001b[1;33m\u001b[0m\u001b[0m\n\u001b[1;32m----> 4\u001b[1;33m \u001b[0mprint\u001b[0m\u001b[1;33m(\u001b[0m\u001b[0madd\u001b[0m\u001b[1;33m)\u001b[0m\u001b[1;33m\u001b[0m\u001b[1;33m\u001b[0m\u001b[0m\n\u001b[0m",
      "\u001b[1;31mNameError\u001b[0m: name 'add' is not defined"
     ]
    }
   ],
   "source": [
    "a = 10\n",
    "b = 20\n",
    "c = a/b\n",
    "print(add)"
   ]
  },
  {
   "cell_type": "code",
   "execution_count": 20,
   "id": "35a44413",
   "metadata": {},
   "outputs": [
    {
     "ename": "NameError",
     "evalue": "name 'z' is not defined",
     "output_type": "error",
     "traceback": [
      "\u001b[1;31m---------------------------------------------------------------------------\u001b[0m",
      "\u001b[1;31mNameError\u001b[0m                                 Traceback (most recent call last)",
      "\u001b[1;32m~\\AppData\\Local\\Temp/ipykernel_6280/557461111.py\u001b[0m in \u001b[0;36m<module>\u001b[1;34m\u001b[0m\n\u001b[1;32m----> 1\u001b[1;33m \u001b[0mprint\u001b[0m\u001b[1;33m(\u001b[0m\u001b[0mz\u001b[0m\u001b[1;33m)\u001b[0m\u001b[1;33m\u001b[0m\u001b[1;33m\u001b[0m\u001b[0m\n\u001b[0m",
      "\u001b[1;31mNameError\u001b[0m: name 'z' is not defined"
     ]
    }
   ],
   "source": [
    "print(z)"
   ]
  },
  {
   "cell_type": "raw",
   "id": "f80e69b7",
   "metadata": {},
   "source": [
    "Value Error"
   ]
  },
  {
   "cell_type": "code",
   "execution_count": 21,
   "id": "9e06daa6",
   "metadata": {},
   "outputs": [
    {
     "ename": "ValueError",
     "evalue": "math domain error",
     "output_type": "error",
     "traceback": [
      "\u001b[1;31m---------------------------------------------------------------------------\u001b[0m",
      "\u001b[1;31mValueError\u001b[0m                                Traceback (most recent call last)",
      "\u001b[1;32m~\\AppData\\Local\\Temp/ipykernel_6280/514381608.py\u001b[0m in \u001b[0;36m<module>\u001b[1;34m\u001b[0m\n\u001b[0;32m      1\u001b[0m \u001b[1;32mimport\u001b[0m \u001b[0mmath\u001b[0m\u001b[1;33m\u001b[0m\u001b[1;33m\u001b[0m\u001b[0m\n\u001b[1;32m----> 2\u001b[1;33m \u001b[0mmath\u001b[0m\u001b[1;33m.\u001b[0m\u001b[0msqrt\u001b[0m\u001b[1;33m(\u001b[0m\u001b[1;33m-\u001b[0m\u001b[1;36m200\u001b[0m\u001b[1;33m)\u001b[0m\u001b[1;33m\u001b[0m\u001b[1;33m\u001b[0m\u001b[0m\n\u001b[0m",
      "\u001b[1;31mValueError\u001b[0m: math domain error"
     ]
    }
   ],
   "source": [
    "import math\n",
    "math.sqrt(-200)"
   ]
  },
  {
   "cell_type": "markdown",
   "id": "8e8417d5",
   "metadata": {},
   "source": [
    "#  Handling of Exception"
   ]
  },
  {
   "cell_type": "raw",
   "id": "dd3b8d63",
   "metadata": {},
   "source": [
    "Try and Except Statement"
   ]
  },
  {
   "cell_type": "code",
   "execution_count": 22,
   "id": "ce781846",
   "metadata": {},
   "outputs": [
    {
     "name": "stdout",
     "output_type": "stream",
     "text": [
      "cant divide by 0\n"
     ]
    }
   ],
   "source": [
    "# Example\n",
    "\n",
    "try:\n",
    "    a = 10\n",
    "    b = 0\n",
    "    c = a/b\n",
    "    print(c)\n",
    "except : \n",
    "    print(\"cant divide by 0\")"
   ]
  },
  {
   "cell_type": "code",
   "execution_count": 23,
   "id": "9b6f0768",
   "metadata": {},
   "outputs": [
    {
     "name": "stdout",
     "output_type": "stream",
     "text": [
      "There was a mistake\n"
     ]
    }
   ],
   "source": [
    "# Example\n",
    "\n",
    "try:\n",
    "    f = open(\"Suryaa12344556.txt\",\"r\")\n",
    "    f.write(\"suryaa\")\n",
    "except :\n",
    "    print(\"There was a mistake\")"
   ]
  },
  {
   "cell_type": "raw",
   "id": "6ea01f7b",
   "metadata": {},
   "source": [
    "To know what is the exception"
   ]
  },
  {
   "cell_type": "code",
   "execution_count": 24,
   "id": "06567bf0",
   "metadata": {},
   "outputs": [
    {
     "name": "stdout",
     "output_type": "stream",
     "text": [
      "4\n",
      "5\n",
      "6\n",
      "7\n",
      "8\n",
      "9\n",
      "9\n",
      "list index out of range\n",
      "This is not working\n"
     ]
    }
   ],
   "source": [
    "l = [4,5,6,7,8,9,9]\n",
    "try:\n",
    "    for i in range(len(l)+1):\n",
    "        print(l[i])\n",
    "except Exception as e:\n",
    "    print(e)\n",
    "    print(\"This is not working\")"
   ]
  },
  {
   "cell_type": "code",
   "execution_count": 25,
   "id": "f56b38c4",
   "metadata": {},
   "outputs": [
    {
     "name": "stdout",
     "output_type": "stream",
     "text": [
      "Enter a value : 1\n",
      "Enter a value : sur\n",
      "invalid literal for int() with base 10: 'sur'\n",
      "Suryaa\n"
     ]
    }
   ],
   "source": [
    "try :\n",
    "    a = int(input(\"Enter a value : \"))\n",
    "    b = int(input(\"Enter a value : \"))\n",
    "except Exception as e:\n",
    "    print(e)\n",
    "print(\"Suryaa\")"
   ]
  },
  {
   "cell_type": "raw",
   "id": "9cc75807",
   "metadata": {},
   "source": [
    "Handling Particular Exception"
   ]
  },
  {
   "cell_type": "code",
   "execution_count": 26,
   "id": "e105f602",
   "metadata": {},
   "outputs": [
    {
     "name": "stdout",
     "output_type": "stream",
     "text": [
      "Enter a value : 5\n",
      "Enter a value : 0\n",
      "Cant Divide by Zero\n"
     ]
    }
   ],
   "source": [
    "try : \n",
    "    a = int(input(\"Enter a value : \"))\n",
    "    b = int(input(\"Enter a value : \"))\n",
    "    c = a/b\n",
    "    print(\"The answer is : \",c)\n",
    "except ValueError:\n",
    "    print(\"Entered Value is Wrong\")\n",
    "except ZeroDivisionError:\n",
    "    print(\"Cant Divide by Zero\")"
   ]
  },
  {
   "cell_type": "code",
   "execution_count": 27,
   "id": "33fad6c4",
   "metadata": {},
   "outputs": [
    {
     "name": "stdout",
     "output_type": "stream",
     "text": [
      "Enter a value : 4\n",
      "Enter a value : sur\n",
      "Entered Value is Wrong\n"
     ]
    }
   ],
   "source": [
    "try : \n",
    "    a = int(input(\"Enter a value : \"))\n",
    "    b = int(input(\"Enter a value : \"))\n",
    "    c = a/b\n",
    "    print(\"The answer is : \",c)\n",
    "except ValueError:\n",
    "    print(\"Entered Value is Wrong\")\n",
    "except ZeroDivisionError:\n",
    "    print(\"Cant Divide by Zero\")"
   ]
  },
  {
   "cell_type": "raw",
   "id": "ea6f7b3e",
   "metadata": {},
   "source": [
    "Try,Except and Else"
   ]
  },
  {
   "cell_type": "code",
   "execution_count": 30,
   "id": "0bd354f6",
   "metadata": {},
   "outputs": [
    {
     "name": "stdout",
     "output_type": "stream",
     "text": [
      "Enter the number : 4\n",
      "0.25\n"
     ]
    }
   ],
   "source": [
    "try :\n",
    "    num = int(input(\"Enter the number : \"))\n",
    "    assert num%2==0\n",
    "except:\n",
    "    print(\"Not a even number\")\n",
    "else:\n",
    "    reciprocal = 1/num\n",
    "    print(reciprocal)"
   ]
  },
  {
   "cell_type": "code",
   "execution_count": 31,
   "id": "5ba565a4",
   "metadata": {},
   "outputs": [
    {
     "name": "stdout",
     "output_type": "stream",
     "text": [
      "Enter a value : 4\n",
      "Enter a value : 6\n",
      "The answer is :  0.6666666666666666\n",
      "else block\n"
     ]
    }
   ],
   "source": [
    "try : \n",
    "    a = int(input(\"Enter a value : \"))\n",
    "    b = int(input(\"Enter a value : \"))\n",
    "    c = a/b\n",
    "    print(\"The answer is : \",c)\n",
    "except ValueError:\n",
    "    print(\"Entered Value is Wrong\")\n",
    "except ZeroDivisionError:\n",
    "    print(\"Cant Divide by Zero\")\n",
    "else:\n",
    "    print(\"else block\")"
   ]
  },
  {
   "cell_type": "raw",
   "id": "80303430",
   "metadata": {},
   "source": [
    "Finally Block"
   ]
  },
  {
   "cell_type": "code",
   "execution_count": 32,
   "id": "a257ea6b",
   "metadata": {},
   "outputs": [
    {
     "name": "stdout",
     "output_type": "stream",
     "text": [
      "Enter a value : 4\n",
      "Enter a value : 6\n",
      "The answer is :  0.6666666666666666\n",
      "Finally block\n"
     ]
    }
   ],
   "source": [
    "try : \n",
    "    a = int(input(\"Enter a value : \"))\n",
    "    b = int(input(\"Enter a value : \"))\n",
    "    c = a/b\n",
    "    print(\"The answer is : \",c)\n",
    "except ValueError:\n",
    "    print(\"Entered Value is Wrong\")\n",
    "except ZeroDivisionError:\n",
    "    print(\"Cant Divide by Zero\")\n",
    "finally:\n",
    "    print(\"Finally block\")"
   ]
  },
  {
   "cell_type": "code",
   "execution_count": 33,
   "id": "cbe5e9ac",
   "metadata": {},
   "outputs": [
    {
     "name": "stdout",
     "output_type": "stream",
     "text": [
      "Enter a value : 4\n",
      "Enter a value : 0\n",
      "Cant Divide by Zero\n",
      "Finally Block\n"
     ]
    }
   ],
   "source": [
    "try : \n",
    "    a = int(input(\"Enter a value : \"))\n",
    "    b = int(input(\"Enter a value : \"))\n",
    "    c = a/b\n",
    "    print(\"The answer is : \",c)\n",
    "except ValueError:\n",
    "    print(\"Entered Value is Wrong\")\n",
    "except ZeroDivisionError:\n",
    "    print(\"Cant Divide by Zero\")\n",
    "finally :\n",
    "    print(\"Finally Block\")"
   ]
  },
  {
   "cell_type": "raw",
   "id": "b845d4b2",
   "metadata": {},
   "source": [
    "Nested Try blocks"
   ]
  },
  {
   "cell_type": "code",
   "execution_count": 34,
   "id": "481dbbc3",
   "metadata": {},
   "outputs": [
    {
     "name": "stdout",
     "output_type": "stream",
     "text": [
      "Outer Try Block\n",
      "Nested Try Block\n",
      "Nested Except Block\n",
      "division by zero\n"
     ]
    }
   ],
   "source": [
    "x = 10\n",
    "y = 0\n",
    "try:\n",
    "    print(\"Outer Try Block\")\n",
    "    try :\n",
    "        print(\"Nested Try Block\")\n",
    "        print(x/y)\n",
    "    except Exception as e :\n",
    "        print(\"Nested Except Block\")\n",
    "        print(e)\n",
    "except Exception as e:\n",
    "    print(\"Outer Except Block\")\n",
    "    print(e)"
   ]
  },
  {
   "cell_type": "code",
   "execution_count": 35,
   "id": "339dca06",
   "metadata": {},
   "outputs": [],
   "source": [
    "# Example"
   ]
  },
  {
   "cell_type": "code",
   "execution_count": 36,
   "id": "1657201e",
   "metadata": {},
   "outputs": [],
   "source": [
    "def divide(x,y):\n",
    "    try:\n",
    "        print(x/y)\n",
    "    except Exception as e:\n",
    "        print(e)\n",
    "    else:\n",
    "        print(\"Else block\")\n",
    "    finally:\n",
    "        print(\"Finally Block\")"
   ]
  },
  {
   "cell_type": "code",
   "execution_count": 37,
   "id": "21898187",
   "metadata": {},
   "outputs": [
    {
     "name": "stdout",
     "output_type": "stream",
     "text": [
      "5.0\n",
      "Else block\n",
      "Finally Block\n"
     ]
    }
   ],
   "source": [
    "divide(10,2)"
   ]
  },
  {
   "cell_type": "code",
   "execution_count": 38,
   "id": "14137735",
   "metadata": {},
   "outputs": [
    {
     "name": "stdout",
     "output_type": "stream",
     "text": [
      "6.0\n",
      "Else block\n",
      "Finally Block\n"
     ]
    }
   ],
   "source": [
    "divide(12,2)"
   ]
  },
  {
   "cell_type": "code",
   "execution_count": 39,
   "id": "7b94c430",
   "metadata": {},
   "outputs": [
    {
     "name": "stdout",
     "output_type": "stream",
     "text": [
      "division by zero\n",
      "Finally Block\n"
     ]
    }
   ],
   "source": [
    "divide(10,0)"
   ]
  },
  {
   "cell_type": "code",
   "execution_count": null,
   "id": "f761f510",
   "metadata": {},
   "outputs": [],
   "source": []
  }
 ],
 "metadata": {
  "kernelspec": {
   "display_name": "Python 3 (ipykernel)",
   "language": "python",
   "name": "python3"
  },
  "language_info": {
   "codemirror_mode": {
    "name": "ipython",
    "version": 3
   },
   "file_extension": ".py",
   "mimetype": "text/x-python",
   "name": "python",
   "nbconvert_exporter": "python",
   "pygments_lexer": "ipython3",
   "version": "3.9.7"
  }
 },
 "nbformat": 4,
 "nbformat_minor": 5
}
