{
 "cells": [
  {
   "cell_type": "markdown",
   "id": "d74741c8",
   "metadata": {},
   "source": [
    "# FUNCTIONS"
   ]
  },
  {
   "cell_type": "markdown",
   "id": "50cd3367",
   "metadata": {},
   "source": [
    "There are 3 types of functions in Python:\n",
    "\n",
    " 1. Built-in functions, such as \n",
    "     help() to ask for help\n",
    "     min() to get the minimum value\n",
    "     print() to print an object to the terminal\n",
    "\n",
    " 2. User-Defined Functions (UDFs), which are functions that users create \n",
    "\n",
    " 3. Anonymous functions, which are also called lambda functions because \n",
    "    they are not declared with the standard def keyword."
   ]
  },
  {
   "cell_type": "markdown",
   "id": "d64aadce",
   "metadata": {},
   "source": [
    "How To Define A Function: User-Defined Functions (UDFs)\n",
    " The 4 steps to defining a function in Python are the following:\n",
    "\n",
    " 1. Use the keyword def to declare the function and follow this up with the function name.\n",
    " 2. Add parameters to the function: they should be within the parentheses of the function. \n",
    "    End your line with a colon.\n",
    " 3. Add statements that the functions should execute.\n",
    " 4. End your function with a return statement if the function should output something. \n",
    "    Without the return statement, your function will return an object None."
   ]
  },
  {
   "cell_type": "code",
   "execution_count": 2,
   "id": "6685d74d",
   "metadata": {},
   "outputs": [
    {
     "name": "stdout",
     "output_type": "stream",
     "text": [
      "10\n",
      "20\n"
     ]
    },
    {
     "data": {
      "text/plain": [
       "30"
      ]
     },
     "execution_count": 2,
     "metadata": {},
     "output_type": "execute_result"
    }
   ],
   "source": [
    "# simple add function\n",
    "\n",
    "def add(a,b):\n",
    "    return a + b\n",
    "\n",
    "a = int(input())\n",
    "b = int(input())\n",
    "\n",
    "add(a,b)"
   ]
  },
  {
   "cell_type": "code",
   "execution_count": 3,
   "id": "7666f23b",
   "metadata": {},
   "outputs": [
    {
     "name": "stdout",
     "output_type": "stream",
     "text": [
      "20\n",
      "10\n"
     ]
    },
    {
     "data": {
      "text/plain": [
       "10"
      ]
     },
     "execution_count": 3,
     "metadata": {},
     "output_type": "execute_result"
    }
   ],
   "source": [
    "# simple subtract function\n",
    "\n",
    "def sub(a,b):\n",
    "    return a - b\n",
    "\n",
    "a = int(input())\n",
    "b = int(input())\n",
    "\n",
    "sub(a,b)"
   ]
  },
  {
   "cell_type": "code",
   "execution_count": 4,
   "id": "05bc25c4",
   "metadata": {},
   "outputs": [
    {
     "name": "stdout",
     "output_type": "stream",
     "text": [
      "Enter the number : 20\n",
      "even\n"
     ]
    }
   ],
   "source": [
    "# even odd check \n",
    "\n",
    "def check_odd_even(a):\n",
    "    if a % 2 == 0:\n",
    "        print(\"even\")\n",
    "    else:\n",
    "        print(\"odd\")\n",
    "\n",
    "a = int(input(\"Enter the number : \"))\n",
    "check_odd_even(a)"
   ]
  },
  {
   "cell_type": "code",
   "execution_count": 3,
   "id": "c89b4c46",
   "metadata": {},
   "outputs": [
    {
     "name": "stdout",
     "output_type": "stream",
     "text": [
      "Enter the value : 100\n",
      "Enter the value : 5\n",
      " 1. Addition \n",
      " 2.Subtraction \n",
      " 3.Multiplication \n",
      " 4.Division \n",
      " 5.Exponentiation \n",
      " 6.Reminder \n",
      " Enter the command : 3\n",
      "500\n"
     ]
    }
   ],
   "source": [
    "# calculator function example\n",
    "\n",
    "def calculator(a,b):\n",
    "    command = int(input(\" 1. Addition \\n 2.Subtraction \\n 3.Multiplication \\n 4.Division \\n 5.Exponentiation \\n 6.Reminder \\n Enter the command : \"))\n",
    "    if command == 1:\n",
    "        return a + b\n",
    "    \n",
    "    elif command == 2:\n",
    "        return a - b\n",
    "    \n",
    "    elif command == 3:\n",
    "        return a * b\n",
    "\n",
    "    elif command == 4:\n",
    "        return a / b\n",
    "\n",
    "    elif command == 5:\n",
    "        return a ** b\n",
    "\n",
    "    elif command == 6:\n",
    "        return a % b\n",
    "    \n",
    "    else:\n",
    "        print(\"You had given incorrect input\")\n",
    "\n",
    "        \n",
    "a = int(input(\"Enter the value : \"))\n",
    "b = int(input(\"Enter the value : \"))\n",
    "\n",
    "calc = calculator(a,b)\n",
    "print(calc)\n",
    "\n",
    "\n"
   ]
  },
  {
   "cell_type": "markdown",
   "id": "710de741",
   "metadata": {},
   "source": [
    " How To Add Docstrings To A Python Function"
   ]
  },
  {
   "cell_type": "markdown",
   "id": "6f7ed1d0",
   "metadata": {},
   "source": [
    "its return values. These descriptions serve as documentation for your function so that \n",
    "anyone who reads your function’s docstring understands what your function does, without \n",
    "having to trace through all the code in the function definition."
   ]
  },
  {
   "cell_type": "markdown",
   "id": "3c4f269b",
   "metadata": {},
   "source": [
    "Its similar to comments "
   ]
  },
  {
   "cell_type": "code",
   "execution_count": 7,
   "id": "82e9a670",
   "metadata": {},
   "outputs": [
    {
     "name": "stdout",
     "output_type": "stream",
     "text": [
      "Hello suryaa\n"
     ]
    }
   ],
   "source": [
    "#example \n",
    "\n",
    "def hello():\n",
    "    \"\"\"\n",
    "    function use\n",
    "    Welcomes the user\n",
    "    says hello\n",
    "    \n",
    "    \"\"\"\n",
    "    print(\"Hello suryaa\")\n",
    "    return\n",
    "\n",
    "hello()"
   ]
  },
  {
   "cell_type": "code",
   "execution_count": 8,
   "id": "f85c7c80",
   "metadata": {},
   "outputs": [
    {
     "name": "stdout",
     "output_type": "stream",
     "text": [
      "Help on function hello in module __main__:\n",
      "\n",
      "hello()\n",
      "    function use\n",
      "    Welcomes the user\n",
      "    says hello\n",
      "\n"
     ]
    }
   ],
   "source": [
    "#docstring implementation\n",
    "\n",
    "help(hello)"
   ]
  },
  {
   "cell_type": "markdown",
   "id": "94b3a7a9",
   "metadata": {},
   "source": [
    "# Function Arguments in Python\n"
   ]
  },
  {
   "cell_type": "markdown",
   "id": "4252bd79",
   "metadata": {},
   "source": [
    "There are 4 types of arguments that Python UDFs can take:\n",
    "\n",
    "Default arguments\n",
    "\n",
    "Required arguments\n",
    "\n",
    "Keyword arguments\n",
    "\n",
    "Variable number of arguments"
   ]
  },
  {
   "cell_type": "markdown",
   "id": "2eca91d0",
   "metadata": {},
   "source": [
    "Default Arguments\n",
    "\n",
    "take a default value if no argument value is passed \n",
    "during the function call. You can assign this default value by with the \n",
    "assignment operator ="
   ]
  },
  {
   "cell_type": "code",
   "execution_count": null,
   "id": "668141a5",
   "metadata": {},
   "outputs": [],
   "source": []
  },
  {
   "cell_type": "code",
   "execution_count": null,
   "id": "49c49517",
   "metadata": {},
   "outputs": [],
   "source": []
  },
  {
   "cell_type": "code",
   "execution_count": null,
   "id": "651ea445",
   "metadata": {},
   "outputs": [],
   "source": []
  },
  {
   "cell_type": "code",
   "execution_count": null,
   "id": "a2bb7bbe",
   "metadata": {},
   "outputs": [],
   "source": []
  }
 ],
 "metadata": {
  "kernelspec": {
   "display_name": "Python 3 (ipykernel)",
   "language": "python",
   "name": "python3"
  },
  "language_info": {
   "codemirror_mode": {
    "name": "ipython",
    "version": 3
   },
   "file_extension": ".py",
   "mimetype": "text/x-python",
   "name": "python",
   "nbconvert_exporter": "python",
   "pygments_lexer": "ipython3",
   "version": "3.9.7"
  }
 },
 "nbformat": 4,
 "nbformat_minor": 5
}
