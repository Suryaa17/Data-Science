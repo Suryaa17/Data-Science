{
 "cells": [
  {
   "cell_type": "markdown",
   "id": "8c3b5077",
   "metadata": {},
   "source": [
    "# CONDITIONAL STATEMENTS"
   ]
  },
  {
   "cell_type": "markdown",
   "id": "8630e03c",
   "metadata": {},
   "source": [
    "Any Boolean expression evaluating to True or False appears after the if keyword. Use the : symbol and press Enter after the expression to start a block with an increased indent."
   ]
  },
  {
   "cell_type": "markdown",
   "id": "3914411a",
   "metadata": {},
   "source": [
    "The statements with the same indentation level as if condition will not consider in the if block. They will consider out of the if condition."
   ]
  },
  {
   "cell_type": "markdown",
   "id": "9f36a630",
   "metadata": {},
   "source": [
    "#Equals: a == b\n",
    "#Not Equals: a != b\n",
    "#Less than: a < b\n",
    "#Less than or equal to: a <= b\n",
    "#Greater than: a > b\n",
    "#Greater than or equal to: a >= b"
   ]
  },
  {
   "cell_type": "code",
   "execution_count": 1,
   "id": "a0a05e23",
   "metadata": {},
   "outputs": [
    {
     "name": "stdout",
     "output_type": "stream",
     "text": [
      "b is greater than a\n"
     ]
    }
   ],
   "source": [
    "# example program\n",
    "\n",
    "a = 100\n",
    "b = 200\n",
    "if b > a :\n",
    "    print(\"b is greater than a\")"
   ]
  },
  {
   "cell_type": "markdown",
   "id": "78cf32e2",
   "metadata": {},
   "source": [
    "# Python relies on indentation (whitespace at the beginning of a line) to define scope in the code"
   ]
  },
  {
   "cell_type": "markdown",
   "id": "aa90744d",
   "metadata": {},
   "source": [
    "Explanation example of indentation\n"
   ]
  },
  {
   "cell_type": "code",
   "execution_count": 2,
   "id": "47337bfd",
   "metadata": {},
   "outputs": [
    {
     "ename": "IndentationError",
     "evalue": "expected an indented block (Temp/ipykernel_25520/2730091290.py, line 4)",
     "output_type": "error",
     "traceback": [
      "\u001b[1;36m  File \u001b[1;32m\"C:\\Users\\ntsur\\AppData\\Local\\Temp/ipykernel_25520/2730091290.py\"\u001b[1;36m, line \u001b[1;32m4\u001b[0m\n\u001b[1;33m    print(\"b is greater than a\")\u001b[0m\n\u001b[1;37m    ^\u001b[0m\n\u001b[1;31mIndentationError\u001b[0m\u001b[1;31m:\u001b[0m expected an indented block\n"
     ]
    }
   ],
   "source": [
    "a = 100\n",
    "b = 200\n",
    "if b > a :\n",
    "print(\"b is greater than a\")"
   ]
  },
  {
   "cell_type": "markdown",
   "id": "e557f235",
   "metadata": {},
   "source": [
    "# IF-ELIF STATEMENTS "
   ]
  },
  {
   "cell_type": "markdown",
   "id": "db859e7a",
   "metadata": {},
   "source": [
    "The elif block is executed if the specified condition evaluates to True."
   ]
  },
  {
   "cell_type": "code",
   "execution_count": 3,
   "id": "90df9d7a",
   "metadata": {},
   "outputs": [
    {
     "name": "stdout",
     "output_type": "stream",
     "text": [
      "a is equal to b\n"
     ]
    }
   ],
   "source": [
    "a = 100\n",
    "b = 100\n",
    "if a > b:\n",
    "    print(\"a is greater than b\")\n",
    "elif a == b:\n",
    "    print(\"a is equal to b\")\n"
   ]
  },
  {
   "cell_type": "markdown",
   "id": "79f35198",
   "metadata": {},
   "source": [
    "# ELSE STATEMENTS "
   ]
  },
  {
   "cell_type": "code",
   "execution_count": 4,
   "id": "014503a6",
   "metadata": {},
   "outputs": [
    {
     "name": "stdout",
     "output_type": "stream",
     "text": [
      "A is greater than B\n"
     ]
    }
   ],
   "source": [
    "a = 100\n",
    "b = 50\n",
    "if a < b:\n",
    "    print(\"B is greater than a\")\n",
    "elif a==b:\n",
    "    print(\"A is equal to B\")\n",
    "else:\n",
    "    print(\"A is greater than B\")\n"
   ]
  },
  {
   "cell_type": "markdown",
   "id": "dcd6f079",
   "metadata": {},
   "source": [
    "# AND and OR STATEMENTS"
   ]
  },
  {
   "cell_type": "code",
   "execution_count": 5,
   "id": "c69c678b",
   "metadata": {},
   "outputs": [
    {
     "name": "stdout",
     "output_type": "stream",
     "text": [
      "C is bigger\n"
     ]
    }
   ],
   "source": [
    "#and statement\n",
    "\n",
    "a = 100\n",
    "b = 200\n",
    "c = 300\n",
    "\n",
    "if a < b and b < c:\n",
    "    print(\"C is bigger\")\n",
    "else:\n",
    "    print(\"A or B is bigger\")"
   ]
  },
  {
   "cell_type": "code",
   "execution_count": 6,
   "id": "b709d198",
   "metadata": {},
   "outputs": [
    {
     "name": "stdout",
     "output_type": "stream",
     "text": [
      "B is bigger\n"
     ]
    }
   ],
   "source": [
    "# or statement\n",
    "\n",
    "a = 100\n",
    "b = 200\n",
    "c = 300\n",
    "\n",
    "if a < b or b > c:\n",
    "    print(\"B is bigger\")\n",
    "else:\n",
    "    print(\"A or C is bigger\")"
   ]
  },
  {
   "cell_type": "markdown",
   "id": "649b90e7",
   "metadata": {},
   "source": [
    "Examples on CONDITIONAL STATEMENTS"
   ]
  },
  {
   "cell_type": "code",
   "execution_count": 7,
   "id": "9eb17f0e",
   "metadata": {},
   "outputs": [
    {
     "name": "stdout",
     "output_type": "stream",
     "text": [
      "Enter your age : 18\n",
      "You are eligible to vote\n"
     ]
    }
   ],
   "source": [
    "# Vote identifier\n",
    "age = int(input(\"Enter your age : \"))\n",
    "\n",
    "if age < 18:\n",
    "    print(\"You are not eligible to vote\")\n",
    "else:\n",
    "    print(\"You are eligible to vote\")\n",
    "    "
   ]
  },
  {
   "cell_type": "code",
   "execution_count": 8,
   "id": "6e068acb",
   "metadata": {},
   "outputs": [
    {
     "name": "stdout",
     "output_type": "stream",
     "text": [
      "enter number of products :20\n",
      "enter the price : 50000\n",
      "It is too overpriced\n"
     ]
    }
   ],
   "source": [
    "# Price identifier\n",
    "\n",
    "no_of_products = int(input(\"enter number of products :\"))\n",
    "price = int(input(\"enter the price : \"))\n",
    "\n",
    "total_price = no_of_products * price\n",
    "\n",
    "if price < 1000 :\n",
    "    print(\"It is cheaper\")\n",
    "elif price > 1000 and price < 10000:\n",
    "    print(\"The price is moderate\")\n",
    "else:\n",
    "    print(\"It is too overpriced\")"
   ]
  },
  {
   "cell_type": "code",
   "execution_count": 9,
   "id": "4306402a",
   "metadata": {},
   "outputs": [
    {
     "name": "stdout",
     "output_type": "stream",
     "text": [
      "Enter your height in metres : 1.84\n",
      "Enter your weight in kg : 65\n",
      "Your BMI is 19.198960302457465 which means you are normal.\n"
     ]
    }
   ],
   "source": [
    "# BMI calculator\n",
    "\n",
    "height = float(input(\"Enter your height in metres : \"))\n",
    "weight = int(input(\"Enter your weight in kg : \"))\n",
    "\n",
    "bmi = weight / (height * height)\n",
    "\n",
    "if bmi <= 18.5:\n",
    "    print('Your BMI is', bmi,'which means you are underweight.')\n",
    "\n",
    "elif bmi > 18.5 and bmi < 25:\n",
    "    print('Your BMI is', bmi,'which means you are normal.')\n",
    "    \n",
    "elif bmi > 25 and bmi < 30:\n",
    "    print('Your BMI is', bmi,'which means you are overweight')\n",
    "\n",
    "elif bmi > 30:\n",
    "    print('Your BMI is', bmi,'which means you are obese.')\n",
    "\n",
    "else:\n",
    "    print('There is an error with your input')\n",
    "    print('Please check you have entered whole numbers\\n'\n",
    "              'and decimals were asked.')"
   ]
  }
 ],
 "metadata": {
  "kernelspec": {
   "display_name": "Python 3 (ipykernel)",
   "language": "python",
   "name": "python3"
  },
  "language_info": {
   "codemirror_mode": {
    "name": "ipython",
    "version": 3
   },
   "file_extension": ".py",
   "mimetype": "text/x-python",
   "name": "python",
   "nbconvert_exporter": "python",
   "pygments_lexer": "ipython3",
   "version": "3.9.7"
  }
 },
 "nbformat": 4,
 "nbformat_minor": 5
}
