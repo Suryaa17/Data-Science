{
 "cells": [
  {
   "cell_type": "markdown",
   "id": "63f7746f",
   "metadata": {},
   "source": [
    "#                 CLASSES AND OBJECTS"
   ]
  },
  {
   "cell_type": "raw",
   "id": "4ed2b622",
   "metadata": {},
   "source": [
    "Classes - Blueprint or skeleton of objects\n",
    "\n",
    "objects - Instance of the Class"
   ]
  },
  {
   "cell_type": "raw",
   "id": "cc6bdab0",
   "metadata": {},
   "source": [
    "Syntax :\n",
    "\n",
    "class classname:\n",
    "    # Statements"
   ]
  },
  {
   "cell_type": "code",
   "execution_count": 1,
   "id": "b6948621",
   "metadata": {},
   "outputs": [],
   "source": [
    "# example\n",
    "\n",
    "class emp:\n",
    "    pass\n"
   ]
  },
  {
   "cell_type": "code",
   "execution_count": 2,
   "id": "b14f4070",
   "metadata": {},
   "outputs": [],
   "source": [
    "e=emp()"
   ]
  },
  {
   "cell_type": "code",
   "execution_count": 3,
   "id": "1d0f3b6a",
   "metadata": {},
   "outputs": [
    {
     "name": "stdout",
     "output_type": "stream",
     "text": [
      "<class '__main__.emp'>\n"
     ]
    }
   ],
   "source": [
    "print(type(e))"
   ]
  },
  {
   "cell_type": "code",
   "execution_count": 4,
   "id": "87eafbce",
   "metadata": {},
   "outputs": [
    {
     "name": "stdout",
     "output_type": "stream",
     "text": [
      "2375072763472\n"
     ]
    }
   ],
   "source": [
    "print(id(e))"
   ]
  },
  {
   "cell_type": "code",
   "execution_count": 5,
   "id": "f56e29f7",
   "metadata": {},
   "outputs": [],
   "source": [
    "# Example\n",
    "\n",
    "class Robot:\n",
    "    def introduce_self(self):\n",
    "        print(\"My name is : \",self.name)\n",
    "    \n",
    "        "
   ]
  },
  {
   "cell_type": "code",
   "execution_count": 6,
   "id": "3930e832",
   "metadata": {},
   "outputs": [],
   "source": [
    "r1 = Robot()"
   ]
  },
  {
   "cell_type": "code",
   "execution_count": 7,
   "id": "2ae3cf47",
   "metadata": {},
   "outputs": [],
   "source": [
    "r1.name = \"Suryaa\""
   ]
  },
  {
   "cell_type": "code",
   "execution_count": 8,
   "id": "cfa2afce",
   "metadata": {},
   "outputs": [
    {
     "name": "stdout",
     "output_type": "stream",
     "text": [
      "My name is :  Suryaa\n"
     ]
    }
   ],
   "source": [
    "r1.introduce_self()"
   ]
  },
  {
   "cell_type": "code",
   "execution_count": 9,
   "id": "a95e48f2",
   "metadata": {},
   "outputs": [],
   "source": [
    "r2 = Robot()"
   ]
  },
  {
   "cell_type": "code",
   "execution_count": 10,
   "id": "141f290c",
   "metadata": {},
   "outputs": [],
   "source": [
    "r2.name = \"Ali\""
   ]
  },
  {
   "cell_type": "code",
   "execution_count": 11,
   "id": "9aa5b3c0",
   "metadata": {},
   "outputs": [
    {
     "name": "stdout",
     "output_type": "stream",
     "text": [
      "My name is :  Ali\n"
     ]
    }
   ],
   "source": [
    "r2.introduce_self()"
   ]
  },
  {
   "cell_type": "markdown",
   "id": "d5dc7b39",
   "metadata": {},
   "source": [
    "#  __init__ method "
   ]
  },
  {
   "cell_type": "code",
   "execution_count": 12,
   "id": "1cf651db",
   "metadata": {},
   "outputs": [],
   "source": [
    "# Example"
   ]
  },
  {
   "cell_type": "code",
   "execution_count": 13,
   "id": "87ae3d68",
   "metadata": {},
   "outputs": [],
   "source": [
    "class Robot:\n",
    "    def __init__(self,name,color,weight):\n",
    "        self.name = name\n",
    "        self.color = color\n",
    "        self.weight = weight\n",
    "    \n",
    "    def introduce_self(self):\n",
    "        print(\"My name is : \",self.name)\n",
    "        \n",
    "    \n",
    "    "
   ]
  },
  {
   "cell_type": "code",
   "execution_count": 14,
   "id": "715cf22b",
   "metadata": {},
   "outputs": [],
   "source": [
    "r3 = Robot(\"Suryaa\",\"White\",30)"
   ]
  },
  {
   "cell_type": "code",
   "execution_count": 15,
   "id": "a7831049",
   "metadata": {},
   "outputs": [
    {
     "name": "stdout",
     "output_type": "stream",
     "text": [
      "My name is :  Suryaa\n"
     ]
    }
   ],
   "source": [
    "r3.introduce_self()"
   ]
  },
  {
   "cell_type": "code",
   "execution_count": 16,
   "id": "7ffd4632",
   "metadata": {},
   "outputs": [],
   "source": [
    "r4 = Robot(\"Ali\",\"Black\",40)"
   ]
  },
  {
   "cell_type": "code",
   "execution_count": 17,
   "id": "ad78d59f",
   "metadata": {},
   "outputs": [
    {
     "name": "stdout",
     "output_type": "stream",
     "text": [
      "My name is :  Ali\n"
     ]
    }
   ],
   "source": [
    "r4.introduce_self()"
   ]
  },
  {
   "cell_type": "code",
   "execution_count": 18,
   "id": "043fd5b4",
   "metadata": {},
   "outputs": [],
   "source": [
    "#### Example ####"
   ]
  },
  {
   "cell_type": "code",
   "execution_count": 19,
   "id": "5b908a61",
   "metadata": {},
   "outputs": [],
   "source": [
    "class Person:\n",
    "    def __init__(self,name,gender,profession):\n",
    "        self.name = name\n",
    "        self.gender = gender\n",
    "        self.profession = profession\n",
    "    \n",
    "    def show(self):\n",
    "        print(\"My name is {}, I'm a {}, I'm Working as {}\".format(self.name,self.gender,self.profession))\n",
    "    \n",
    "    def work(self):\n",
    "        print(\"{} working as {}\".format(self.name,self.profession))"
   ]
  },
  {
   "cell_type": "code",
   "execution_count": 20,
   "id": "438fa28a",
   "metadata": {},
   "outputs": [],
   "source": [
    "a1 = Person(\"Suryaa\",\"Male\",\"Engineer\")"
   ]
  },
  {
   "cell_type": "code",
   "execution_count": 21,
   "id": "6635a266",
   "metadata": {},
   "outputs": [
    {
     "name": "stdout",
     "output_type": "stream",
     "text": [
      "My name is Suryaa, I'm a Male, I'm Working as Engineer\n"
     ]
    }
   ],
   "source": [
    "a1.show()"
   ]
  },
  {
   "cell_type": "code",
   "execution_count": 22,
   "id": "5707197e",
   "metadata": {},
   "outputs": [
    {
     "name": "stdout",
     "output_type": "stream",
     "text": [
      "Suryaa working as Engineer\n"
     ]
    }
   ],
   "source": [
    "a1.work()"
   ]
  },
  {
   "cell_type": "code",
   "execution_count": 23,
   "id": "51db0c93",
   "metadata": {},
   "outputs": [],
   "source": [
    "a2 = Person(\"Ali\",\"Female\",\"Engineer\")"
   ]
  },
  {
   "cell_type": "code",
   "execution_count": 24,
   "id": "710666cd",
   "metadata": {},
   "outputs": [
    {
     "name": "stdout",
     "output_type": "stream",
     "text": [
      "My name is Ali, I'm a Female, I'm Working as Engineer\n"
     ]
    }
   ],
   "source": [
    "a2.show()"
   ]
  },
  {
   "cell_type": "code",
   "execution_count": 25,
   "id": "546ddec8",
   "metadata": {},
   "outputs": [
    {
     "name": "stdout",
     "output_type": "stream",
     "text": [
      "Ali working as Engineer\n"
     ]
    }
   ],
   "source": [
    "a2.work()"
   ]
  },
  {
   "cell_type": "code",
   "execution_count": 26,
   "id": "27ff5078",
   "metadata": {},
   "outputs": [],
   "source": [
    "##### Example #####"
   ]
  },
  {
   "cell_type": "code",
   "execution_count": 27,
   "id": "854f9992",
   "metadata": {},
   "outputs": [],
   "source": [
    "class Emp:\n",
    "    def __init__(self):\n",
    "        print(id(Emp))\n",
    "        self.name = \"Suryaa\"\n",
    "        self.age = 20\n",
    "        self.salary = 400000"
   ]
  },
  {
   "cell_type": "code",
   "execution_count": 28,
   "id": "fa79e638",
   "metadata": {},
   "outputs": [
    {
     "name": "stdout",
     "output_type": "stream",
     "text": [
      "2375056440144\n"
     ]
    }
   ],
   "source": [
    "e1 = Emp()"
   ]
  },
  {
   "cell_type": "code",
   "execution_count": 29,
   "id": "b434a16b",
   "metadata": {},
   "outputs": [
    {
     "data": {
      "text/plain": [
       "'Suryaa'"
      ]
     },
     "execution_count": 29,
     "metadata": {},
     "output_type": "execute_result"
    }
   ],
   "source": [
    "e1.name"
   ]
  },
  {
   "cell_type": "code",
   "execution_count": 30,
   "id": "b7a36c0c",
   "metadata": {},
   "outputs": [
    {
     "data": {
      "text/plain": [
       "20"
      ]
     },
     "execution_count": 30,
     "metadata": {},
     "output_type": "execute_result"
    }
   ],
   "source": [
    "e1.age"
   ]
  },
  {
   "cell_type": "code",
   "execution_count": 31,
   "id": "8b614f15",
   "metadata": {},
   "outputs": [
    {
     "data": {
      "text/plain": [
       "400000"
      ]
     },
     "execution_count": 31,
     "metadata": {},
     "output_type": "execute_result"
    }
   ],
   "source": [
    "e1.salary"
   ]
  },
  {
   "cell_type": "code",
   "execution_count": 32,
   "id": "119ed5f5",
   "metadata": {},
   "outputs": [],
   "source": [
    "e1.salary = 500000"
   ]
  },
  {
   "cell_type": "code",
   "execution_count": 33,
   "id": "723941cd",
   "metadata": {},
   "outputs": [
    {
     "data": {
      "text/plain": [
       "500000"
      ]
     },
     "execution_count": 33,
     "metadata": {},
     "output_type": "execute_result"
    }
   ],
   "source": [
    "e1.salary"
   ]
  },
  {
   "cell_type": "code",
   "execution_count": 34,
   "id": "472d559e",
   "metadata": {},
   "outputs": [],
   "source": [
    "e1.name = \"NT SURYAA\""
   ]
  },
  {
   "cell_type": "code",
   "execution_count": 35,
   "id": "7e17fa99",
   "metadata": {},
   "outputs": [
    {
     "data": {
      "text/plain": [
       "'NT SURYAA'"
      ]
     },
     "execution_count": 35,
     "metadata": {},
     "output_type": "execute_result"
    }
   ],
   "source": [
    "e1.name"
   ]
  },
  {
   "cell_type": "code",
   "execution_count": 36,
   "id": "c622af7c",
   "metadata": {},
   "outputs": [
    {
     "name": "stdout",
     "output_type": "stream",
     "text": [
      "NT SURYAA\n",
      "500000\n",
      "20\n"
     ]
    }
   ],
   "source": [
    "print(e1.name)\n",
    "print(e1.salary)\n",
    "print(e1.age)"
   ]
  },
  {
   "cell_type": "code",
   "execution_count": 37,
   "id": "83fc52bc",
   "metadata": {},
   "outputs": [],
   "source": [
    "########## PROBLEM QUESTION ###################"
   ]
  },
  {
   "cell_type": "raw",
   "id": "54b60027",
   "metadata": {},
   "source": [
    "Write a Python Program to find Area and Circumference of the Circle using OOPS"
   ]
  },
  {
   "cell_type": "code",
   "execution_count": 38,
   "id": "261701e7",
   "metadata": {},
   "outputs": [
    {
     "name": "stdout",
     "output_type": "stream",
     "text": [
      "The Area of the Circle with Radius 7 is 153.93804002591\n",
      "The circumference of the circle with Radius 7 is 43.98229715026\n"
     ]
    }
   ],
   "source": [
    "class Circle:\n",
    "    def __init__(self,radius):\n",
    "        self.radius = radius\n",
    "    \n",
    "    def area(self):\n",
    "        a = 3.14159265359 * self.radius * self.radius\n",
    "        print(\"The Area of the Circle with Radius {} is {}\".format(self.radius,a))\n",
    "\n",
    "    def circumference(self):\n",
    "        circum = 2 * 3.14159265359 * self.radius\n",
    "        print(\"The circumference of the circle with Radius {} is {}\".format(self.radius,circum))\n",
    "\n",
    "obj = Circle(7)\n",
    "obj.area()\n",
    "obj.circumference()"
   ]
  },
  {
   "cell_type": "code",
   "execution_count": 39,
   "id": "e8788faa",
   "metadata": {},
   "outputs": [],
   "source": [
    "######## PROBLEM QUESTION ############"
   ]
  },
  {
   "cell_type": "raw",
   "id": "a26bf508",
   "metadata": {},
   "source": [
    "Create a Class Bank Account\n",
    "Create Constructor Account Number,Name and Balance\n",
    "deposit()\n",
    "withdrawal()\n",
    "display details()"
   ]
  },
  {
   "cell_type": "code",
   "execution_count": 40,
   "id": "fb541a1a",
   "metadata": {},
   "outputs": [],
   "source": [
    "# Solution\n",
    "\n",
    "class Bank:\n",
    "    \n",
    "    def __init__(self,account_number,name,balance):\n",
    "        self.account_number = account_number\n",
    "        self.name = name\n",
    "        self.balance = balance\n",
    "    \n",
    "    def deposit(self,d_amount):\n",
    "        self.d_amount = d_amount\n",
    "        self.balance += self.d_amount\n",
    "        print(\"{} is Credited into your Bank Account\".format(self.d_amount))\n",
    "        print(\"The available balance in your Bank Account is {}\".format(self.balance))\n",
    "    \n",
    "    def withdraw(self,w_amount):\n",
    "        self.w_amount = w_amount\n",
    "        self.balance -= self.w_amount\n",
    "        print(\"{} is Debited from your Bank Account\".format(self.w_amount))\n",
    "        print(\"The available balance in your Bank Account is {}\".format(self.balance))\n",
    "        \n",
    "    def display(self):\n",
    "        print(\"Your Name is : \",self.name)\n",
    "        print(\"Your account Number is : \",self.account_number)\n",
    "        print(\"Your Balance in your Account : \",self.balance)\n",
    "        \n",
    "        \n",
    "        \n",
    "        "
   ]
  },
  {
   "cell_type": "code",
   "execution_count": 41,
   "id": "85a90ec6",
   "metadata": {},
   "outputs": [],
   "source": [
    "b1 = Bank(\"1N2B5GG34\",\"Suryaa\",50000)"
   ]
  },
  {
   "cell_type": "code",
   "execution_count": 42,
   "id": "83ef72a8",
   "metadata": {},
   "outputs": [
    {
     "name": "stdout",
     "output_type": "stream",
     "text": [
      "20000 is Credited into your Bank Account\n",
      "The available balance in your Bank Account is 70000\n"
     ]
    }
   ],
   "source": [
    "b1.deposit(20000)"
   ]
  },
  {
   "cell_type": "code",
   "execution_count": 43,
   "id": "f29582c2",
   "metadata": {},
   "outputs": [
    {
     "name": "stdout",
     "output_type": "stream",
     "text": [
      "5000 is Debited from your Bank Account\n",
      "The available balance in your Bank Account is 65000\n"
     ]
    }
   ],
   "source": [
    "b1.withdraw(5000)"
   ]
  },
  {
   "cell_type": "code",
   "execution_count": 44,
   "id": "7f923bbe",
   "metadata": {},
   "outputs": [
    {
     "name": "stdout",
     "output_type": "stream",
     "text": [
      "Your Name is :  Suryaa\n",
      "Your account Number is :  1N2B5GG34\n",
      "Your Balance in your Account :  65000\n"
     ]
    }
   ],
   "source": [
    "b1.display()"
   ]
  },
  {
   "cell_type": "code",
   "execution_count": 45,
   "id": "bf1a8e5e",
   "metadata": {},
   "outputs": [],
   "source": [
    "b2 = Bank(\"2M45HK7Y\",\"Ali\",40000)"
   ]
  },
  {
   "cell_type": "code",
   "execution_count": 46,
   "id": "5f750ada",
   "metadata": {},
   "outputs": [
    {
     "name": "stdout",
     "output_type": "stream",
     "text": [
      "200 is Credited into your Bank Account\n",
      "The available balance in your Bank Account is 40200\n"
     ]
    }
   ],
   "source": [
    "b2.deposit(200)"
   ]
  },
  {
   "cell_type": "code",
   "execution_count": 47,
   "id": "990ee13f",
   "metadata": {},
   "outputs": [
    {
     "name": "stdout",
     "output_type": "stream",
     "text": [
      "40000 is Debited from your Bank Account\n",
      "The available balance in your Bank Account is 200\n"
     ]
    }
   ],
   "source": [
    "b2.withdraw(40000)"
   ]
  },
  {
   "cell_type": "code",
   "execution_count": 48,
   "id": "682fb522",
   "metadata": {},
   "outputs": [
    {
     "name": "stdout",
     "output_type": "stream",
     "text": [
      "Your Name is :  Ali\n",
      "Your account Number is :  2M45HK7Y\n",
      "Your Balance in your Account :  200\n"
     ]
    }
   ],
   "source": [
    "b2.display()"
   ]
  },
  {
   "cell_type": "code",
   "execution_count": null,
   "id": "560113b4",
   "metadata": {},
   "outputs": [],
   "source": []
  }
 ],
 "metadata": {
  "kernelspec": {
   "display_name": "Python 3 (ipykernel)",
   "language": "python",
   "name": "python3"
  },
  "language_info": {
   "codemirror_mode": {
    "name": "ipython",
    "version": 3
   },
   "file_extension": ".py",
   "mimetype": "text/x-python",
   "name": "python",
   "nbconvert_exporter": "python",
   "pygments_lexer": "ipython3",
   "version": "3.9.7"
  }
 },
 "nbformat": 4,
 "nbformat_minor": 5
}
