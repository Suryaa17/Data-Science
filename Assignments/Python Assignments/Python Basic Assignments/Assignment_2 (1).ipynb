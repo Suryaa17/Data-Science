{
 "cells": [
  {
   "cell_type": "markdown",
   "id": "e9cb01f1",
   "metadata": {},
   "source": [
    "# PYTHON BASIC ASSIGNMENT"
   ]
  },
  {
   "cell_type": "markdown",
   "id": "c4df99d0",
   "metadata": {},
   "source": [
    "Name : NT SURYAA"
   ]
  },
  {
   "cell_type": "markdown",
   "id": "a450e987",
   "metadata": {},
   "source": [
    "1) What are the two values of the Boolean data type? How do you write them?"
   ]
  },
  {
   "cell_type": "markdown",
   "id": "f412a0c2",
   "metadata": {},
   "source": [
    "# Solution\n",
    "\n",
    "The two values of boolean datatypes are :\n",
    "\n",
    "True - Represented by \"0\"\n",
    "False - Represented by \"1\""
   ]
  },
  {
   "cell_type": "markdown",
   "id": "a444bedd",
   "metadata": {},
   "source": [
    "2) What are the three different types of Boolean operators?"
   ]
  },
  {
   "cell_type": "markdown",
   "id": "cf7a98c1",
   "metadata": {},
   "source": [
    " Solution\n",
    "\n",
    "Three basic boolean operators are :\n",
    "\n",
    "and operator ------- &\n",
    "\n",
    "or operator  ------- |\n",
    "\n",
    "not operator ------- !"
   ]
  },
  {
   "cell_type": "markdown",
   "id": "f2431cf4",
   "metadata": {},
   "source": [
    "3) Make a list of each Boolean operator truth tables (i.e. every possible combination of Boolean\n",
    "values for the operator and what it evaluate )."
   ]
  },
  {
   "cell_type": "raw",
   "id": "d96393d5",
   "metadata": {},
   "source": [
    "Solution\n",
    "\n",
    "There are three types of boolean operator : \n",
    "\n",
    "AND operator\n",
    "\n",
    "Truth table is given as :\n",
    "\n",
    "X      Y      Output\n",
    "\n",
    "T      T        T\n",
    "\n",
    "T      F        F\n",
    "\n",
    "F      T        F\n",
    "\n",
    "F      F        F\n",
    "\n",
    "OR operator\n",
    "\n",
    "Truth table is given as :\n",
    "\n",
    "X      Y      Output\n",
    "\n",
    "T      T        T\n",
    "\n",
    "T      F        T\n",
    "\n",
    "F      T        T\n",
    "\n",
    "F      F        F\n",
    "\n",
    "NOT operator\n",
    "\n",
    "Truth table is given as :\n",
    "\n",
    "X      Output\n",
    "\n",
    "T       F\n",
    "\n",
    "F       T"
   ]
  },
  {
   "cell_type": "markdown",
   "id": "976a83b0",
   "metadata": {},
   "source": [
    "4) What are the values of the following expressions?\n",
    "\n",
    "(5 > 4) and (3 == 5)\n",
    "\n",
    "not (5 > 4)\n",
    "\n",
    "(5 > 4) or (3 == 5)\n",
    "\n",
    "not ((5 > 4) or (3 == 5))\n",
    "\n",
    "(True and True) and (True == False)\n",
    "\n",
    "(not False) or (not True)"
   ]
  },
  {
   "cell_type": "raw",
   "id": "3e55f9fb",
   "metadata": {},
   "source": [
    "# Solution\n",
    "\n",
    "(5 > 4) and (3 == 5) =========================> False\n",
    "\n",
    "not (5 > 4) ==================================> False\n",
    "\n",
    "(5 > 4) or (3 == 5) ==========================> True\n",
    "\n",
    "not ((5 > 4) or (3 == 5)) ====================> False\n",
    "\n",
    "(True and True) and (True == False) ==========> False\n",
    "\n",
    "(not False) or (not True) ====================> True\n"
   ]
  },
  {
   "cell_type": "markdown",
   "id": "570dbcea",
   "metadata": {},
   "source": [
    "5) What are the six comparison operators?"
   ]
  },
  {
   "cell_type": "raw",
   "id": "f2913fe5",
   "metadata": {},
   "source": [
    "# Solution\n",
    "\n",
    "The six comparison operators are : \n",
    "\n",
    ">\n",
    "<\n",
    "==\n",
    ">=\n",
    "<=\n",
    "!="
   ]
  },
  {
   "cell_type": "markdown",
   "id": "aa5e6e39",
   "metadata": {},
   "source": [
    "6) How do you tell the difference between the equal to and assignment operators?Describe a\n",
    "condition and when you would use one."
   ]
  },
  {
   "cell_type": "raw",
   "id": "729f6ad0",
   "metadata": {},
   "source": [
    "# Solution\n",
    "\n",
    "Equal operator is given by \"==\"\n",
    "Equal operator is used to compare any two values \n",
    "example : 5 == 5 \n",
    "\n",
    "Assignment operator is given by \"=\"\n",
    "Assignment operator is used to assign any value to a variable \n",
    "Example :  a = 5"
   ]
  },
  {
   "cell_type": "markdown",
   "id": "4cc5c1f6",
   "metadata": {},
   "source": [
    "7) Identify the three blocks in this code:\n",
    "\n",
    "spam = 0\n",
    "\n",
    "if spam == 10:\n",
    "\n",
    "    print(\"eggs\")\n",
    "\n",
    "if spam > 5:\n",
    "\n",
    "    print(\"bacon\")\n",
    "\n",
    "else:\n",
    "\n",
    "    print(\"ham\")\n",
    "    print(\"spam\")\n",
    "    print(\"spam\") "
   ]
  },
  {
   "cell_type": "raw",
   "id": "16ab8ae4",
   "metadata": {},
   "source": [
    "# Solution\n",
    "\n",
    "spam = 0\n",
    "\n",
    "The first block of code is : \n",
    "\n",
    "if spam == 10:\n",
    "\n",
    "    print(\"eggs\")\n",
    "   \n",
    "The Second block of code is :\n",
    "\n",
    "if spam > 5:\n",
    "\n",
    "    print(\"bacon\")\n",
    "    \n",
    "The Third Block of code is :\n",
    "\n",
    "else:\n",
    "\n",
    "    print(\"ham\")\n",
    "    print(\"spam\")\n",
    "    print(\"spam\") "
   ]
  },
  {
   "cell_type": "markdown",
   "id": "b75c1b89",
   "metadata": {},
   "source": [
    "8) Write code that prints Hello if 1 is stored in spam, prints Howdy if 2 is stored in spam, and prints\n",
    "Greetings! if anything else is stored in spam."
   ]
  },
  {
   "cell_type": "code",
   "execution_count": 1,
   "id": "127ad520",
   "metadata": {},
   "outputs": [
    {
     "name": "stdout",
     "output_type": "stream",
     "text": [
      "Enter a number : 2\n",
      "Howdy\n"
     ]
    }
   ],
   "source": [
    "# Solution\n",
    "\n",
    "spam = int(input(\"Enter a number : \"))\n",
    "\n",
    "if spam == 1 :\n",
    "    print(\"Hello\")\n",
    "elif spam == 2:\n",
    "    print(\"Howdy\")\n",
    "else:\n",
    "    print(\"Greetings!\")"
   ]
  },
  {
   "cell_type": "markdown",
   "id": "b11d4f07",
   "metadata": {},
   "source": [
    "9) If your programme is stuck in an endless loop, what keys you’ll press?"
   ]
  },
  {
   "cell_type": "raw",
   "id": "73886d68",
   "metadata": {},
   "source": [
    "# Solution\n",
    "\n",
    "Generally ctrl+c can be typed to stop an endless loop"
   ]
  },
  {
   "cell_type": "markdown",
   "id": "717f2d20",
   "metadata": {},
   "source": [
    "10) How can you tell the difference between break and continue?"
   ]
  },
  {
   "cell_type": "raw",
   "id": "7ae06f53",
   "metadata": {},
   "source": [
    "# Solution\n",
    "\n",
    "Break statement and continue statements are control statements in python\n",
    "\n",
    "Break statement is used to break the loop, once the condition is fulfuilled it will break the loop and come out of the loop and no more statements will be executed in the loop which contains a break statement\n",
    "\n",
    "syntax : break\n",
    "\n",
    "Continue statement on the other hand will continue the loop once the intrepreter encounters the continue statement. It will leave all the statements below the continue statement and execute the loop until a condition gets fulfilled\n",
    "\n",
    "Syntax : continue\n"
   ]
  },
  {
   "cell_type": "markdown",
   "id": "aca17269",
   "metadata": {},
   "source": [
    "11) In a for loop, what is the difference between range(10), range(0, 10), and range(0, 10, 1)?"
   ]
  },
  {
   "cell_type": "raw",
   "id": "8a475bfb",
   "metadata": {},
   "source": [
    "# Solution\n",
    "\n",
    "range(10) ===> It will execute the loop 10 times ie. from 0 to 9\n",
    "\n",
    "range(0,10) ===> It is same as that of range(10)\n",
    "\n",
    "range(0,10,1) ===> It is also same as that of range(10). It implies that its step size is 1."
   ]
  },
  {
   "cell_type": "markdown",
   "id": "ac15d774",
   "metadata": {},
   "source": [
    "12) Write a short program that prints the numbers 1 to 10 using a for loop. Then write an equivalent\n",
    "program that prints the numbers 1 to 10 using a while loop."
   ]
  },
  {
   "cell_type": "code",
   "execution_count": 3,
   "id": "d2e4aa3f",
   "metadata": {},
   "outputs": [
    {
     "name": "stdout",
     "output_type": "stream",
     "text": [
      "Program using for loop\n",
      "1\n",
      "2\n",
      "3\n",
      "4\n",
      "5\n",
      "6\n",
      "7\n",
      "8\n",
      "9\n",
      "10\n",
      "program using while loop\n",
      "1\n",
      "2\n",
      "3\n",
      "4\n",
      "5\n",
      "6\n",
      "7\n",
      "8\n",
      "9\n",
      "10\n"
     ]
    }
   ],
   "source": [
    "# Solution\n",
    "print(\"Program using for loop\")\n",
    "\n",
    "for i in range(1,11):\n",
    "    print(i)\n",
    "    \n",
    "print(\"program using while loop\")\n",
    "\n",
    "num = 1\n",
    "while num <= 10:\n",
    "    print(num)\n",
    "    num += 1"
   ]
  },
  {
   "cell_type": "markdown",
   "id": "ed4af49f",
   "metadata": {},
   "source": [
    "13) If you had a function named bacon() inside a module named spam, how would you call it after\n",
    "importing spam?"
   ]
  },
  {
   "cell_type": "raw",
   "id": "89115e10",
   "metadata": {},
   "source": [
    "# Solution\n",
    "\n",
    "import spam\n",
    "spam.bacon()"
   ]
  },
  {
   "cell_type": "code",
   "execution_count": null,
   "id": "f1519ddb",
   "metadata": {},
   "outputs": [],
   "source": []
  }
 ],
 "metadata": {
  "kernelspec": {
   "display_name": "Python 3 (ipykernel)",
   "language": "python",
   "name": "python3"
  },
  "language_info": {
   "codemirror_mode": {
    "name": "ipython",
    "version": 3
   },
   "file_extension": ".py",
   "mimetype": "text/x-python",
   "name": "python",
   "nbconvert_exporter": "python",
   "pygments_lexer": "ipython3",
   "version": "3.9.7"
  }
 },
 "nbformat": 4,
 "nbformat_minor": 5
}
