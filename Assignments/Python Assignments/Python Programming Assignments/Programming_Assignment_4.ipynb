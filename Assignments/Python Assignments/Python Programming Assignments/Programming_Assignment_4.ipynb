{
  "nbformat": 4,
  "nbformat_minor": 0,
  "metadata": {
    "colab": {
      "provenance": [],
      "collapsed_sections": []
    },
    "kernelspec": {
      "name": "python3",
      "display_name": "Python 3"
    },
    "language_info": {
      "name": "python"
    }
  },
  "cells": [
    {
      "cell_type": "code",
      "execution_count": null,
      "metadata": {
        "id": "PvWd-UyJTADn"
      },
      "outputs": [],
      "source": [
        "                                     Programming Assignment - 4"
      ]
    },
    {
      "cell_type": "markdown",
      "source": [
        "Name : NT SURYAA"
      ],
      "metadata": {
        "id": "M3BJpc1ETOet"
      }
    },
    {
      "cell_type": "markdown",
      "source": [
        "1) Write a Python Program to Find the Factorial of a Number?"
      ],
      "metadata": {
        "id": "YLj3mKdNTQUi"
      }
    },
    {
      "cell_type": "code",
      "source": [
        "# Solution\n",
        "\n",
        "num = int(input(\"Enter the number to find the factorial : \"))\n",
        "fact = 1\n",
        "for i in range(1,num+1):\n",
        "  fact = fact*i\n",
        "print(\"fact of {} is {}\".format(num,fact))\n"
      ],
      "metadata": {
        "colab": {
          "base_uri": "https://localhost:8080/"
        },
        "id": "EuuGb7C2TTN4",
        "outputId": "b37e0684-b73e-4a95-ed64-947232ea0c71"
      },
      "execution_count": null,
      "outputs": [
        {
          "output_type": "stream",
          "name": "stdout",
          "text": [
            "Enter the number to find the factorial : 5\n",
            "fact of 5 is 120\n"
          ]
        }
      ]
    },
    {
      "cell_type": "markdown",
      "source": [
        "2) Write a Python Program to Display the multiplication Table?"
      ],
      "metadata": {
        "id": "AUv-iCBFUCLH"
      }
    },
    {
      "cell_type": "code",
      "source": [
        "# Solution\n",
        "\n",
        "num = int(input(\"Enter the number to print the multiplication table : \"))\n",
        "for i in range(1,11):\n",
        "  print(\"{} X {} = {}\".format(num,i,num*i))"
      ],
      "metadata": {
        "colab": {
          "base_uri": "https://localhost:8080/"
        },
        "id": "FI9yTC5lUFif",
        "outputId": "0cf367a4-8e4f-4625-a76d-2257618b0657"
      },
      "execution_count": null,
      "outputs": [
        {
          "output_type": "stream",
          "name": "stdout",
          "text": [
            "Enter the number to print the multiplication table : 5\n",
            "5 X 1 = 5\n",
            "5 X 2 = 10\n",
            "5 X 3 = 15\n",
            "5 X 4 = 20\n",
            "5 X 5 = 25\n",
            "5 X 6 = 30\n",
            "5 X 7 = 35\n",
            "5 X 8 = 40\n",
            "5 X 9 = 45\n",
            "5 X 10 = 50\n"
          ]
        }
      ]
    },
    {
      "cell_type": "markdown",
      "source": [
        "3) Write a Python Program to Print the Fibonacci sequence?"
      ],
      "metadata": {
        "id": "pU1-FDVxUeRX"
      }
    },
    {
      "cell_type": "code",
      "source": [
        "# Solution\n",
        "\n",
        "num = int(input(\"Enter upto how much number you need fibanocci sequence : \"))\n",
        "n1 = 0\n",
        "n2 = 1\n",
        "if num<0:\n",
        "  print(\"Incorrect input\")\n",
        "elif num == 0:\n",
        "  print(0)\n",
        "elif num == 1:\n",
        "  print(1)\n",
        "else:\n",
        "  for i in range(1,num+1):\n",
        "    c = n1+n2\n",
        "    n1 = n2\n",
        "    n2 = c\n",
        "    print(n2)"
      ],
      "metadata": {
        "colab": {
          "base_uri": "https://localhost:8080/"
        },
        "id": "QEoKQT1LUg95",
        "outputId": "67e6fe9b-ab3c-44dd-ec14-01a81ae43f66"
      },
      "execution_count": null,
      "outputs": [
        {
          "output_type": "stream",
          "name": "stdout",
          "text": [
            "Enter upto how much number you need fibanocci sequence : 10\n",
            "1\n",
            "2\n",
            "3\n",
            "5\n",
            "8\n",
            "13\n",
            "21\n",
            "34\n",
            "55\n",
            "89\n"
          ]
        }
      ]
    },
    {
      "cell_type": "markdown",
      "source": [
        "4)Write a Python Program to Check Armstrong Number?"
      ],
      "metadata": {
        "id": "4MCJDSchbuHW"
      }
    },
    {
      "cell_type": "code",
      "source": [
        "# Solution\n",
        "num = int(input(\"Enter a number to  check whether it is armstrong number or not : \"))\n",
        "\n",
        "order = len(str(num))\n",
        "sum = 0\n",
        "temp = num\n",
        "while temp > 0:\n",
        "   digit = temp % 10\n",
        "   sum = sum + digit ** order\n",
        "   temp = temp // 10\n",
        "if num == sum:\n",
        "   print(num,\"is an Armstrong number\")\n",
        "else:\n",
        "   print(num,\"is not an Armstrong number\")\n",
        "\n",
        "\n"
      ],
      "metadata": {
        "id": "QW4GJKjabxiR",
        "colab": {
          "base_uri": "https://localhost:8080/"
        },
        "outputId": "75928e22-b933-4194-9dd3-31d35222e912"
      },
      "execution_count": 3,
      "outputs": [
        {
          "output_type": "stream",
          "name": "stdout",
          "text": [
            "Enter a number to  check whether it is armstrong number or not : 153\n",
            "153 is an Armstrong number\n"
          ]
        }
      ]
    },
    {
      "cell_type": "markdown",
      "source": [
        "5) Write a Python Program to Find Armstrong Number in an Interval?"
      ],
      "metadata": {
        "id": "VYc_EwCKcITK"
      }
    },
    {
      "cell_type": "code",
      "source": [
        "# Solution\n",
        "\n",
        "lower = int(input(\"Enter the starting number : \"))\n",
        "upper = int(input(\"Enter the ending number : \"))\n",
        "\n",
        "for num in range(lower, upper + 1):\n",
        "   order = len(str(num))\n",
        "   sum = 0\n",
        "   temp = num\n",
        "\n",
        "   while temp > 0:\n",
        "       digit = temp % 10\n",
        "       sum = sum + digit ** order\n",
        "       temp = temp // 10\n",
        "\n",
        "   if num == sum:\n",
        "       print(\"The Armstrong numbers are: \",end=\" \")\n",
        "       print(num)\n",
        "\n"
      ],
      "metadata": {
        "id": "BwRhILe0cItO",
        "colab": {
          "base_uri": "https://localhost:8080/"
        },
        "outputId": "7842a5e2-1596-4104-8e18-f6755603a667"
      },
      "execution_count": 5,
      "outputs": [
        {
          "output_type": "stream",
          "name": "stdout",
          "text": [
            "Enter the starting number : 100\n",
            "Enter the ending number : 1000\n",
            "The Armstrong numbers are:  153\n",
            "The Armstrong numbers are:  370\n",
            "The Armstrong numbers are:  371\n",
            "The Armstrong numbers are:  407\n"
          ]
        }
      ]
    },
    {
      "cell_type": "markdown",
      "source": [
        "6)Write a Python Program to Find the Sum of Natural Numbers?"
      ],
      "metadata": {
        "id": "aDUU1noUcI99"
      }
    },
    {
      "cell_type": "code",
      "source": [
        "# Solution\n",
        "\n",
        "num = int(input(\"Enter the number upto which you need to find the sum of natural numbers : \"))\n",
        "sum = 0\n",
        "for i in range(0,num+1):\n",
        "  sum = sum + i\n",
        "print(\"The sum of all natural numbers of the value {} is {}\".format(num,sum))"
      ],
      "metadata": {
        "colab": {
          "base_uri": "https://localhost:8080/"
        },
        "id": "ZL1-eXGMcNKE",
        "outputId": "8a0f6dbc-1395-4f58-a0a1-781d6d959204"
      },
      "execution_count": null,
      "outputs": [
        {
          "output_type": "stream",
          "name": "stdout",
          "text": [
            "Enter the number upto which you need to find the sum of natural numbers : 20\n",
            "The sum of all natural numbers of the value 20 is 210\n"
          ]
        }
      ]
    }
  ]
}