{
  "nbformat": 4,
  "nbformat_minor": 0,
  "metadata": {
    "colab": {
      "provenance": [],
      "collapsed_sections": []
    },
    "kernelspec": {
      "name": "python3",
      "display_name": "Python 3"
    },
    "language_info": {
      "name": "python"
    }
  },
  "cells": [
    {
      "cell_type": "code",
      "execution_count": null,
      "metadata": {
        "id": "FhFtl0dItbzy"
      },
      "outputs": [],
      "source": [
        "                                    Programming Assignment - 2"
      ]
    },
    {
      "cell_type": "markdown",
      "source": [
        "Name :- NT SURYAA"
      ],
      "metadata": {
        "id": "LueCPocRtnU_"
      }
    },
    {
      "cell_type": "markdown",
      "source": [
        "1) Write a Python program to convert kilometers to miles?"
      ],
      "metadata": {
        "id": "omw5onbdtqL_"
      }
    },
    {
      "cell_type": "code",
      "source": [
        "# Solution\n",
        "\n",
        "a = int(input(\"Enter the value to convert kilometres to miles : \"))\n",
        "# 1 mile =  0.62137119 km\n",
        "mile =  0.62137119*a\n",
        "print(\"{} km is {} miles\".format(a,mile))"
      ],
      "metadata": {
        "colab": {
          "base_uri": "https://localhost:8080/"
        },
        "id": "kK65wvjztsxu",
        "outputId": "0f442ea1-6781-4591-944c-74bbf19cb893"
      },
      "execution_count": null,
      "outputs": [
        {
          "output_type": "stream",
          "name": "stdout",
          "text": [
            "Enter the value to convert kilometres to miles : 5\n",
            "5 km is 3.10685595 miles\n"
          ]
        }
      ]
    },
    {
      "cell_type": "markdown",
      "source": [
        "2) Write a Python program to convert Celsius to Fahrenheit?"
      ],
      "metadata": {
        "id": "f5ToBWC1uluj"
      }
    },
    {
      "cell_type": "code",
      "source": [
        "# Solution\n",
        "c = int(input(\"Enter the value to convert celcius scale to farenheit scale : \"))\n",
        "faren = (9/5)*c + 32\n",
        "# Formula = F = 9/5c+32\n",
        "print(\"{} celcius scale is {} Farenheit scale\".format(c,faren)) \n"
      ],
      "metadata": {
        "colab": {
          "base_uri": "https://localhost:8080/"
        },
        "id": "JkVO-5Vkuq9C",
        "outputId": "411b93df-1858-4be8-f904-8377b8d1059e"
      },
      "execution_count": null,
      "outputs": [
        {
          "output_type": "stream",
          "name": "stdout",
          "text": [
            "Enter the value to convert celcius scale to farenheit scale : 97\n",
            "97 celcius scale is 206.6 Farenheit scale\n"
          ]
        }
      ]
    },
    {
      "cell_type": "markdown",
      "source": [
        "3) Write a Python program to display calendar?"
      ],
      "metadata": {
        "id": "uPKbKYcPvnMC"
      }
    },
    {
      "cell_type": "code",
      "source": [
        "# Solution\n",
        "import calendar\n",
        "yy = 2002 #year\n",
        "mm = 8 #Month\n",
        "print(calendar.month(yy,mm))"
      ],
      "metadata": {
        "colab": {
          "base_uri": "https://localhost:8080/"
        },
        "id": "3eWSBSHIvowG",
        "outputId": "a6aad69a-b036-48d2-b1bc-80ed13c7051f"
      },
      "execution_count": null,
      "outputs": [
        {
          "output_type": "stream",
          "name": "stdout",
          "text": [
            "    August 2002\n",
            "Mo Tu We Th Fr Sa Su\n",
            "          1  2  3  4\n",
            " 5  6  7  8  9 10 11\n",
            "12 13 14 15 16 17 18\n",
            "19 20 21 22 23 24 25\n",
            "26 27 28 29 30 31\n",
            "\n"
          ]
        }
      ]
    },
    {
      "cell_type": "markdown",
      "source": [
        "4) Write a Python program to solve quadratic equation?"
      ],
      "metadata": {
        "id": "CFXT8UFuwf2W"
      }
    },
    {
      "cell_type": "code",
      "source": [
        "# Solution\n",
        "import cmath\n",
        "\n",
        "a = int(input(\"Enter the value of a : \"))\n",
        "b = int(input(\"Enter the value of b : \"))\n",
        "c = int(input(\"Enter the value of c : \"))\n",
        "# Formula :- -b +/- root(b^2-4ac)/2a\n",
        "\n",
        "d = (b**2)-(4*a*c)\n",
        "\n",
        "ans1 = -b + cmath.sqrt(d)/(2*a)\n",
        "ans2 = -b - cmath.sqrt(d)/(2*a)\n",
        "\n",
        "print(\"{} and {} are the roots of the quadratic equation\".format(ans1,ans2))"
      ],
      "metadata": {
        "colab": {
          "base_uri": "https://localhost:8080/"
        },
        "id": "Ve6EtsHSwlyr",
        "outputId": "5212ec5a-270e-4d22-cd1f-a1e29d2e535c"
      },
      "execution_count": null,
      "outputs": [
        {
          "output_type": "stream",
          "name": "stdout",
          "text": [
            "Enter the value of a : 5\n",
            "Enter the value of b : 4\n",
            "Enter the value of c : 6\n",
            "(-4+1.0198039027185568j) and (-4-1.0198039027185568j) are the roots of the quadratic equation\n"
          ]
        }
      ]
    },
    {
      "cell_type": "markdown",
      "source": [
        "5) Write a Python program to swap two variables without temp variable?"
      ],
      "metadata": {
        "id": "59vR0Hfqyjms"
      }
    },
    {
      "cell_type": "code",
      "source": [
        "# Solution\n",
        "\n",
        "a = int(input(\"Enter the value of a : \"))\n",
        "b = int(input(\"Enter the value of b : \"))\n",
        "print(\"{} and {} are the values of a and b before swapping\".format(a,b))\n",
        "# swapping\n",
        "a,b = b,a\n",
        "print(\"{} and {} are the values of a and b after swapping\".format(a,b))\n"
      ],
      "metadata": {
        "colab": {
          "base_uri": "https://localhost:8080/"
        },
        "id": "-ynbTwNDymoy",
        "outputId": "e433ef6d-67ef-4819-e10a-d60ccc9cca0b"
      },
      "execution_count": null,
      "outputs": [
        {
          "output_type": "stream",
          "name": "stdout",
          "text": [
            "Enter the value of a : 10\n",
            "Enter the value of b : 20\n",
            "10 and 20 are the values of a and b before swapping\n",
            "20 and 10 are the values of a and b after swapping\n"
          ]
        }
      ]
    }
  ]
}