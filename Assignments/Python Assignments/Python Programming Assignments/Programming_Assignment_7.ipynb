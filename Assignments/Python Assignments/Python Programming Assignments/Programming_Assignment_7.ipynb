{
 "cells": [
  {
   "cell_type": "markdown",
   "id": "773cbfac",
   "metadata": {},
   "source": [
    "# Programming Assignment - 7 "
   ]
  },
  {
   "cell_type": "markdown",
   "id": "8d287e07",
   "metadata": {},
   "source": [
    "Name : NT Suryaa"
   ]
  },
  {
   "cell_type": "markdown",
   "id": "4d21c9a1",
   "metadata": {},
   "source": [
    "1) Write a Python Program to find sum of array?"
   ]
  },
  {
   "cell_type": "code",
   "execution_count": 2,
   "id": "3ca44ffa",
   "metadata": {},
   "outputs": [
    {
     "name": "stdout",
     "output_type": "stream",
     "text": [
      "Enter the number of elements in the array : 5\n",
      "Enter the elements : 1\n",
      "Enter the elements : 2\n",
      "Enter the elements : 0\n",
      "Enter the elements : 3\n",
      "Enter the elements : 4\n",
      "The sum of the array is :  10\n"
     ]
    }
   ],
   "source": [
    "# Solution\n",
    "\n",
    "arr = []\n",
    "n = int(input(\"Enter the number of elements in the array : \"))\n",
    "for i in range(n):\n",
    "    element = int(input(\"Enter the elements : \"))\n",
    "    arr.append(element)\n",
    "\n",
    "sum1 = 0\n",
    "for j in range(len(arr)):\n",
    "    sum1 = sum1 + arr[j]\n",
    "\n",
    "print(\"The sum of the array is : \",sum1)"
   ]
  },
  {
   "cell_type": "markdown",
   "id": "1a313429",
   "metadata": {},
   "source": [
    "2) Write a Python Program to find largest element in an array?"
   ]
  },
  {
   "cell_type": "code",
   "execution_count": 3,
   "id": "70473f7b",
   "metadata": {},
   "outputs": [
    {
     "name": "stdout",
     "output_type": "stream",
     "text": [
      "Enter the number of elements in the array : 5\n",
      "Enter the elements : 1\n",
      "Enter the elements : 4\n",
      "Enter the elements : 5\n",
      "Enter the elements : 8\n",
      "Enter the elements : 2\n",
      "The largest element in an array is :  8\n"
     ]
    }
   ],
   "source": [
    "# Solution\n",
    "\n",
    "arr = []\n",
    "n = int(input(\"Enter the number of elements in the array : \"))\n",
    "for i in range(n):\n",
    "    element = int(input(\"Enter the elements : \"))\n",
    "    arr.append(element)\n",
    "    \n",
    "largest = arr[0]\n",
    "for j in range(1,len(arr)):\n",
    "    if arr[j] > largest:\n",
    "        largest = arr[j]\n",
    "    else:\n",
    "        pass\n",
    "print(\"The largest element in an array is : \",largest)"
   ]
  },
  {
   "cell_type": "markdown",
   "id": "250b3183",
   "metadata": {},
   "source": [
    "3) Write a Python Program for array rotation?"
   ]
  },
  {
   "cell_type": "code",
   "execution_count": 4,
   "id": "fa8fcdd9",
   "metadata": {},
   "outputs": [
    {
     "name": "stdout",
     "output_type": "stream",
     "text": [
      "first array: [1, 2, 3, 4, 5]\n",
      "final array: [3, 4, 5, 1, 2]\n"
     ]
    }
   ],
   "source": [
    "# Solution \n",
    "\n",
    "def rotating_array(arr, k):\n",
    "     n = len(arr)\n",
    "     k = k % n\n",
    "     new_arr = []\n",
    "     for i in range(k, n):\n",
    "         new_arr.append(arr[i])\n",
    "     for i in range(k):\n",
    "         new_arr.append(arr[i])\n",
    "     return new_arr\n",
    "array = [1, 2, 3, 4, 5]\n",
    "count = 2\n",
    "final_array = rotating_array(array, count)\n",
    "print(\"first array:\", array)\n",
    "print(\"final array:\", final_array)\n"
   ]
  },
  {
   "cell_type": "markdown",
   "id": "cd85067c",
   "metadata": {},
   "source": [
    "4) Write a Python Program to Split the array and add the first part to the end?"
   ]
  },
  {
   "cell_type": "code",
   "execution_count": 7,
   "id": "d8840863",
   "metadata": {},
   "outputs": [
    {
     "name": "stdout",
     "output_type": "stream",
     "text": [
      "[3, 4, 5, 1, 2]\n"
     ]
    }
   ],
   "source": [
    "arr1 = [1,2,3,4,5]\n",
    "new_arr1 = arr1[0:2]\n",
    "new_arr2 = arr1[2:]\n",
    "arr1 = new_arr2 + new_arr1\n",
    "print(arr1)"
   ]
  },
  {
   "cell_type": "markdown",
   "id": "21dc3c3e",
   "metadata": {},
   "source": [
    "5) Write a Python Program to check if given array is Monotonic?\n"
   ]
  },
  {
   "cell_type": "code",
   "execution_count": 12,
   "id": "db65d104",
   "metadata": {},
   "outputs": [
    {
     "name": "stdout",
     "output_type": "stream",
     "text": [
      "True\n"
     ]
    }
   ],
   "source": [
    "def is_monotonic(arr):\n",
    "    increasing = decreasing = True\n",
    "    \n",
    "    for i in range(1, len(arr)):\n",
    "        if arr[i] > arr[i - 1]:\n",
    "            decreasing = False\n",
    "        elif arr[i] < arr[i - 1]:\n",
    "            increasing = False\n",
    "    \n",
    "    return increasing or decreasing\n",
    "\n",
    "# Test the function\n",
    "array = [1, 2, 3, 4, 5]\n",
    "print(is_monotonic(array)) "
   ]
  },
  {
   "cell_type": "code",
   "execution_count": null,
   "id": "bbbf4eee",
   "metadata": {},
   "outputs": [],
   "source": []
  }
 ],
 "metadata": {
  "kernelspec": {
   "display_name": "Python 3 (ipykernel)",
   "language": "python",
   "name": "python3"
  },
  "language_info": {
   "codemirror_mode": {
    "name": "ipython",
    "version": 3
   },
   "file_extension": ".py",
   "mimetype": "text/x-python",
   "name": "python",
   "nbconvert_exporter": "python",
   "pygments_lexer": "ipython3",
   "version": "3.9.7"
  }
 },
 "nbformat": 4,
 "nbformat_minor": 5
}
