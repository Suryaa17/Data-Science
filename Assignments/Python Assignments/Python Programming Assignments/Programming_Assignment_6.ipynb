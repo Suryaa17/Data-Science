{
 "cells": [
  {
   "cell_type": "markdown",
   "id": "9cd7d28b",
   "metadata": {},
   "source": [
    "# PYTHON PROGRAMMING ASSIGNMENT - 6"
   ]
  },
  {
   "cell_type": "markdown",
   "id": "fce5a919",
   "metadata": {},
   "source": [
    "Name : NT SURYAA"
   ]
  },
  {
   "cell_type": "markdown",
   "id": "12a4397f",
   "metadata": {},
   "source": [
    "1) Write a Python Program to Display Fibonacci Sequence Using Recursion?"
   ]
  },
  {
   "cell_type": "code",
   "execution_count": 4,
   "id": "f49db2eb",
   "metadata": {},
   "outputs": [
    {
     "name": "stdout",
     "output_type": "stream",
     "text": [
      "Enter a positive number : 7\n",
      "0\n",
      "1\n",
      "1\n",
      "2\n",
      "3\n",
      "5\n",
      "8\n"
     ]
    }
   ],
   "source": [
    "# Solution\n",
    "\n",
    "def fibo(n):\n",
    "    if n == 0 or n ==1:\n",
    "        return n\n",
    "    else:\n",
    "        return fibo(n-1)+fibo(n-2)\n",
    "    \n",
    "n = int(input(\"Enter a positive number : \"))\n",
    "\n",
    "if n>=0:\n",
    "    for i in range(n):\n",
    "        print(fibo(i))\n",
    "else:\n",
    "    print(\"Enter a positive number\")"
   ]
  },
  {
   "cell_type": "markdown",
   "id": "2699853b",
   "metadata": {},
   "source": [
    "2) Write a Python Program to Find Factorial of Number Using Recursion?"
   ]
  },
  {
   "cell_type": "code",
   "execution_count": 7,
   "id": "6e790b3b",
   "metadata": {},
   "outputs": [
    {
     "name": "stdout",
     "output_type": "stream",
     "text": [
      "Enter a number : 5\n",
      "The Factorial of 5 is 120\n"
     ]
    }
   ],
   "source": [
    "# Solution\n",
    "\n",
    "def fact(n):\n",
    "    if n == 0:\n",
    "        return 1\n",
    "    else:\n",
    "        return n * fact(n-1)\n",
    "\n",
    "n = int(input(\"Enter a number : \"))\n",
    "factorial = fact(n)\n",
    "print(\"The Factorial of {} is {}\".format(n,factorial))"
   ]
  },
  {
   "cell_type": "markdown",
   "id": "d820bcd1",
   "metadata": {},
   "source": [
    "3) Write a Python Program to calculate your Body Mass Index?"
   ]
  },
  {
   "cell_type": "code",
   "execution_count": 9,
   "id": "eec62bc6",
   "metadata": {},
   "outputs": [
    {
     "name": "stdout",
     "output_type": "stream",
     "text": [
      "Enter your weight in kgs: 65\n",
      "Enter your height in centimetres : 185\n",
      "The BMI is :  17.56756756756757\n"
     ]
    }
   ],
   "source": [
    "# Solution\n",
    "\n",
    "weight = float(input(\"Enter your weight in kgs: \"))\n",
    "height = float(input(\"Enter your height in centimetres : \"))\n",
    "bmi = weight/((height/100)*2)\n",
    "print(\"The BMI is : \",bmi)"
   ]
  },
  {
   "cell_type": "markdown",
   "id": "39bab3c7",
   "metadata": {},
   "source": [
    "4) Write a Python Program to calculate the natural logarithm of any number?"
   ]
  },
  {
   "cell_type": "code",
   "execution_count": 10,
   "id": "d9d56e8b",
   "metadata": {},
   "outputs": [
    {
     "name": "stdout",
     "output_type": "stream",
     "text": [
      "Enter a number : 10\n",
      "The natural logarithm of the number 10 is 2.302585092994046\n"
     ]
    }
   ],
   "source": [
    "# Solution\n",
    "\n",
    "import math\n",
    "num = int(input(\"Enter a number : \"))\n",
    "ans = math.log(num)\n",
    "print(\"The natural logarithm of the number {} is {}\".format(num,ans))"
   ]
  },
  {
   "cell_type": "markdown",
   "id": "50be0d3f",
   "metadata": {},
   "source": [
    "5) Write a Python Program for cube sum of first n natural numbers?"
   ]
  },
  {
   "cell_type": "code",
   "execution_count": 12,
   "id": "2c89600b",
   "metadata": {},
   "outputs": [
    {
     "name": "stdout",
     "output_type": "stream",
     "text": [
      "Enter the number upto which you need to find the sum of cubes of number : 3\n",
      "The sum of Cube of number is :  36\n"
     ]
    }
   ],
   "source": [
    "# Solution\n",
    "\n",
    "n = int(input(\"Enter the number upto which you need to find the sum of cubes of number : \"))\n",
    "sum = 0\n",
    "for i in range(1,n+1):\n",
    "    sum = sum + (i**3)\n",
    "\n",
    "print(\"The sum of Cube of number is : \",sum)\n",
    "    "
   ]
  },
  {
   "cell_type": "code",
   "execution_count": null,
   "id": "b5a7bb08",
   "metadata": {},
   "outputs": [],
   "source": []
  },
  {
   "cell_type": "code",
   "execution_count": null,
   "id": "7afc253a",
   "metadata": {},
   "outputs": [],
   "source": []
  }
 ],
 "metadata": {
  "kernelspec": {
   "display_name": "Python 3 (ipykernel)",
   "language": "python",
   "name": "python3"
  },
  "language_info": {
   "codemirror_mode": {
    "name": "ipython",
    "version": 3
   },
   "file_extension": ".py",
   "mimetype": "text/x-python",
   "name": "python",
   "nbconvert_exporter": "python",
   "pygments_lexer": "ipython3",
   "version": "3.9.7"
  }
 },
 "nbformat": 4,
 "nbformat_minor": 5
}
