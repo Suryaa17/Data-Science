{
  "nbformat": 4,
  "nbformat_minor": 0,
  "metadata": {
    "colab": {
      "provenance": [],
      "collapsed_sections": []
    },
    "kernelspec": {
      "name": "python3",
      "display_name": "Python 3"
    },
    "language_info": {
      "name": "python"
    }
  },
  "cells": [
    {
      "cell_type": "code",
      "execution_count": null,
      "metadata": {
        "id": "2HQybixfMBMC"
      },
      "outputs": [],
      "source": [
        "                                                       PROGRAMMING ASSIGNMENT - 5"
      ]
    },
    {
      "cell_type": "markdown",
      "source": [
        "Name :- NT SURYAA"
      ],
      "metadata": {
        "id": "9X8GtVpfMGwd"
      }
    },
    {
      "cell_type": "markdown",
      "source": [
        "1) Write a Python Program to Find LCM?"
      ],
      "metadata": {
        "id": "miQvOXv9NZSx"
      }
    },
    {
      "cell_type": "code",
      "source": [
        "# Solution\n",
        "\n",
        "# In order to find LCM,I'm using HCF to find LCM\n",
        "# Formula ------->  LCM = (num1*num2)//HCF\n",
        "\n",
        "num1 = int(input(\"Enter the first number : \"))\n",
        "num2 = int(input(\"Enter the Second number : \"))\n",
        "\n",
        "for i in range(1,max(num1,num2)):\n",
        "  if (num1 % i == 0) and (num2 % i == 0):\n",
        "    hcf = i\n",
        "\n",
        "lcm = (num1*num2)//hcf\n",
        "print(\"The LCM of {} and {} is {}\".format(num1,num2,lcm))"
      ],
      "metadata": {
        "colab": {
          "base_uri": "https://localhost:8080/"
        },
        "id": "A7v5WpalNajS",
        "outputId": "f4828d86-9313-4924-c47a-f4c48bc6898c"
      },
      "execution_count": null,
      "outputs": [
        {
          "output_type": "stream",
          "name": "stdout",
          "text": [
            "Enter the first number : 5\n",
            "Enter the Second number : 10\n",
            "The LCM of 5 and 10 is 10\n"
          ]
        }
      ]
    },
    {
      "cell_type": "markdown",
      "source": [
        "2) Write a Python Program to Find HCF?"
      ],
      "metadata": {
        "id": "mB-SDPE2OeA5"
      }
    },
    {
      "cell_type": "code",
      "source": [
        "# Solution\n",
        "# Same method used in the previous question\n",
        "\n",
        "num1 = int(input(\"Enter the first number : \"))\n",
        "num2 = int(input(\"Enter the Second number : \"))\n",
        "\n",
        "for i in range(1,max(num1,num2)):\n",
        "  if (num1 % i == 0) and (num2 % i == 0):\n",
        "    hcf = i\n",
        "  \n",
        "print(\"The HCF of {} and {} is {}\".format(num1,num2,hcf))"
      ],
      "metadata": {
        "colab": {
          "base_uri": "https://localhost:8080/"
        },
        "id": "Iw3f1r7EOgja",
        "outputId": "e70c6d84-1d65-4c46-c176-bd904be463a3"
      },
      "execution_count": null,
      "outputs": [
        {
          "output_type": "stream",
          "name": "stdout",
          "text": [
            "Enter the first number : 6\n",
            "Enter the Second number : 24\n",
            "The HCF of 6 and 24 is 6\n"
          ]
        }
      ]
    },
    {
      "cell_type": "markdown",
      "source": [
        "3) Write a Python Program to Convert Decimal to Binary, Octal and Hexadecimal?"
      ],
      "metadata": {
        "id": "AFH8P21-PR5j"
      }
    },
    {
      "cell_type": "code",
      "source": [
        "# Solution\n",
        "decimal_number = int(input(\"Enter a number to convert the decimal into binary,octal,Hexadecimal : \"))\n",
        "\n",
        "# Binary\n",
        "binary_number = bin(decimal_number)\n",
        "print(\"The binary value of the given decimal number {} is {}\".format(decimal_number,binary_number))\n",
        "\n",
        "# Octal\n",
        "octal_number = oct(decimal_number)\n",
        "print(\"The octal value of the given decimal number {} is {}\".format(decimal_number,octal_number))\n",
        "\n",
        "# Hexadecimal\n",
        "hexadecimal_number = hex(decimal_number)\n",
        "print(\"The hexadecimal value of the given decimal number {} is {}\".format(decimal_number,hexadecimal_number))\n",
        "\n"
      ],
      "metadata": {
        "colab": {
          "base_uri": "https://localhost:8080/"
        },
        "id": "j_EE5DZRPaXU",
        "outputId": "c32c8f7a-d6d2-4e70-8bf2-970b55bf79ed"
      },
      "execution_count": null,
      "outputs": [
        {
          "output_type": "stream",
          "name": "stdout",
          "text": [
            "Enter a number to convert the decimal into binary,octal,Hexadecimal : 5\n",
            "The binary value of the given decimal number 5 is 0b101\n",
            "The octal value of the given decimal number 5 is 0o5\n",
            "The hexadecimal value of the given decimal number 5 is 0x5\n"
          ]
        }
      ]
    },
    {
      "cell_type": "markdown",
      "source": [
        "4) Write a Python Program To Find ASCII value of a character?"
      ],
      "metadata": {
        "id": "U1ES3eCYQ6yC"
      }
    },
    {
      "cell_type": "code",
      "source": [
        "# Solution\n",
        "\n",
        "# ord() function\n",
        "\n",
        "ch = input(\"Enter the character you want to find the ASCII value : \")\n",
        "print(\"The ASCII value of {} is {}\".format(ch,ord(ch)))"
      ],
      "metadata": {
        "colab": {
          "base_uri": "https://localhost:8080/"
        },
        "id": "O0UxP7AwQ_OY",
        "outputId": "2e3ef332-c866-4a58-b6af-0051365f1853"
      },
      "execution_count": null,
      "outputs": [
        {
          "output_type": "stream",
          "name": "stdout",
          "text": [
            "Enter the character you want to find the ASCII value : s\n",
            "The ASCII value of s is 115\n"
          ]
        }
      ]
    },
    {
      "cell_type": "markdown",
      "source": [
        "5) Write a Python Program to Make a Simple Calculator with 4 basic mathematical operations?"
      ],
      "metadata": {
        "id": "C6-A5UAwRyOk"
      }
    },
    {
      "cell_type": "code",
      "source": [
        "# Solution\n",
        "\n",
        "num1 = int(input(\"Enter the first number : \"))\n",
        "num2 = int(input(\"Enter the Second number : \"))\n",
        "op = int(input(\"Enter 1 For addition,2 for subtraction,3 for multiplication,4 for division,5 for exponentiation,6 for remainder : \"))\n",
        "\n",
        "if op == 1:\n",
        "  output = num1 + num2\n",
        "  print(\"The sum of {} and {} is {}\".format(num1,num2,output))\n",
        "\n",
        "elif op == 2:\n",
        "  output = num1 - num2\n",
        "  print(\"The difference of {} and {} is {}\".format(num1,num2,output))\n",
        "\n",
        "elif op == 3:\n",
        "  output = num1 * num2\n",
        "  print(\"The product of {} and {} is {}\".format(num1,num2,output))\n",
        "\n",
        "elif op == 4:\n",
        "  output = num1 / num2\n",
        "  print(\"The division of {} and {} is {}\".format(num1,num2,output))\n",
        "\n",
        "elif op == 5:\n",
        "  output = num1 ** num2\n",
        "  print(\"The exponent of {} and {} is {}\".format(num1,num2,output))\n",
        "\n",
        "elif op == 6:\n",
        "  output = num1 % num2\n",
        "  print(\"The remainder of {} and {} is {}\".format(num1,num2,output))\n",
        "\n",
        "else:\n",
        "  print(\"You  have given a wrong input\")"
      ],
      "metadata": {
        "colab": {
          "base_uri": "https://localhost:8080/"
        },
        "id": "D3sUUyGWR1fn",
        "outputId": "9e965de9-8b66-488b-d994-c79d21babe60"
      },
      "execution_count": null,
      "outputs": [
        {
          "output_type": "stream",
          "name": "stdout",
          "text": [
            "Enter the first number : 10\n",
            "Enter the Second number : 5\n",
            "Enter 1 For addition,2 for subtraction,3 for multiplication,4 for division,5 for exponentiation,6 for remainder : 3\n",
            "The product of 10 and 5 is 50\n"
          ]
        }
      ]
    }
  ]
}