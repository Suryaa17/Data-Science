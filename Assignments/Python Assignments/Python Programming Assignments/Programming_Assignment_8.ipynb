{
 "cells": [
  {
   "cell_type": "markdown",
   "id": "7e5f9a4c",
   "metadata": {},
   "source": [
    "# PROGRAMMING ASSIGNMENT - 8"
   ]
  },
  {
   "cell_type": "markdown",
   "id": "b1801b31",
   "metadata": {},
   "source": [
    "Name : NT SURYAA"
   ]
  },
  {
   "cell_type": "markdown",
   "id": "bfd00697",
   "metadata": {},
   "source": [
    "1) Write a Python Program to Add Two Matrices?"
   ]
  },
  {
   "cell_type": "code",
   "execution_count": 9,
   "id": "76d7e079",
   "metadata": {},
   "outputs": [
    {
     "name": "stdout",
     "output_type": "stream",
     "text": [
      "The sum of two matrices is : \n",
      "[2, 3, 4]\n",
      "[5, 6, 7]\n",
      "[8, 9, 10]\n"
     ]
    }
   ],
   "source": [
    "# Solution\n",
    "\n",
    "x = [[1,2,3],\n",
    "     [4,5,6],\n",
    "     [7,8,9]]\n",
    "\n",
    "y = [[1,1,1],\n",
    "     [1,1,1],\n",
    "     [1,1,1]]\n",
    "\n",
    "result = [[0,0,0],\n",
    "          [0,0,0],\n",
    "          [0,0,0]]\n",
    "for i in range(len(x)):\n",
    "    for j in range(len(y)):\n",
    "        result[i][j] = x[i][j] + y[i][j]\n",
    "\n",
    "print(\"The sum of two matrices is : \")\n",
    "for r in result:\n",
    "    print(r)"
   ]
  },
  {
   "cell_type": "markdown",
   "id": "46a90c85",
   "metadata": {},
   "source": [
    "2) Write a Python Program to Multiply Two Matrices?"
   ]
  },
  {
   "cell_type": "code",
   "execution_count": 7,
   "id": "c0e38b7c",
   "metadata": {},
   "outputs": [
    {
     "name": "stdout",
     "output_type": "stream",
     "text": [
      "The multiplication of two matrices is : \n",
      "[1, 2, 3]\n",
      "[4, 5, 6]\n",
      "[7, 8, 9]\n"
     ]
    }
   ],
   "source": [
    "# Solution\n",
    "\n",
    "x = [[1,2,3],\n",
    "     [4,5,6],\n",
    "     [7,8,9]]\n",
    "\n",
    "y = [[1,1,1],\n",
    "     [1,1,1],\n",
    "     [1,1,1]]\n",
    "\n",
    "result = [[0,0,0],\n",
    "          [0,0,0],\n",
    "          [0,0,0]]\n",
    "for i in range(len(x)):\n",
    "    for j in range(len(y)):\n",
    "        result[i][j] = x[i][j] * y[i][j]\n",
    "\n",
    "print(\"The multiplication of two matrices is : \")\n",
    "for r in result:\n",
    "    print(r)\n"
   ]
  },
  {
   "cell_type": "markdown",
   "id": "e5c3c48e",
   "metadata": {},
   "source": [
    "3) Write a Python Program to Transpose a Matrix?"
   ]
  },
  {
   "cell_type": "code",
   "execution_count": 8,
   "id": "ff4d6327",
   "metadata": {},
   "outputs": [
    {
     "name": "stdout",
     "output_type": "stream",
     "text": [
      "The traverse of the matrix is : \n",
      "[1, 4, 7]\n",
      "[2, 5, 8]\n",
      "[3, 6, 9]\n"
     ]
    }
   ],
   "source": [
    "# Solution\n",
    "\n",
    "\n",
    "x = [[1,2,3],\n",
    "     [4,5,6],\n",
    "     [7,8,9]]\n",
    "\n",
    "result = [[0,0,0],\n",
    "          [0,0,0],\n",
    "          [0,0,0]]\n",
    "\n",
    "for i in range(len(x)):\n",
    "    for j in range(len(y)):\n",
    "        result[j][i] = x[i][j]\n",
    "\n",
    "print(\"The traverse of the matrix is : \")\n",
    "for r in result:\n",
    "    print(r)\n"
   ]
  },
  {
   "cell_type": "markdown",
   "id": "35cdb300",
   "metadata": {},
   "source": [
    "4) Write a Python Program to Sort Words in Alphabetic Order?"
   ]
  },
  {
   "cell_type": "code",
   "execution_count": 12,
   "id": "bd599816",
   "metadata": {},
   "outputs": [
    {
     "name": "stdout",
     "output_type": "stream",
     "text": [
      "Enter the string : suryaa is a good boy\n",
      "a\n",
      "boy\n",
      "good\n",
      "is\n",
      "suryaa\n"
     ]
    }
   ],
   "source": [
    "# Solution\n",
    "\n",
    "string = str(input(\"Enter the string : \"))\n",
    "word = string.split()\n",
    "word.sort()\n",
    "\n",
    "for i in word:\n",
    "    print(i)"
   ]
  },
  {
   "cell_type": "markdown",
   "id": "657ce84d",
   "metadata": {},
   "source": [
    "5) Write a Python Program to Remove Punctuation From a String?"
   ]
  },
  {
   "cell_type": "code",
   "execution_count": 16,
   "id": "a0265bd4",
   "metadata": {},
   "outputs": [
    {
     "name": "stdout",
     "output_type": "stream",
     "text": [
      "Enter a string : Suryaa #$$%%%^&** is a Good ##$%^&* boy\n",
      "Suryaa  is a Good  boy\n"
     ]
    }
   ],
   "source": [
    "# Soution\n",
    "\n",
    "punct = \"!@#$%^&*()_?:;/[]{}|\"\n",
    "\n",
    "string = str(input(\"Enter a string : \"))\n",
    "\n",
    "new_str = \"\"\n",
    "\n",
    "for i in string:\n",
    "    if i not in punct:\n",
    "        new_str = new_str + i\n",
    "\n",
    "print(new_str)"
   ]
  },
  {
   "cell_type": "code",
   "execution_count": null,
   "id": "03b0814e",
   "metadata": {},
   "outputs": [],
   "source": []
  }
 ],
 "metadata": {
  "kernelspec": {
   "display_name": "Python 3 (ipykernel)",
   "language": "python",
   "name": "python3"
  },
  "language_info": {
   "codemirror_mode": {
    "name": "ipython",
    "version": 3
   },
   "file_extension": ".py",
   "mimetype": "text/x-python",
   "name": "python",
   "nbconvert_exporter": "python",
   "pygments_lexer": "ipython3",
   "version": "3.9.7"
  }
 },
 "nbformat": 4,
 "nbformat_minor": 5
}
