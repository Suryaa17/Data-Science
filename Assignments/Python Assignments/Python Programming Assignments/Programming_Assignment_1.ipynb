{
  "nbformat": 4,
  "nbformat_minor": 0,
  "metadata": {
    "colab": {
      "provenance": [],
      "collapsed_sections": []
    },
    "kernelspec": {
      "name": "python3",
      "display_name": "Python 3"
    },
    "language_info": {
      "name": "python"
    }
  },
  "cells": [
    {
      "cell_type": "code",
      "execution_count": null,
      "metadata": {
        "id": "ZEX98DhOm85v"
      },
      "outputs": [],
      "source": [
        "                                  PROGRAMMING ASSIGNMENT - 1"
      ]
    },
    {
      "cell_type": "markdown",
      "source": [
        "Name : NT SURYAA"
      ],
      "metadata": {
        "id": "y5J-w_Cen--4"
      }
    },
    {
      "cell_type": "markdown",
      "source": [
        "1) Write a Python program to print 'Hello Python'?"
      ],
      "metadata": {
        "id": "2bLjYt7OoFWe"
      }
    },
    {
      "cell_type": "code",
      "source": [
        "# Solution\n",
        "\n",
        "print(\"Hello Python\")"
      ],
      "metadata": {
        "colab": {
          "base_uri": "https://localhost:8080/"
        },
        "id": "fXtmxOwOoQNc",
        "outputId": "644ac8bf-f1e5-47c5-844a-69c9f17f8297"
      },
      "execution_count": 1,
      "outputs": [
        {
          "output_type": "stream",
          "name": "stdout",
          "text": [
            "Hello Python\n"
          ]
        }
      ]
    },
    {
      "cell_type": "markdown",
      "source": [
        "2) Write a Python program to do arithmetical operations addition and division.?"
      ],
      "metadata": {
        "id": "hsecNdfpocXA"
      }
    },
    {
      "cell_type": "code",
      "source": [
        "# Solution\n",
        "\n",
        "a = 100\n",
        "b = 20\n",
        "# Addition\n",
        "sum1 = a+b\n",
        "print(sum1)\n",
        "#Division\n",
        "div1 = a/b\n",
        "print(div1)"
      ],
      "metadata": {
        "colab": {
          "base_uri": "https://localhost:8080/"
        },
        "id": "d-tU3y4joitg",
        "outputId": "481dec02-a4c6-432e-85dc-1ad066cc59a3"
      },
      "execution_count": 2,
      "outputs": [
        {
          "output_type": "stream",
          "name": "stdout",
          "text": [
            "120\n",
            "5.0\n"
          ]
        }
      ]
    },
    {
      "cell_type": "markdown",
      "source": [
        "3) Write a Python program to find the area of a triangle?"
      ],
      "metadata": {
        "id": "XozHPZ3zoz5x"
      }
    },
    {
      "cell_type": "code",
      "source": [
        "# Solution\n",
        "\n",
        "b = int(input(\"Enter the value of base : \"))\n",
        "h = int(input(\"Enter the value of height : \"))\n",
        "area = (1/2)*b*h\n",
        "print(area)"
      ],
      "metadata": {
        "colab": {
          "base_uri": "https://localhost:8080/"
        },
        "id": "WrZBJoooo4iy",
        "outputId": "15d4ed71-1961-4f6a-b322-917b1f829f0e"
      },
      "execution_count": 3,
      "outputs": [
        {
          "output_type": "stream",
          "name": "stdout",
          "text": [
            "Enter the value of base : 10\n",
            "Enter the value of height : 20\n",
            "100.0\n"
          ]
        }
      ]
    },
    {
      "cell_type": "markdown",
      "source": [
        "4) Write a Python program to swap two variables?"
      ],
      "metadata": {
        "id": "rrqV5LsgphqP"
      }
    },
    {
      "cell_type": "code",
      "source": [
        "# Solution\n",
        "\n",
        "a = int(input(\"Enter value 1 : \"))\n",
        "b = int(input(\"Enter value 2 : \"))\n",
        "print(\"{} and {} are the values of a and b before swapping\".format(a,b))\n",
        "a,b = b,a\n",
        "print(\"{} and {} are the values of a and b after swapping\".format(a,b))\n"
      ],
      "metadata": {
        "colab": {
          "base_uri": "https://localhost:8080/"
        },
        "id": "ZDVPmYQHplp2",
        "outputId": "259ffbd7-0610-4819-b29f-2faada6d5635"
      },
      "execution_count": 4,
      "outputs": [
        {
          "output_type": "stream",
          "name": "stdout",
          "text": [
            "Enter value 1 : 10\n",
            "Enter value 2 : 20\n",
            "10 and 20 are the values of a and b before swapping\n",
            "20 and 10 are the values of a and b after swapping\n"
          ]
        }
      ]
    },
    {
      "cell_type": "markdown",
      "source": [
        "5) Write a Python program to generate a random number?"
      ],
      "metadata": {
        "id": "1fHtmj6OqERt"
      }
    },
    {
      "cell_type": "code",
      "source": [
        "# Solution\n",
        "\n",
        "import random\n",
        "a = random.randint(1,10000)\n",
        "print(a)"
      ],
      "metadata": {
        "colab": {
          "base_uri": "https://localhost:8080/"
        },
        "id": "466gI2M4qJJJ",
        "outputId": "550e6f8a-8057-43e1-9147-84edcabc9930"
      },
      "execution_count": 5,
      "outputs": [
        {
          "output_type": "stream",
          "name": "stdout",
          "text": [
            "1894\n"
          ]
        }
      ]
    }
  ]
}